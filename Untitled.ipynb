{
 "cells": [
  {
   "cell_type": "code",
   "execution_count": 82,
   "id": "smaller-arthur",
   "metadata": {},
   "outputs": [],
   "source": [
    "taxa = 0.0059\n",
    "valor_cota = 170.58"
   ]
  },
  {
   "cell_type": "code",
   "execution_count": 83,
   "id": "durable-alaska",
   "metadata": {},
   "outputs": [],
   "source": [
    "def simula_fii(valor_inicial, taxa, valor_cota, tempo_mes, aporte):\n",
    "    acumulado = 0\n",
    "    total = valor_inicial\n",
    "    for i in range (tempo_mes):\n",
    "        acumulado += total * taxa\n",
    "        total += aporte * valor_cota\n",
    "        if acumulado >= valor_cota:\n",
    "            total += (acumulado//valor_cota) * valor_cota\n",
    "            acumulado = acumulado - ((acumulado//valor_cota) * valor_cota)\n",
    "    total_bruto = total + acumulado\n",
    "    return round(total,2), round(acumulado,2), round(total_bruto,2), round(total*taxa,2)"
   ]
  },
  {
   "cell_type": "code",
   "execution_count": 105,
   "id": "seeing-obligation",
   "metadata": {},
   "outputs": [
    {
     "data": {
      "text/plain": [
       "(336937.64, 51.55, 336989.19, 1987.93)"
      ]
     },
     "execution_count": 105,
     "metadata": {},
     "output_type": "execute_result"
    }
   ],
   "source": [
    "simula_fii(20000, taxa, valor_cota, 120, 10)"
   ]
  },
  {
   "cell_type": "markdown",
   "id": "moving-specific",
   "metadata": {},
   "source": [
    "10 anos - 106065.76 com 4 cotas\n",
    "10 anos - 154208.6 com 5 cotas"
   ]
  },
  {
   "cell_type": "code",
   "execution_count": 98,
   "id": "annual-devil",
   "metadata": {},
   "outputs": [
    {
     "data": {
      "text/plain": [
       "2046.96"
      ]
     },
     "execution_count": 98,
     "metadata": {},
     "output_type": "execute_result"
    }
   ],
   "source": [
    "12*170.58"
   ]
  },
  {
   "cell_type": "code",
   "execution_count": 80,
   "id": "chronic-ribbon",
   "metadata": {},
   "outputs": [
    {
     "data": {
      "text/plain": [
       "7.722046174739701"
      ]
     },
     "execution_count": 80,
     "metadata": {},
     "output_type": "execute_result"
    }
   ],
   "source": [
    "852.9/110.45"
   ]
  },
  {
   "cell_type": "code",
   "execution_count": null,
   "id": "necessary-possibility",
   "metadata": {},
   "outputs": [],
   "source": []
  }
 ],
 "metadata": {
  "kernelspec": {
   "display_name": "Python 3",
   "language": "python",
   "name": "python3"
  },
  "language_info": {
   "codemirror_mode": {
    "name": "ipython",
    "version": 3
   },
   "file_extension": ".py",
   "mimetype": "text/x-python",
   "name": "python",
   "nbconvert_exporter": "python",
   "pygments_lexer": "ipython3",
   "version": "3.8.5"
  }
 },
 "nbformat": 4,
 "nbformat_minor": 5
}
