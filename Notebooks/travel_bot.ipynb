{
 "cells": [
  {
   "cell_type": "code",
   "execution_count": 1,
   "metadata": {},
   "outputs": [],
   "source": [
    "import telegram\n",
    "import requests\n",
    "import telegram_send\n",
    "import pandas as pd # Para evitar escrever pandas e trocar pela escrita apenas de pd para facilitar\n",
    "import plotly.graph_objects as go\n",
    "import matplotlib.pyplot as plt\n",
    "import yfinance as yf \n",
    "import schedule\n",
    "import time\n",
    "import os\n",
    "import matplotlib.pyplot as plt\n",
    "import plotly.graph_objects as go\n",
    "import stockstats\n",
    "\n",
    "from bs4 import BeautifulSoup\n",
    "from telegram.ext import Updater, CommandHandler, MessageHandler, Filters\n",
    "from pandas_datareader import data as web # Evita a escrita do data e troca pelo web\n",
    "from datetime import datetime\n",
    "from stockstats import StockDataFrame\n",
    "from plotly.subplots import make_subplots"
   ]
  },
  {
   "cell_type": "code",
   "execution_count": 2,
   "metadata": {},
   "outputs": [],
   "source": [
    "token = '1796099831:AAGteQJXlcNd2dLSSq0kbbqa0QoV0B_xtTU'\n",
    "    \n",
    "bot = telegram.Bot(token) #Replace TOKEN with your token string\n",
    "updater = Updater(token=token, use_context=True) #Replace TOKEN with your token string\n",
    "\n",
    "dispatcher = updater.dispatcher"
   ]
  },
  {
   "cell_type": "code",
   "execution_count": 3,
   "metadata": {},
   "outputs": [],
   "source": [
    "def get_coin_bid(coin):\n",
    "    response = requests.get('https://economia.awesomeapi.com.br/json/last/'+ coin)\n",
    "    result = response.json()\n",
    "    c = coin.replace('-','')\n",
    "    return result[c]['bid']"
   ]
  },
  {
   "cell_type": "code",
   "execution_count": 4,
   "metadata": {},
   "outputs": [],
   "source": [
    "def get_bdrs_price(paper):\n",
    "    response = 'https://statusinvest.com.br/bdrs/' + paper\n",
    "    result = requests.get(response)\n",
    "    soup = BeautifulSoup(result.content, 'html.parser')\n",
    "    stock_price = str(soup.find(class_='value')).split('>')[1].split('<')[0]\n",
    "    var = str(soup.find(title='Variação do valor do ativo com base no dia anterior'))\n",
    "    \n",
    "    var = var.split('\\n')[4].split('>')[1].split('<')[0]\n",
    "        \n",
    "    if not var.startswith('-'):\n",
    "        var = '+' + var\n",
    "            \n",
    "    return stock_price, var"
   ]
  },
  {
   "cell_type": "code",
   "execution_count": 5,
   "metadata": {},
   "outputs": [],
   "source": [
    "def get_fiis_price(paper):\n",
    "    response = 'https://statusinvest.com.br/fundos-imobiliarios/' + paper\n",
    "    result = requests.get(response)\n",
    "    soup = BeautifulSoup(result.content, 'html.parser')\n",
    "    stock_price = str(soup.find(class_='value'))\n",
    "    var = str(soup.find(title='Variação do valor do ativo com base no dia anterior'))\n",
    "    \n",
    "    if stock_price == 'None':\n",
    "        return get_bdrs_price(paper)\n",
    "    else: \n",
    "        stock_price = stock_price.split('>')[1].split('<')[0]\n",
    "        var = var.split('\\n')[4].split('>')[1].split('<')[0]\n",
    "        \n",
    "        if not var.startswith('-'):\n",
    "            var = '+' + var\n",
    "            \n",
    "        return stock_price, var\n",
    "    "
   ]
  },
  {
   "cell_type": "code",
   "execution_count": 6,
   "metadata": {},
   "outputs": [],
   "source": [
    "def get_stock_price(paper):\n",
    "    response = 'https://statusinvest.com.br/acoes/' + paper\n",
    "    result = requests.get(response)\n",
    "    soup = BeautifulSoup(result.content, 'html.parser')\n",
    "    stock_price = str(soup.find(class_='value'))\n",
    "    var = str(soup.find(title='Variação do valor do ativo com base no dia anterior'))\n",
    "    \n",
    "    if stock_price == 'None':\n",
    "        return get_fiis_price(paper)\n",
    "    else: \n",
    "        \n",
    "        stock_price = stock_price.split('>')[1].split('<')[0]\n",
    "        var = var.split('\\n')[4].split('>')[1].split('<')[0]\n",
    "        \n",
    "        if not var.startswith('-'):\n",
    "            var = '+' + var\n",
    "            \n",
    "        return stock_price, var\n",
    "    \n",
    "    \n",
    "    \n",
    "    "
   ]
  },
  {
   "cell_type": "code",
   "execution_count": 7,
   "metadata": {},
   "outputs": [],
   "source": [
    "def stock(update, context):\n",
    "    paper = \" \".join(context.args)\n",
    "    value = get_stock_price(paper.lower())\n",
    "    update.message.reply_text(paper.upper() + \": R$\" + value[0] + '\\n \\n Variação do dia: ' + value[1])"
   ]
  },
  {
   "cell_type": "code",
   "execution_count": 8,
   "metadata": {},
   "outputs": [],
   "source": [
    "def euro(update, context):\n",
    "    eur = \"Cotação do Euro Hoje: R$ \" + str(get_coin_bid('EUR-BRL')).replace('.',',')\n",
    "    context.bot.send_message(chat_id=update.effective_chat.id, text=eur)"
   ]
  },
  {
   "cell_type": "code",
   "execution_count": 9,
   "metadata": {},
   "outputs": [],
   "source": [
    "def vilzyn(update, context):\n",
    "    dol = \"Cotação do Dolar Hoje: R$ \" + str(get_coin_bid('USD-BRL')).replace('.',',')\n",
    "    context.bot.send_message(chat_id=update.effective_chat.id, text=dol)"
   ]
  },
  {
   "cell_type": "code",
   "execution_count": 10,
   "metadata": {},
   "outputs": [],
   "source": [
    "def dolar(update, context):\n",
    "    dol = \"Cotação do Dolar Hoje: R$ \" + str(get_coin_bid('USD-BRL')).replace('.',',')\n",
    "    context.bot.send_message(chat_id=update.effective_chat.id, text=dol)"
   ]
  },
  {
   "cell_type": "code",
   "execution_count": 11,
   "metadata": {},
   "outputs": [],
   "source": [
    "def chart(update, context):\n",
    "    paper = \" \".join(context.args)\n",
    "    get_stock_chart(paper)\n",
    "    context.bot.sendPhoto(chat_id=update.effective_chat.id, photo=open(paper + '.png', 'rb'))\n",
    "    os.remove(paper + '.png')"
   ]
  },
  {
   "cell_type": "code",
   "execution_count": 12,
   "metadata": {},
   "outputs": [],
   "source": [
    "def hey(update, context):\n",
    "    image = \"https://encrypted-tbn0.gstatic.com/images?q=tbn:ANd9GcRowHhdTB04EQSOcRuRTqLHvk96K4lS3UupYg&usqp=CAU\"\n",
    "    context.bot.sendPhoto(chat_id=update.effective_chat.id, photo = image, caption = 'Eai Kamako')"
   ]
  },
  {
   "cell_type": "code",
   "execution_count": null,
   "metadata": {},
   "outputs": [],
   "source": []
  },
  {
   "cell_type": "code",
   "execution_count": 65,
   "metadata": {},
   "outputs": [],
   "source": [
    "def get_stock_chart(paper):\n",
    "    data = yf.download(\n",
    "    tickers=paper + '.SA', \n",
    "    period=\"1w\",\n",
    "    interval=\"5m\")\n",
    "    # Plot the close prices\n",
    "    \n",
    "    data_rsi = yf.download(\n",
    "    tickers=paper + '.SA', \n",
    "    period=\"2mo\",\n",
    "    interval=\"1d\")\n",
    "    \n",
    "    \n",
    "    rsi = calculate_RSI(data_rsi)\n",
    "    \n",
    "    data = data.reset_index()\n",
    "    data = data.rename(columns={data.columns[0]:'Date'})\n",
    "    \n",
    "    fig = make_subplots(rows=2, cols=1, row_heights=[0.6, 0.4])\n",
    "    fig.add_trace(\n",
    "        go.Candlestick(x=data['Date'],\n",
    "            open=data['Open'],\n",
    "            high=data['High'],\n",
    "            low=data['Low'],\n",
    "            close=data['Close']),\n",
    "            row=1, col=1)\n",
    "    \n",
    "    fig.add_trace(\n",
    "        go.Scatter(x=rsi['Date'], y=rsi['RSI']),\n",
    "            row=2, col=1)\n",
    "    \n",
    "    fig.update_layout(xaxis_rangeslider_visible=False)\n",
    "    fig.update_layout(paper_bgcolor='#000326')\n",
    "    fig.update_layout(font_color='white')\n",
    "    fig.update_coloraxes(colorbar_tickfont_color='white')\n",
    "    fig.update_layout(plot_bgcolor='#000326')\n",
    "    fig.write_image(paper + '.png')\n",
    "    fig.show()\n",
    "    "
   ]
  },
  {
   "cell_type": "code",
   "execution_count": 66,
   "metadata": {},
   "outputs": [],
   "source": [
    "def calculate_RSI(data_rsi, n=14):\n",
    "    delta = data_rsi['Adj Close'].diff()\n",
    "    up = delta.clip(lower=0)\n",
    "    down = -1*delta.clip(upper=0)\n",
    "    ema_up = up.ewm(com=n-1, adjust=False).mean()\n",
    "    ema_down = down.ewm(com=n-1, adjust=False).mean()\n",
    "    rs = ema_up/ema_down\n",
    "    data_rsi['RSI'] = 100 - (100/(1 + rs))\n",
    "    data_rsi = data_rsi.iloc[14:]\n",
    "    data_rsi = data_rsi.reset_index()\n",
    "    return data_rsi\n",
    "    "
   ]
  },
  {
   "cell_type": "code",
   "execution_count": 67,
   "metadata": {},
   "outputs": [
    {
     "name": "stdout",
     "output_type": "stream",
     "text": [
      "[*********************100%***********************]  1 of 1 completed\n",
      "[*********************100%***********************]  1 of 1 completed\n"
     ]
    },
    {
     "data": {
      "application/vnd.plotly.v1+json": {
       "config": {
        "plotlyServerURL": "https://plot.ly"
       },
       "data": [
        {
         "close": [
          8.989999771118164,
          9.0600004196167,
          8.949999809265137,
          8.970000267028809,
          8.979999542236328,
          9.050000190734863,
          9.020000457763672,
          8.970000267028809,
          9,
          9.020000457763672,
          9.050000190734863,
          9.0600004196167,
          9.09000015258789,
          9.1899995803833,
          9.170000076293945,
          9.210000038146973,
          9.180000305175781,
          9.1899995803833,
          9.149999618530273,
          9.109999656677246,
          9.180000305175781,
          9.1899995803833,
          9.15999984741211,
          9.149999618530273,
          9.130000114440918,
          9.079999923706055,
          9.069999694824219,
          9.0600004196167,
          9.09000015258789,
          9.0600004196167,
          9.029999732971191,
          9.029999732971191,
          9.039999961853027,
          9.020000457763672,
          9.020000457763672,
          9.020000457763672,
          8.979999542236328,
          8.989999771118164,
          8.949999809265137,
          9,
          8.979999542236328,
          9.010000228881836,
          9.029999732971191,
          9,
          9,
          9.010000228881836,
          9,
          9.010000228881836,
          9.020000457763672,
          9.010000228881836,
          9.020000457763672,
          9.010000228881836,
          9.010000228881836,
          9.029999732971191,
          9.039999961853027,
          9.0600004196167,
          9.050000190734863,
          9.079999923706055,
          9.039999961853027,
          9.029999732971191,
          9.039999961853027,
          9.039999961853027,
          9.050000190734863,
          9.050000190734863,
          9.039999961853027,
          9.039999961853027,
          9.020000457763672,
          9.010000228881836,
          9,
          8.970000267028809,
          8.970000267028809,
          8.960000038146973,
          8.949999809265137,
          8.9399995803833,
          8.930000305175781,
          8.869999885559082,
          8.859999656677246,
          8.869999885559082,
          8.880000114440918,
          8.869999885559082,
          8.869999885559082,
          8.90999984741211,
          8.869999885559082
         ],
         "high": [
          9.100000381469727,
          9.09000015258789,
          9.069999694824219,
          8.989999771118164,
          8.989999771118164,
          9.100000381469727,
          9.050000190734863,
          9.029999732971191,
          9.010000228881836,
          9.039999961853027,
          9.0600004196167,
          9.079999923706055,
          9.119999885559082,
          9.1899995803833,
          9.199999809265137,
          9.220000267028809,
          9.229999542236328,
          9.199999809265137,
          9.1899995803833,
          9.149999618530273,
          9.1899995803833,
          9.1899995803833,
          9.180000305175781,
          9.15999984741211,
          9.15999984741211,
          9.140000343322754,
          9.100000381469727,
          9.079999923706055,
          9.100000381469727,
          9.100000381469727,
          9.069999694824219,
          9.039999961853027,
          9.050000190734863,
          9.039999961853027,
          9.020000457763672,
          9.029999732971191,
          9.020000457763672,
          8.989999771118164,
          8.979999542236328,
          9,
          9.010000228881836,
          9.029999732971191,
          9.050000190734863,
          9.039999961853027,
          9.020000457763672,
          9.020000457763672,
          9.029999732971191,
          9.010000228881836,
          9.029999732971191,
          9.029999732971191,
          9.029999732971191,
          9.020000457763672,
          9.010000228881836,
          9.039999961853027,
          9.039999961853027,
          9.0600004196167,
          9.069999694824219,
          9.079999923706055,
          9.079999923706055,
          9.0600004196167,
          9.050000190734863,
          9.050000190734863,
          9.079999923706055,
          9.050000190734863,
          9.050000190734863,
          9.039999961853027,
          9.039999961853027,
          9.020000457763672,
          9.020000457763672,
          9,
          8.989999771118164,
          8.970000267028809,
          8.970000267028809,
          8.970000267028809,
          8.9399995803833,
          8.920000076293945,
          8.890000343322754,
          8.890000343322754,
          8.890000343322754,
          8.880000114440918,
          8.899999618530273,
          8.920000076293945,
          8.869999885559082
         ],
         "low": [
          8.930000305175781,
          8.960000038146973,
          8.9399995803833,
          8.9399995803833,
          8.960000038146973,
          8.960000038146973,
          9,
          8.960000038146973,
          8.970000267028809,
          9.010000228881836,
          9.020000457763672,
          9.039999961853027,
          9.0600004196167,
          9.109999656677246,
          9.149999618530273,
          9.149999618530273,
          9.149999618530273,
          9.15999984741211,
          9.130000114440918,
          9.09000015258789,
          9.100000381469727,
          9.170000076293945,
          9.149999618530273,
          9.130000114440918,
          9.100000381469727,
          9.079999923706055,
          9.0600004196167,
          9.050000190734863,
          9.050000190734863,
          9.050000190734863,
          9.020000457763672,
          9,
          9.010000228881836,
          9.010000228881836,
          9,
          9,
          8.960000038146973,
          8.949999809265137,
          8.949999809265137,
          8.949999809265137,
          8.979999542236328,
          8.989999771118164,
          9.020000457763672,
          9,
          8.989999771118164,
          8.979999542236328,
          9,
          8.989999771118164,
          9.010000228881836,
          9,
          9.010000228881836,
          8.989999771118164,
          9,
          9.020000457763672,
          9.020000457763672,
          9.039999961853027,
          9.050000190734863,
          9.050000190734863,
          9.039999961853027,
          9.029999732971191,
          9.029999732971191,
          9.029999732971191,
          9.050000190734863,
          9.039999961853027,
          9.029999732971191,
          9.029999732971191,
          9.020000457763672,
          9,
          9,
          8.9399995803833,
          8.949999809265137,
          8.949999809265137,
          8.949999809265137,
          8.9399995803833,
          8.850000381469727,
          8.869999885559082,
          8.859999656677246,
          8.850000381469727,
          8.859999656677246,
          8.850000381469727,
          8.859999656677246,
          8.869999885559082,
          8.869999885559082
         ],
         "open": [
          9.100000381469727,
          8.970000267028809,
          9.0600004196167,
          8.960000038146973,
          8.970000267028809,
          8.970000267028809,
          9.039999961853027,
          9.020000457763672,
          8.979999542236328,
          9.020000457763672,
          9.029999732971191,
          9.050000190734863,
          9.069999694824219,
          9.109999656677246,
          9.199999809265137,
          9.170000076293945,
          9.210000038146973,
          9.180000305175781,
          9.1899995803833,
          9.149999618530273,
          9.109999656677246,
          9.180000305175781,
          9.180000305175781,
          9.15999984741211,
          9.15999984741211,
          9.130000114440918,
          9.100000381469727,
          9.069999694824219,
          9.0600004196167,
          9.09000015258789,
          9.0600004196167,
          9.020000457763672,
          9.029999732971191,
          9.029999732971191,
          9.020000457763672,
          9.010000228881836,
          9.010000228881836,
          8.979999542236328,
          8.979999542236328,
          8.949999809265137,
          8.989999771118164,
          9,
          9.020000457763672,
          9.020000457763672,
          9,
          9,
          9.010000228881836,
          8.989999771118164,
          9.010000228881836,
          9.029999732971191,
          9.010000228881836,
          9.020000457763672,
          9.010000228881836,
          9.020000457763672,
          9.020000457763672,
          9.039999961853027,
          9.0600004196167,
          9.050000190734863,
          9.079999923706055,
          9.050000190734863,
          9.029999732971191,
          9.039999961853027,
          9.050000190734863,
          9.039999961853027,
          9.050000190734863,
          9.029999732971191,
          9.029999732971191,
          9.010000228881836,
          9.010000228881836,
          9,
          8.970000267028809,
          8.970000267028809,
          8.960000038146973,
          8.949999809265137,
          8.930000305175781,
          8.90999984741211,
          8.869999885559082,
          8.869999885559082,
          8.869999885559082,
          8.880000114440918,
          8.869999885559082,
          8.890000343322754,
          8.869999885559082
         ],
         "type": "candlestick",
         "x": [
          "2021-06-17T10:05:00-03:00",
          "2021-06-17T10:10:00-03:00",
          "2021-06-17T10:15:00-03:00",
          "2021-06-17T10:20:00-03:00",
          "2021-06-17T10:25:00-03:00",
          "2021-06-17T10:30:00-03:00",
          "2021-06-17T10:35:00-03:00",
          "2021-06-17T10:40:00-03:00",
          "2021-06-17T10:45:00-03:00",
          "2021-06-17T10:50:00-03:00",
          "2021-06-17T10:55:00-03:00",
          "2021-06-17T11:00:00-03:00",
          "2021-06-17T11:05:00-03:00",
          "2021-06-17T11:10:00-03:00",
          "2021-06-17T11:15:00-03:00",
          "2021-06-17T11:20:00-03:00",
          "2021-06-17T11:25:00-03:00",
          "2021-06-17T11:30:00-03:00",
          "2021-06-17T11:35:00-03:00",
          "2021-06-17T11:40:00-03:00",
          "2021-06-17T11:45:00-03:00",
          "2021-06-17T11:50:00-03:00",
          "2021-06-17T11:55:00-03:00",
          "2021-06-17T12:00:00-03:00",
          "2021-06-17T12:05:00-03:00",
          "2021-06-17T12:10:00-03:00",
          "2021-06-17T12:15:00-03:00",
          "2021-06-17T12:20:00-03:00",
          "2021-06-17T12:25:00-03:00",
          "2021-06-17T12:30:00-03:00",
          "2021-06-17T12:35:00-03:00",
          "2021-06-17T12:40:00-03:00",
          "2021-06-17T12:45:00-03:00",
          "2021-06-17T12:50:00-03:00",
          "2021-06-17T12:55:00-03:00",
          "2021-06-17T13:00:00-03:00",
          "2021-06-17T13:05:00-03:00",
          "2021-06-17T13:10:00-03:00",
          "2021-06-17T13:15:00-03:00",
          "2021-06-17T13:20:00-03:00",
          "2021-06-17T13:25:00-03:00",
          "2021-06-17T13:30:00-03:00",
          "2021-06-17T13:35:00-03:00",
          "2021-06-17T13:40:00-03:00",
          "2021-06-17T13:45:00-03:00",
          "2021-06-17T13:50:00-03:00",
          "2021-06-17T13:55:00-03:00",
          "2021-06-17T14:00:00-03:00",
          "2021-06-17T14:05:00-03:00",
          "2021-06-17T14:10:00-03:00",
          "2021-06-17T14:15:00-03:00",
          "2021-06-17T14:20:00-03:00",
          "2021-06-17T14:25:00-03:00",
          "2021-06-17T14:30:00-03:00",
          "2021-06-17T14:35:00-03:00",
          "2021-06-17T14:40:00-03:00",
          "2021-06-17T14:45:00-03:00",
          "2021-06-17T14:50:00-03:00",
          "2021-06-17T14:55:00-03:00",
          "2021-06-17T15:00:00-03:00",
          "2021-06-17T15:05:00-03:00",
          "2021-06-17T15:10:00-03:00",
          "2021-06-17T15:15:00-03:00",
          "2021-06-17T15:20:00-03:00",
          "2021-06-17T15:25:00-03:00",
          "2021-06-17T15:30:00-03:00",
          "2021-06-17T15:35:00-03:00",
          "2021-06-17T15:40:00-03:00",
          "2021-06-17T15:45:00-03:00",
          "2021-06-17T15:50:00-03:00",
          "2021-06-17T15:55:00-03:00",
          "2021-06-17T16:00:00-03:00",
          "2021-06-17T16:05:00-03:00",
          "2021-06-17T16:10:00-03:00",
          "2021-06-17T16:15:00-03:00",
          "2021-06-17T16:20:00-03:00",
          "2021-06-17T16:25:00-03:00",
          "2021-06-17T16:30:00-03:00",
          "2021-06-17T16:35:00-03:00",
          "2021-06-17T16:40:00-03:00",
          "2021-06-17T16:45:00-03:00",
          "2021-06-17T16:50:00-03:00",
          "2021-06-17T17:00:00-03:00"
         ],
         "xaxis": "x",
         "yaxis": "y"
        },
        {
         "type": "scatter",
         "x": [
          "2021-05-10T00:00:00",
          "2021-05-11T00:00:00",
          "2021-05-12T00:00:00",
          "2021-05-13T00:00:00",
          "2021-05-14T00:00:00",
          "2021-05-17T00:00:00",
          "2021-05-18T00:00:00",
          "2021-05-19T00:00:00",
          "2021-05-20T00:00:00",
          "2021-05-21T00:00:00",
          "2021-05-24T00:00:00",
          "2021-05-25T00:00:00",
          "2021-05-26T00:00:00",
          "2021-05-27T00:00:00",
          "2021-05-28T00:00:00",
          "2021-05-31T00:00:00",
          "2021-06-01T00:00:00",
          "2021-06-02T00:00:00",
          "2021-06-04T00:00:00",
          "2021-06-07T00:00:00",
          "2021-06-08T00:00:00",
          "2021-06-09T00:00:00",
          "2021-06-10T00:00:00",
          "2021-06-11T00:00:00",
          "2021-06-14T00:00:00",
          "2021-06-15T00:00:00",
          "2021-06-16T00:00:00",
          "2021-06-17T00:00:00"
         ],
         "xaxis": "x2",
         "y": [
          53.36664926522753,
          59.834447111960785,
          50.2768649783455,
          49.36698374444356,
          58.964149768499645,
          66.39529537079989,
          60.63445586735008,
          62.828150382705964,
          64.76640278637493,
          62.531868285475554,
          55.46601695656234,
          55.69068487484629,
          60.61235147777915,
          68.48081881447284,
          72.21658728279694,
          75.81768328205783,
          76.00903972053996,
          81.76016438504462,
          75.2013700975401,
          76.18876991668911,
          81.11491580491008,
          78.01939418389951,
          71.26094323538697,
          71.350035862982,
          76.71402464730318,
          69.59611382844979,
          70.84465337809536,
          65.44228945626867
         ],
         "yaxis": "y2"
        }
       ],
       "layout": {
        "coloraxis": {
         "colorbar": {
          "tickfont": {
           "color": "white"
          }
         }
        },
        "font": {
         "color": "white"
        },
        "paper_bgcolor": "#000326",
        "plot_bgcolor": "#000326",
        "template": {
         "data": {
          "bar": [
           {
            "error_x": {
             "color": "#2a3f5f"
            },
            "error_y": {
             "color": "#2a3f5f"
            },
            "marker": {
             "line": {
              "color": "#E5ECF6",
              "width": 0.5
             }
            },
            "type": "bar"
           }
          ],
          "barpolar": [
           {
            "marker": {
             "line": {
              "color": "#E5ECF6",
              "width": 0.5
             }
            },
            "type": "barpolar"
           }
          ],
          "carpet": [
           {
            "aaxis": {
             "endlinecolor": "#2a3f5f",
             "gridcolor": "white",
             "linecolor": "white",
             "minorgridcolor": "white",
             "startlinecolor": "#2a3f5f"
            },
            "baxis": {
             "endlinecolor": "#2a3f5f",
             "gridcolor": "white",
             "linecolor": "white",
             "minorgridcolor": "white",
             "startlinecolor": "#2a3f5f"
            },
            "type": "carpet"
           }
          ],
          "choropleth": [
           {
            "colorbar": {
             "outlinewidth": 0,
             "ticks": ""
            },
            "type": "choropleth"
           }
          ],
          "contour": [
           {
            "colorbar": {
             "outlinewidth": 0,
             "ticks": ""
            },
            "colorscale": [
             [
              0,
              "#0d0887"
             ],
             [
              0.1111111111111111,
              "#46039f"
             ],
             [
              0.2222222222222222,
              "#7201a8"
             ],
             [
              0.3333333333333333,
              "#9c179e"
             ],
             [
              0.4444444444444444,
              "#bd3786"
             ],
             [
              0.5555555555555556,
              "#d8576b"
             ],
             [
              0.6666666666666666,
              "#ed7953"
             ],
             [
              0.7777777777777778,
              "#fb9f3a"
             ],
             [
              0.8888888888888888,
              "#fdca26"
             ],
             [
              1,
              "#f0f921"
             ]
            ],
            "type": "contour"
           }
          ],
          "contourcarpet": [
           {
            "colorbar": {
             "outlinewidth": 0,
             "ticks": ""
            },
            "type": "contourcarpet"
           }
          ],
          "heatmap": [
           {
            "colorbar": {
             "outlinewidth": 0,
             "ticks": ""
            },
            "colorscale": [
             [
              0,
              "#0d0887"
             ],
             [
              0.1111111111111111,
              "#46039f"
             ],
             [
              0.2222222222222222,
              "#7201a8"
             ],
             [
              0.3333333333333333,
              "#9c179e"
             ],
             [
              0.4444444444444444,
              "#bd3786"
             ],
             [
              0.5555555555555556,
              "#d8576b"
             ],
             [
              0.6666666666666666,
              "#ed7953"
             ],
             [
              0.7777777777777778,
              "#fb9f3a"
             ],
             [
              0.8888888888888888,
              "#fdca26"
             ],
             [
              1,
              "#f0f921"
             ]
            ],
            "type": "heatmap"
           }
          ],
          "heatmapgl": [
           {
            "colorbar": {
             "outlinewidth": 0,
             "ticks": ""
            },
            "colorscale": [
             [
              0,
              "#0d0887"
             ],
             [
              0.1111111111111111,
              "#46039f"
             ],
             [
              0.2222222222222222,
              "#7201a8"
             ],
             [
              0.3333333333333333,
              "#9c179e"
             ],
             [
              0.4444444444444444,
              "#bd3786"
             ],
             [
              0.5555555555555556,
              "#d8576b"
             ],
             [
              0.6666666666666666,
              "#ed7953"
             ],
             [
              0.7777777777777778,
              "#fb9f3a"
             ],
             [
              0.8888888888888888,
              "#fdca26"
             ],
             [
              1,
              "#f0f921"
             ]
            ],
            "type": "heatmapgl"
           }
          ],
          "histogram": [
           {
            "marker": {
             "colorbar": {
              "outlinewidth": 0,
              "ticks": ""
             }
            },
            "type": "histogram"
           }
          ],
          "histogram2d": [
           {
            "colorbar": {
             "outlinewidth": 0,
             "ticks": ""
            },
            "colorscale": [
             [
              0,
              "#0d0887"
             ],
             [
              0.1111111111111111,
              "#46039f"
             ],
             [
              0.2222222222222222,
              "#7201a8"
             ],
             [
              0.3333333333333333,
              "#9c179e"
             ],
             [
              0.4444444444444444,
              "#bd3786"
             ],
             [
              0.5555555555555556,
              "#d8576b"
             ],
             [
              0.6666666666666666,
              "#ed7953"
             ],
             [
              0.7777777777777778,
              "#fb9f3a"
             ],
             [
              0.8888888888888888,
              "#fdca26"
             ],
             [
              1,
              "#f0f921"
             ]
            ],
            "type": "histogram2d"
           }
          ],
          "histogram2dcontour": [
           {
            "colorbar": {
             "outlinewidth": 0,
             "ticks": ""
            },
            "colorscale": [
             [
              0,
              "#0d0887"
             ],
             [
              0.1111111111111111,
              "#46039f"
             ],
             [
              0.2222222222222222,
              "#7201a8"
             ],
             [
              0.3333333333333333,
              "#9c179e"
             ],
             [
              0.4444444444444444,
              "#bd3786"
             ],
             [
              0.5555555555555556,
              "#d8576b"
             ],
             [
              0.6666666666666666,
              "#ed7953"
             ],
             [
              0.7777777777777778,
              "#fb9f3a"
             ],
             [
              0.8888888888888888,
              "#fdca26"
             ],
             [
              1,
              "#f0f921"
             ]
            ],
            "type": "histogram2dcontour"
           }
          ],
          "mesh3d": [
           {
            "colorbar": {
             "outlinewidth": 0,
             "ticks": ""
            },
            "type": "mesh3d"
           }
          ],
          "parcoords": [
           {
            "line": {
             "colorbar": {
              "outlinewidth": 0,
              "ticks": ""
             }
            },
            "type": "parcoords"
           }
          ],
          "pie": [
           {
            "automargin": true,
            "type": "pie"
           }
          ],
          "scatter": [
           {
            "marker": {
             "colorbar": {
              "outlinewidth": 0,
              "ticks": ""
             }
            },
            "type": "scatter"
           }
          ],
          "scatter3d": [
           {
            "line": {
             "colorbar": {
              "outlinewidth": 0,
              "ticks": ""
             }
            },
            "marker": {
             "colorbar": {
              "outlinewidth": 0,
              "ticks": ""
             }
            },
            "type": "scatter3d"
           }
          ],
          "scattercarpet": [
           {
            "marker": {
             "colorbar": {
              "outlinewidth": 0,
              "ticks": ""
             }
            },
            "type": "scattercarpet"
           }
          ],
          "scattergeo": [
           {
            "marker": {
             "colorbar": {
              "outlinewidth": 0,
              "ticks": ""
             }
            },
            "type": "scattergeo"
           }
          ],
          "scattergl": [
           {
            "marker": {
             "colorbar": {
              "outlinewidth": 0,
              "ticks": ""
             }
            },
            "type": "scattergl"
           }
          ],
          "scattermapbox": [
           {
            "marker": {
             "colorbar": {
              "outlinewidth": 0,
              "ticks": ""
             }
            },
            "type": "scattermapbox"
           }
          ],
          "scatterpolar": [
           {
            "marker": {
             "colorbar": {
              "outlinewidth": 0,
              "ticks": ""
             }
            },
            "type": "scatterpolar"
           }
          ],
          "scatterpolargl": [
           {
            "marker": {
             "colorbar": {
              "outlinewidth": 0,
              "ticks": ""
             }
            },
            "type": "scatterpolargl"
           }
          ],
          "scatterternary": [
           {
            "marker": {
             "colorbar": {
              "outlinewidth": 0,
              "ticks": ""
             }
            },
            "type": "scatterternary"
           }
          ],
          "surface": [
           {
            "colorbar": {
             "outlinewidth": 0,
             "ticks": ""
            },
            "colorscale": [
             [
              0,
              "#0d0887"
             ],
             [
              0.1111111111111111,
              "#46039f"
             ],
             [
              0.2222222222222222,
              "#7201a8"
             ],
             [
              0.3333333333333333,
              "#9c179e"
             ],
             [
              0.4444444444444444,
              "#bd3786"
             ],
             [
              0.5555555555555556,
              "#d8576b"
             ],
             [
              0.6666666666666666,
              "#ed7953"
             ],
             [
              0.7777777777777778,
              "#fb9f3a"
             ],
             [
              0.8888888888888888,
              "#fdca26"
             ],
             [
              1,
              "#f0f921"
             ]
            ],
            "type": "surface"
           }
          ],
          "table": [
           {
            "cells": {
             "fill": {
              "color": "#EBF0F8"
             },
             "line": {
              "color": "white"
             }
            },
            "header": {
             "fill": {
              "color": "#C8D4E3"
             },
             "line": {
              "color": "white"
             }
            },
            "type": "table"
           }
          ]
         },
         "layout": {
          "annotationdefaults": {
           "arrowcolor": "#2a3f5f",
           "arrowhead": 0,
           "arrowwidth": 1
          },
          "autotypenumbers": "strict",
          "coloraxis": {
           "colorbar": {
            "outlinewidth": 0,
            "ticks": ""
           }
          },
          "colorscale": {
           "diverging": [
            [
             0,
             "#8e0152"
            ],
            [
             0.1,
             "#c51b7d"
            ],
            [
             0.2,
             "#de77ae"
            ],
            [
             0.3,
             "#f1b6da"
            ],
            [
             0.4,
             "#fde0ef"
            ],
            [
             0.5,
             "#f7f7f7"
            ],
            [
             0.6,
             "#e6f5d0"
            ],
            [
             0.7,
             "#b8e186"
            ],
            [
             0.8,
             "#7fbc41"
            ],
            [
             0.9,
             "#4d9221"
            ],
            [
             1,
             "#276419"
            ]
           ],
           "sequential": [
            [
             0,
             "#0d0887"
            ],
            [
             0.1111111111111111,
             "#46039f"
            ],
            [
             0.2222222222222222,
             "#7201a8"
            ],
            [
             0.3333333333333333,
             "#9c179e"
            ],
            [
             0.4444444444444444,
             "#bd3786"
            ],
            [
             0.5555555555555556,
             "#d8576b"
            ],
            [
             0.6666666666666666,
             "#ed7953"
            ],
            [
             0.7777777777777778,
             "#fb9f3a"
            ],
            [
             0.8888888888888888,
             "#fdca26"
            ],
            [
             1,
             "#f0f921"
            ]
           ],
           "sequentialminus": [
            [
             0,
             "#0d0887"
            ],
            [
             0.1111111111111111,
             "#46039f"
            ],
            [
             0.2222222222222222,
             "#7201a8"
            ],
            [
             0.3333333333333333,
             "#9c179e"
            ],
            [
             0.4444444444444444,
             "#bd3786"
            ],
            [
             0.5555555555555556,
             "#d8576b"
            ],
            [
             0.6666666666666666,
             "#ed7953"
            ],
            [
             0.7777777777777778,
             "#fb9f3a"
            ],
            [
             0.8888888888888888,
             "#fdca26"
            ],
            [
             1,
             "#f0f921"
            ]
           ]
          },
          "colorway": [
           "#636efa",
           "#EF553B",
           "#00cc96",
           "#ab63fa",
           "#FFA15A",
           "#19d3f3",
           "#FF6692",
           "#B6E880",
           "#FF97FF",
           "#FECB52"
          ],
          "font": {
           "color": "#2a3f5f"
          },
          "geo": {
           "bgcolor": "white",
           "lakecolor": "white",
           "landcolor": "#E5ECF6",
           "showlakes": true,
           "showland": true,
           "subunitcolor": "white"
          },
          "hoverlabel": {
           "align": "left"
          },
          "hovermode": "closest",
          "mapbox": {
           "style": "light"
          },
          "paper_bgcolor": "white",
          "plot_bgcolor": "#E5ECF6",
          "polar": {
           "angularaxis": {
            "gridcolor": "white",
            "linecolor": "white",
            "ticks": ""
           },
           "bgcolor": "#E5ECF6",
           "radialaxis": {
            "gridcolor": "white",
            "linecolor": "white",
            "ticks": ""
           }
          },
          "scene": {
           "xaxis": {
            "backgroundcolor": "#E5ECF6",
            "gridcolor": "white",
            "gridwidth": 2,
            "linecolor": "white",
            "showbackground": true,
            "ticks": "",
            "zerolinecolor": "white"
           },
           "yaxis": {
            "backgroundcolor": "#E5ECF6",
            "gridcolor": "white",
            "gridwidth": 2,
            "linecolor": "white",
            "showbackground": true,
            "ticks": "",
            "zerolinecolor": "white"
           },
           "zaxis": {
            "backgroundcolor": "#E5ECF6",
            "gridcolor": "white",
            "gridwidth": 2,
            "linecolor": "white",
            "showbackground": true,
            "ticks": "",
            "zerolinecolor": "white"
           }
          },
          "shapedefaults": {
           "line": {
            "color": "#2a3f5f"
           }
          },
          "ternary": {
           "aaxis": {
            "gridcolor": "white",
            "linecolor": "white",
            "ticks": ""
           },
           "baxis": {
            "gridcolor": "white",
            "linecolor": "white",
            "ticks": ""
           },
           "bgcolor": "#E5ECF6",
           "caxis": {
            "gridcolor": "white",
            "linecolor": "white",
            "ticks": ""
           }
          },
          "title": {
           "x": 0.05
          },
          "xaxis": {
           "automargin": true,
           "gridcolor": "white",
           "linecolor": "white",
           "ticks": "",
           "title": {
            "standoff": 15
           },
           "zerolinecolor": "white",
           "zerolinewidth": 2
          },
          "yaxis": {
           "automargin": true,
           "gridcolor": "white",
           "linecolor": "white",
           "ticks": "",
           "title": {
            "standoff": 15
           },
           "zerolinecolor": "white",
           "zerolinewidth": 2
          }
         }
        },
        "xaxis": {
         "anchor": "y",
         "domain": [
          0,
          1
         ],
         "rangeslider": {
          "visible": false
         }
        },
        "xaxis2": {
         "anchor": "y2",
         "domain": [
          0,
          1
         ]
        },
        "yaxis": {
         "anchor": "x",
         "domain": [
          0.49,
          1
         ]
        },
        "yaxis2": {
         "anchor": "x2",
         "domain": [
          0,
          0.34
         ]
        }
       }
      },
      "text/html": [
       "<div>                            <div id=\"78b43944-eea4-49de-b6ad-428d3a1aa3bd\" class=\"plotly-graph-div\" style=\"height:525px; width:100%;\"></div>            <script type=\"text/javascript\">                require([\"plotly\"], function(Plotly) {                    window.PLOTLYENV=window.PLOTLYENV || {};                                    if (document.getElementById(\"78b43944-eea4-49de-b6ad-428d3a1aa3bd\")) {                    Plotly.newPlot(                        \"78b43944-eea4-49de-b6ad-428d3a1aa3bd\",                        [{\"close\": [8.989999771118164, 9.0600004196167, 8.949999809265137, 8.970000267028809, 8.979999542236328, 9.050000190734863, 9.020000457763672, 8.970000267028809, 9.0, 9.020000457763672, 9.050000190734863, 9.0600004196167, 9.09000015258789, 9.1899995803833, 9.170000076293945, 9.210000038146973, 9.180000305175781, 9.1899995803833, 9.149999618530273, 9.109999656677246, 9.180000305175781, 9.1899995803833, 9.15999984741211, 9.149999618530273, 9.130000114440918, 9.079999923706055, 9.069999694824219, 9.0600004196167, 9.09000015258789, 9.0600004196167, 9.029999732971191, 9.029999732971191, 9.039999961853027, 9.020000457763672, 9.020000457763672, 9.020000457763672, 8.979999542236328, 8.989999771118164, 8.949999809265137, 9.0, 8.979999542236328, 9.010000228881836, 9.029999732971191, 9.0, 9.0, 9.010000228881836, 9.0, 9.010000228881836, 9.020000457763672, 9.010000228881836, 9.020000457763672, 9.010000228881836, 9.010000228881836, 9.029999732971191, 9.039999961853027, 9.0600004196167, 9.050000190734863, 9.079999923706055, 9.039999961853027, 9.029999732971191, 9.039999961853027, 9.039999961853027, 9.050000190734863, 9.050000190734863, 9.039999961853027, 9.039999961853027, 9.020000457763672, 9.010000228881836, 9.0, 8.970000267028809, 8.970000267028809, 8.960000038146973, 8.949999809265137, 8.9399995803833, 8.930000305175781, 8.869999885559082, 8.859999656677246, 8.869999885559082, 8.880000114440918, 8.869999885559082, 8.869999885559082, 8.90999984741211, 8.869999885559082], \"high\": [9.100000381469727, 9.09000015258789, 9.069999694824219, 8.989999771118164, 8.989999771118164, 9.100000381469727, 9.050000190734863, 9.029999732971191, 9.010000228881836, 9.039999961853027, 9.0600004196167, 9.079999923706055, 9.119999885559082, 9.1899995803833, 9.199999809265137, 9.220000267028809, 9.229999542236328, 9.199999809265137, 9.1899995803833, 9.149999618530273, 9.1899995803833, 9.1899995803833, 9.180000305175781, 9.15999984741211, 9.15999984741211, 9.140000343322754, 9.100000381469727, 9.079999923706055, 9.100000381469727, 9.100000381469727, 9.069999694824219, 9.039999961853027, 9.050000190734863, 9.039999961853027, 9.020000457763672, 9.029999732971191, 9.020000457763672, 8.989999771118164, 8.979999542236328, 9.0, 9.010000228881836, 9.029999732971191, 9.050000190734863, 9.039999961853027, 9.020000457763672, 9.020000457763672, 9.029999732971191, 9.010000228881836, 9.029999732971191, 9.029999732971191, 9.029999732971191, 9.020000457763672, 9.010000228881836, 9.039999961853027, 9.039999961853027, 9.0600004196167, 9.069999694824219, 9.079999923706055, 9.079999923706055, 9.0600004196167, 9.050000190734863, 9.050000190734863, 9.079999923706055, 9.050000190734863, 9.050000190734863, 9.039999961853027, 9.039999961853027, 9.020000457763672, 9.020000457763672, 9.0, 8.989999771118164, 8.970000267028809, 8.970000267028809, 8.970000267028809, 8.9399995803833, 8.920000076293945, 8.890000343322754, 8.890000343322754, 8.890000343322754, 8.880000114440918, 8.899999618530273, 8.920000076293945, 8.869999885559082], \"low\": [8.930000305175781, 8.960000038146973, 8.9399995803833, 8.9399995803833, 8.960000038146973, 8.960000038146973, 9.0, 8.960000038146973, 8.970000267028809, 9.010000228881836, 9.020000457763672, 9.039999961853027, 9.0600004196167, 9.109999656677246, 9.149999618530273, 9.149999618530273, 9.149999618530273, 9.15999984741211, 9.130000114440918, 9.09000015258789, 9.100000381469727, 9.170000076293945, 9.149999618530273, 9.130000114440918, 9.100000381469727, 9.079999923706055, 9.0600004196167, 9.050000190734863, 9.050000190734863, 9.050000190734863, 9.020000457763672, 9.0, 9.010000228881836, 9.010000228881836, 9.0, 9.0, 8.960000038146973, 8.949999809265137, 8.949999809265137, 8.949999809265137, 8.979999542236328, 8.989999771118164, 9.020000457763672, 9.0, 8.989999771118164, 8.979999542236328, 9.0, 8.989999771118164, 9.010000228881836, 9.0, 9.010000228881836, 8.989999771118164, 9.0, 9.020000457763672, 9.020000457763672, 9.039999961853027, 9.050000190734863, 9.050000190734863, 9.039999961853027, 9.029999732971191, 9.029999732971191, 9.029999732971191, 9.050000190734863, 9.039999961853027, 9.029999732971191, 9.029999732971191, 9.020000457763672, 9.0, 9.0, 8.9399995803833, 8.949999809265137, 8.949999809265137, 8.949999809265137, 8.9399995803833, 8.850000381469727, 8.869999885559082, 8.859999656677246, 8.850000381469727, 8.859999656677246, 8.850000381469727, 8.859999656677246, 8.869999885559082, 8.869999885559082], \"open\": [9.100000381469727, 8.970000267028809, 9.0600004196167, 8.960000038146973, 8.970000267028809, 8.970000267028809, 9.039999961853027, 9.020000457763672, 8.979999542236328, 9.020000457763672, 9.029999732971191, 9.050000190734863, 9.069999694824219, 9.109999656677246, 9.199999809265137, 9.170000076293945, 9.210000038146973, 9.180000305175781, 9.1899995803833, 9.149999618530273, 9.109999656677246, 9.180000305175781, 9.180000305175781, 9.15999984741211, 9.15999984741211, 9.130000114440918, 9.100000381469727, 9.069999694824219, 9.0600004196167, 9.09000015258789, 9.0600004196167, 9.020000457763672, 9.029999732971191, 9.029999732971191, 9.020000457763672, 9.010000228881836, 9.010000228881836, 8.979999542236328, 8.979999542236328, 8.949999809265137, 8.989999771118164, 9.0, 9.020000457763672, 9.020000457763672, 9.0, 9.0, 9.010000228881836, 8.989999771118164, 9.010000228881836, 9.029999732971191, 9.010000228881836, 9.020000457763672, 9.010000228881836, 9.020000457763672, 9.020000457763672, 9.039999961853027, 9.0600004196167, 9.050000190734863, 9.079999923706055, 9.050000190734863, 9.029999732971191, 9.039999961853027, 9.050000190734863, 9.039999961853027, 9.050000190734863, 9.029999732971191, 9.029999732971191, 9.010000228881836, 9.010000228881836, 9.0, 8.970000267028809, 8.970000267028809, 8.960000038146973, 8.949999809265137, 8.930000305175781, 8.90999984741211, 8.869999885559082, 8.869999885559082, 8.869999885559082, 8.880000114440918, 8.869999885559082, 8.890000343322754, 8.869999885559082], \"type\": \"candlestick\", \"x\": [\"2021-06-17T10:05:00-03:00\", \"2021-06-17T10:10:00-03:00\", \"2021-06-17T10:15:00-03:00\", \"2021-06-17T10:20:00-03:00\", \"2021-06-17T10:25:00-03:00\", \"2021-06-17T10:30:00-03:00\", \"2021-06-17T10:35:00-03:00\", \"2021-06-17T10:40:00-03:00\", \"2021-06-17T10:45:00-03:00\", \"2021-06-17T10:50:00-03:00\", \"2021-06-17T10:55:00-03:00\", \"2021-06-17T11:00:00-03:00\", \"2021-06-17T11:05:00-03:00\", \"2021-06-17T11:10:00-03:00\", \"2021-06-17T11:15:00-03:00\", \"2021-06-17T11:20:00-03:00\", \"2021-06-17T11:25:00-03:00\", \"2021-06-17T11:30:00-03:00\", \"2021-06-17T11:35:00-03:00\", \"2021-06-17T11:40:00-03:00\", \"2021-06-17T11:45:00-03:00\", \"2021-06-17T11:50:00-03:00\", \"2021-06-17T11:55:00-03:00\", \"2021-06-17T12:00:00-03:00\", \"2021-06-17T12:05:00-03:00\", \"2021-06-17T12:10:00-03:00\", \"2021-06-17T12:15:00-03:00\", \"2021-06-17T12:20:00-03:00\", \"2021-06-17T12:25:00-03:00\", \"2021-06-17T12:30:00-03:00\", \"2021-06-17T12:35:00-03:00\", \"2021-06-17T12:40:00-03:00\", \"2021-06-17T12:45:00-03:00\", \"2021-06-17T12:50:00-03:00\", \"2021-06-17T12:55:00-03:00\", \"2021-06-17T13:00:00-03:00\", \"2021-06-17T13:05:00-03:00\", \"2021-06-17T13:10:00-03:00\", \"2021-06-17T13:15:00-03:00\", \"2021-06-17T13:20:00-03:00\", \"2021-06-17T13:25:00-03:00\", \"2021-06-17T13:30:00-03:00\", \"2021-06-17T13:35:00-03:00\", \"2021-06-17T13:40:00-03:00\", \"2021-06-17T13:45:00-03:00\", \"2021-06-17T13:50:00-03:00\", \"2021-06-17T13:55:00-03:00\", \"2021-06-17T14:00:00-03:00\", \"2021-06-17T14:05:00-03:00\", \"2021-06-17T14:10:00-03:00\", \"2021-06-17T14:15:00-03:00\", \"2021-06-17T14:20:00-03:00\", \"2021-06-17T14:25:00-03:00\", \"2021-06-17T14:30:00-03:00\", \"2021-06-17T14:35:00-03:00\", \"2021-06-17T14:40:00-03:00\", \"2021-06-17T14:45:00-03:00\", \"2021-06-17T14:50:00-03:00\", \"2021-06-17T14:55:00-03:00\", \"2021-06-17T15:00:00-03:00\", \"2021-06-17T15:05:00-03:00\", \"2021-06-17T15:10:00-03:00\", \"2021-06-17T15:15:00-03:00\", \"2021-06-17T15:20:00-03:00\", \"2021-06-17T15:25:00-03:00\", \"2021-06-17T15:30:00-03:00\", \"2021-06-17T15:35:00-03:00\", \"2021-06-17T15:40:00-03:00\", \"2021-06-17T15:45:00-03:00\", \"2021-06-17T15:50:00-03:00\", \"2021-06-17T15:55:00-03:00\", \"2021-06-17T16:00:00-03:00\", \"2021-06-17T16:05:00-03:00\", \"2021-06-17T16:10:00-03:00\", \"2021-06-17T16:15:00-03:00\", \"2021-06-17T16:20:00-03:00\", \"2021-06-17T16:25:00-03:00\", \"2021-06-17T16:30:00-03:00\", \"2021-06-17T16:35:00-03:00\", \"2021-06-17T16:40:00-03:00\", \"2021-06-17T16:45:00-03:00\", \"2021-06-17T16:50:00-03:00\", \"2021-06-17T17:00:00-03:00\"], \"xaxis\": \"x\", \"yaxis\": \"y\"}, {\"type\": \"scatter\", \"x\": [\"2021-05-10T00:00:00\", \"2021-05-11T00:00:00\", \"2021-05-12T00:00:00\", \"2021-05-13T00:00:00\", \"2021-05-14T00:00:00\", \"2021-05-17T00:00:00\", \"2021-05-18T00:00:00\", \"2021-05-19T00:00:00\", \"2021-05-20T00:00:00\", \"2021-05-21T00:00:00\", \"2021-05-24T00:00:00\", \"2021-05-25T00:00:00\", \"2021-05-26T00:00:00\", \"2021-05-27T00:00:00\", \"2021-05-28T00:00:00\", \"2021-05-31T00:00:00\", \"2021-06-01T00:00:00\", \"2021-06-02T00:00:00\", \"2021-06-04T00:00:00\", \"2021-06-07T00:00:00\", \"2021-06-08T00:00:00\", \"2021-06-09T00:00:00\", \"2021-06-10T00:00:00\", \"2021-06-11T00:00:00\", \"2021-06-14T00:00:00\", \"2021-06-15T00:00:00\", \"2021-06-16T00:00:00\", \"2021-06-17T00:00:00\"], \"xaxis\": \"x2\", \"y\": [53.36664926522753, 59.834447111960785, 50.2768649783455, 49.36698374444356, 58.964149768499645, 66.39529537079989, 60.63445586735008, 62.828150382705964, 64.76640278637493, 62.531868285475554, 55.46601695656234, 55.69068487484629, 60.61235147777915, 68.48081881447284, 72.21658728279694, 75.81768328205783, 76.00903972053996, 81.76016438504462, 75.2013700975401, 76.18876991668911, 81.11491580491008, 78.01939418389951, 71.26094323538697, 71.350035862982, 76.71402464730318, 69.59611382844979, 70.84465337809536, 65.44228945626867], \"yaxis\": \"y2\"}],                        {\"coloraxis\": {\"colorbar\": {\"tickfont\": {\"color\": \"white\"}}}, \"font\": {\"color\": \"white\"}, \"paper_bgcolor\": \"#000326\", \"plot_bgcolor\": \"#000326\", \"template\": {\"data\": {\"bar\": [{\"error_x\": {\"color\": \"#2a3f5f\"}, \"error_y\": {\"color\": \"#2a3f5f\"}, \"marker\": {\"line\": {\"color\": \"#E5ECF6\", \"width\": 0.5}}, \"type\": \"bar\"}], \"barpolar\": [{\"marker\": {\"line\": {\"color\": \"#E5ECF6\", \"width\": 0.5}}, \"type\": \"barpolar\"}], \"carpet\": [{\"aaxis\": {\"endlinecolor\": \"#2a3f5f\", \"gridcolor\": \"white\", \"linecolor\": \"white\", \"minorgridcolor\": \"white\", \"startlinecolor\": \"#2a3f5f\"}, \"baxis\": {\"endlinecolor\": \"#2a3f5f\", \"gridcolor\": \"white\", \"linecolor\": \"white\", \"minorgridcolor\": \"white\", \"startlinecolor\": \"#2a3f5f\"}, \"type\": \"carpet\"}], \"choropleth\": [{\"colorbar\": {\"outlinewidth\": 0, \"ticks\": \"\"}, \"type\": \"choropleth\"}], \"contour\": [{\"colorbar\": {\"outlinewidth\": 0, \"ticks\": \"\"}, \"colorscale\": [[0.0, \"#0d0887\"], [0.1111111111111111, \"#46039f\"], [0.2222222222222222, \"#7201a8\"], [0.3333333333333333, \"#9c179e\"], [0.4444444444444444, \"#bd3786\"], [0.5555555555555556, \"#d8576b\"], [0.6666666666666666, \"#ed7953\"], [0.7777777777777778, \"#fb9f3a\"], [0.8888888888888888, \"#fdca26\"], [1.0, \"#f0f921\"]], \"type\": \"contour\"}], \"contourcarpet\": [{\"colorbar\": {\"outlinewidth\": 0, \"ticks\": \"\"}, \"type\": \"contourcarpet\"}], \"heatmap\": [{\"colorbar\": {\"outlinewidth\": 0, \"ticks\": \"\"}, \"colorscale\": [[0.0, \"#0d0887\"], [0.1111111111111111, \"#46039f\"], [0.2222222222222222, \"#7201a8\"], [0.3333333333333333, \"#9c179e\"], [0.4444444444444444, \"#bd3786\"], [0.5555555555555556, \"#d8576b\"], [0.6666666666666666, \"#ed7953\"], [0.7777777777777778, \"#fb9f3a\"], [0.8888888888888888, \"#fdca26\"], [1.0, \"#f0f921\"]], \"type\": \"heatmap\"}], \"heatmapgl\": [{\"colorbar\": {\"outlinewidth\": 0, \"ticks\": \"\"}, \"colorscale\": [[0.0, \"#0d0887\"], [0.1111111111111111, \"#46039f\"], [0.2222222222222222, \"#7201a8\"], [0.3333333333333333, \"#9c179e\"], [0.4444444444444444, \"#bd3786\"], [0.5555555555555556, \"#d8576b\"], [0.6666666666666666, \"#ed7953\"], [0.7777777777777778, \"#fb9f3a\"], [0.8888888888888888, \"#fdca26\"], [1.0, \"#f0f921\"]], \"type\": \"heatmapgl\"}], \"histogram\": [{\"marker\": {\"colorbar\": {\"outlinewidth\": 0, \"ticks\": \"\"}}, \"type\": \"histogram\"}], \"histogram2d\": [{\"colorbar\": {\"outlinewidth\": 0, \"ticks\": \"\"}, \"colorscale\": [[0.0, \"#0d0887\"], [0.1111111111111111, \"#46039f\"], [0.2222222222222222, \"#7201a8\"], [0.3333333333333333, \"#9c179e\"], [0.4444444444444444, \"#bd3786\"], [0.5555555555555556, \"#d8576b\"], [0.6666666666666666, \"#ed7953\"], [0.7777777777777778, \"#fb9f3a\"], [0.8888888888888888, \"#fdca26\"], [1.0, \"#f0f921\"]], \"type\": \"histogram2d\"}], \"histogram2dcontour\": [{\"colorbar\": {\"outlinewidth\": 0, \"ticks\": \"\"}, \"colorscale\": [[0.0, \"#0d0887\"], [0.1111111111111111, \"#46039f\"], [0.2222222222222222, \"#7201a8\"], [0.3333333333333333, \"#9c179e\"], [0.4444444444444444, \"#bd3786\"], [0.5555555555555556, \"#d8576b\"], [0.6666666666666666, \"#ed7953\"], [0.7777777777777778, \"#fb9f3a\"], [0.8888888888888888, \"#fdca26\"], [1.0, \"#f0f921\"]], \"type\": \"histogram2dcontour\"}], \"mesh3d\": [{\"colorbar\": {\"outlinewidth\": 0, \"ticks\": \"\"}, \"type\": \"mesh3d\"}], \"parcoords\": [{\"line\": {\"colorbar\": {\"outlinewidth\": 0, \"ticks\": \"\"}}, \"type\": \"parcoords\"}], \"pie\": [{\"automargin\": true, \"type\": \"pie\"}], \"scatter\": [{\"marker\": {\"colorbar\": {\"outlinewidth\": 0, \"ticks\": \"\"}}, \"type\": \"scatter\"}], \"scatter3d\": [{\"line\": {\"colorbar\": {\"outlinewidth\": 0, \"ticks\": \"\"}}, \"marker\": {\"colorbar\": {\"outlinewidth\": 0, \"ticks\": \"\"}}, \"type\": \"scatter3d\"}], \"scattercarpet\": [{\"marker\": {\"colorbar\": {\"outlinewidth\": 0, \"ticks\": \"\"}}, \"type\": \"scattercarpet\"}], \"scattergeo\": [{\"marker\": {\"colorbar\": {\"outlinewidth\": 0, \"ticks\": \"\"}}, \"type\": \"scattergeo\"}], \"scattergl\": [{\"marker\": {\"colorbar\": {\"outlinewidth\": 0, \"ticks\": \"\"}}, \"type\": \"scattergl\"}], \"scattermapbox\": [{\"marker\": {\"colorbar\": {\"outlinewidth\": 0, \"ticks\": \"\"}}, \"type\": \"scattermapbox\"}], \"scatterpolar\": [{\"marker\": {\"colorbar\": {\"outlinewidth\": 0, \"ticks\": \"\"}}, \"type\": \"scatterpolar\"}], \"scatterpolargl\": [{\"marker\": {\"colorbar\": {\"outlinewidth\": 0, \"ticks\": \"\"}}, \"type\": \"scatterpolargl\"}], \"scatterternary\": [{\"marker\": {\"colorbar\": {\"outlinewidth\": 0, \"ticks\": \"\"}}, \"type\": \"scatterternary\"}], \"surface\": [{\"colorbar\": {\"outlinewidth\": 0, \"ticks\": \"\"}, \"colorscale\": [[0.0, \"#0d0887\"], [0.1111111111111111, \"#46039f\"], [0.2222222222222222, \"#7201a8\"], [0.3333333333333333, \"#9c179e\"], [0.4444444444444444, \"#bd3786\"], [0.5555555555555556, \"#d8576b\"], [0.6666666666666666, \"#ed7953\"], [0.7777777777777778, \"#fb9f3a\"], [0.8888888888888888, \"#fdca26\"], [1.0, \"#f0f921\"]], \"type\": \"surface\"}], \"table\": [{\"cells\": {\"fill\": {\"color\": \"#EBF0F8\"}, \"line\": {\"color\": \"white\"}}, \"header\": {\"fill\": {\"color\": \"#C8D4E3\"}, \"line\": {\"color\": \"white\"}}, \"type\": \"table\"}]}, \"layout\": {\"annotationdefaults\": {\"arrowcolor\": \"#2a3f5f\", \"arrowhead\": 0, \"arrowwidth\": 1}, \"autotypenumbers\": \"strict\", \"coloraxis\": {\"colorbar\": {\"outlinewidth\": 0, \"ticks\": \"\"}}, \"colorscale\": {\"diverging\": [[0, \"#8e0152\"], [0.1, \"#c51b7d\"], [0.2, \"#de77ae\"], [0.3, \"#f1b6da\"], [0.4, \"#fde0ef\"], [0.5, \"#f7f7f7\"], [0.6, \"#e6f5d0\"], [0.7, \"#b8e186\"], [0.8, \"#7fbc41\"], [0.9, \"#4d9221\"], [1, \"#276419\"]], \"sequential\": [[0.0, \"#0d0887\"], [0.1111111111111111, \"#46039f\"], [0.2222222222222222, \"#7201a8\"], [0.3333333333333333, \"#9c179e\"], [0.4444444444444444, \"#bd3786\"], [0.5555555555555556, \"#d8576b\"], [0.6666666666666666, \"#ed7953\"], [0.7777777777777778, \"#fb9f3a\"], [0.8888888888888888, \"#fdca26\"], [1.0, \"#f0f921\"]], \"sequentialminus\": [[0.0, \"#0d0887\"], [0.1111111111111111, \"#46039f\"], [0.2222222222222222, \"#7201a8\"], [0.3333333333333333, \"#9c179e\"], [0.4444444444444444, \"#bd3786\"], [0.5555555555555556, \"#d8576b\"], [0.6666666666666666, \"#ed7953\"], [0.7777777777777778, \"#fb9f3a\"], [0.8888888888888888, \"#fdca26\"], [1.0, \"#f0f921\"]]}, \"colorway\": [\"#636efa\", \"#EF553B\", \"#00cc96\", \"#ab63fa\", \"#FFA15A\", \"#19d3f3\", \"#FF6692\", \"#B6E880\", \"#FF97FF\", \"#FECB52\"], \"font\": {\"color\": \"#2a3f5f\"}, \"geo\": {\"bgcolor\": \"white\", \"lakecolor\": \"white\", \"landcolor\": \"#E5ECF6\", \"showlakes\": true, \"showland\": true, \"subunitcolor\": \"white\"}, \"hoverlabel\": {\"align\": \"left\"}, \"hovermode\": \"closest\", \"mapbox\": {\"style\": \"light\"}, \"paper_bgcolor\": \"white\", \"plot_bgcolor\": \"#E5ECF6\", \"polar\": {\"angularaxis\": {\"gridcolor\": \"white\", \"linecolor\": \"white\", \"ticks\": \"\"}, \"bgcolor\": \"#E5ECF6\", \"radialaxis\": {\"gridcolor\": \"white\", \"linecolor\": \"white\", \"ticks\": \"\"}}, \"scene\": {\"xaxis\": {\"backgroundcolor\": \"#E5ECF6\", \"gridcolor\": \"white\", \"gridwidth\": 2, \"linecolor\": \"white\", \"showbackground\": true, \"ticks\": \"\", \"zerolinecolor\": \"white\"}, \"yaxis\": {\"backgroundcolor\": \"#E5ECF6\", \"gridcolor\": \"white\", \"gridwidth\": 2, \"linecolor\": \"white\", \"showbackground\": true, \"ticks\": \"\", \"zerolinecolor\": \"white\"}, \"zaxis\": {\"backgroundcolor\": \"#E5ECF6\", \"gridcolor\": \"white\", \"gridwidth\": 2, \"linecolor\": \"white\", \"showbackground\": true, \"ticks\": \"\", \"zerolinecolor\": \"white\"}}, \"shapedefaults\": {\"line\": {\"color\": \"#2a3f5f\"}}, \"ternary\": {\"aaxis\": {\"gridcolor\": \"white\", \"linecolor\": \"white\", \"ticks\": \"\"}, \"baxis\": {\"gridcolor\": \"white\", \"linecolor\": \"white\", \"ticks\": \"\"}, \"bgcolor\": \"#E5ECF6\", \"caxis\": {\"gridcolor\": \"white\", \"linecolor\": \"white\", \"ticks\": \"\"}}, \"title\": {\"x\": 0.05}, \"xaxis\": {\"automargin\": true, \"gridcolor\": \"white\", \"linecolor\": \"white\", \"ticks\": \"\", \"title\": {\"standoff\": 15}, \"zerolinecolor\": \"white\", \"zerolinewidth\": 2}, \"yaxis\": {\"automargin\": true, \"gridcolor\": \"white\", \"linecolor\": \"white\", \"ticks\": \"\", \"title\": {\"standoff\": 15}, \"zerolinecolor\": \"white\", \"zerolinewidth\": 2}}}, \"xaxis\": {\"anchor\": \"y\", \"domain\": [0.0, 1.0], \"rangeslider\": {\"visible\": false}}, \"xaxis2\": {\"anchor\": \"y2\", \"domain\": [0.0, 1.0]}, \"yaxis\": {\"anchor\": \"x\", \"domain\": [0.49, 1.0]}, \"yaxis2\": {\"anchor\": \"x2\", \"domain\": [0.0, 0.34]}},                        {\"responsive\": true}                    ).then(function(){\n",
       "                            \n",
       "var gd = document.getElementById('78b43944-eea4-49de-b6ad-428d3a1aa3bd');\n",
       "var x = new MutationObserver(function (mutations, observer) {{\n",
       "        var display = window.getComputedStyle(gd).display;\n",
       "        if (!display || display === 'none') {{\n",
       "            console.log([gd, 'removed!']);\n",
       "            Plotly.purge(gd);\n",
       "            observer.disconnect();\n",
       "        }}\n",
       "}});\n",
       "\n",
       "// Listen for the removal of the full notebook cells\n",
       "var notebookContainer = gd.closest('#notebook-container');\n",
       "if (notebookContainer) {{\n",
       "    x.observe(notebookContainer, {childList: true});\n",
       "}}\n",
       "\n",
       "// Listen for the clearing of the current output cell\n",
       "var outputEl = gd.closest('.output');\n",
       "if (outputEl) {{\n",
       "    x.observe(outputEl, {childList: true});\n",
       "}}\n",
       "\n",
       "                        })                };                });            </script>        </div>"
      ]
     },
     "metadata": {},
     "output_type": "display_data"
    }
   ],
   "source": [
    "get_stock_chart('amar3')"
   ]
  },
  {
   "cell_type": "code",
   "execution_count": 24,
   "metadata": {
    "scrolled": true
   },
   "outputs": [
    {
     "data": {
      "text/plain": [
       "Date\n",
       "2021-04-19          NaN\n",
       "2021-04-20     0.000000\n",
       "2021-04-22     0.000000\n",
       "2021-04-23     7.142857\n",
       "2021-04-26    44.285537\n",
       "2021-04-27    26.902473\n",
       "2021-04-28    24.755867\n",
       "2021-04-29    22.139944\n",
       "2021-04-30    20.064261\n",
       "2021-05-03    20.863243\n",
       "2021-05-04    20.210582\n",
       "2021-05-05    43.181001\n",
       "2021-05-06    42.449842\n",
       "2021-05-07    57.258299\n",
       "2021-05-10    53.366649\n",
       "2021-05-11    59.834447\n",
       "2021-05-12    50.276865\n",
       "2021-05-13    49.366984\n",
       "2021-05-14    58.964150\n",
       "2021-05-17    66.395295\n",
       "2021-05-18    60.634456\n",
       "2021-05-19    62.828150\n",
       "2021-05-20    64.766403\n",
       "2021-05-21    62.531868\n",
       "2021-05-24    55.466017\n",
       "2021-05-25    55.690685\n",
       "2021-05-26    60.612351\n",
       "2021-05-27    68.480819\n",
       "2021-05-28    72.216587\n",
       "2021-05-31    75.817683\n",
       "2021-06-01    76.009040\n",
       "2021-06-02    81.760164\n",
       "2021-06-04    75.201370\n",
       "2021-06-07    76.188770\n",
       "2021-06-08    81.114916\n",
       "2021-06-09    78.019394\n",
       "2021-06-10    71.260943\n",
       "2021-06-11    71.350036\n",
       "2021-06-14    76.714025\n",
       "2021-06-15    69.596114\n",
       "2021-06-16    70.844653\n",
       "2021-06-17    65.442289\n",
       "Name: RSI, dtype: float64"
      ]
     },
     "execution_count": 24,
     "metadata": {},
     "output_type": "execute_result"
    }
   ],
   "source": [
    "rsi"
   ]
  },
  {
   "cell_type": "code",
   "execution_count": 18,
   "metadata": {},
   "outputs": [],
   "source": [
    "dispatcher.add_handler(CommandHandler(\"hey\", hey))\n",
    "dispatcher.add_handler(CommandHandler('dolar', dolar))\n",
    "dispatcher.add_handler(CommandHandler('euro', euro))\n",
    "dispatcher.add_handler(CommandHandler('vilzyn', vilzyn))\n",
    "\n",
    "dispatcher.add_handler(CommandHandler(\"stock\", stock))\n",
    "dispatcher.add_handler(CommandHandler(\"chart\", chart))"
   ]
  },
  {
   "cell_type": "code",
   "execution_count": 19,
   "metadata": {},
   "outputs": [
    {
     "data": {
      "text/plain": [
       "<queue.Queue at 0x22379c89670>"
      ]
     },
     "execution_count": 19,
     "metadata": {},
     "output_type": "execute_result"
    }
   ],
   "source": [
    "updater.start_polling()"
   ]
  },
  {
   "cell_type": "code",
   "execution_count": null,
   "metadata": {},
   "outputs": [],
   "source": []
  },
  {
   "cell_type": "code",
   "execution_count": null,
   "metadata": {},
   "outputs": [],
   "source": []
  }
 ],
 "metadata": {
  "interpreter": {
   "hash": "24f9485ab1d10e886103e96fbf8e52828e6fad9414abcc972a2f188dea3be222"
  },
  "kernelspec": {
   "display_name": "Python 3",
   "language": "python",
   "name": "python3"
  },
  "language_info": {
   "codemirror_mode": {
    "name": "ipython",
    "version": 3
   },
   "file_extension": ".py",
   "mimetype": "text/x-python",
   "name": "python",
   "nbconvert_exporter": "python",
   "pygments_lexer": "ipython3",
   "version": "3.8.5"
  },
  "metadata": {
   "interpreter": {
    "hash": "24f9485ab1d10e886103e96fbf8e52828e6fad9414abcc972a2f188dea3be222"
   }
  }
 },
 "nbformat": 4,
 "nbformat_minor": 4
}
