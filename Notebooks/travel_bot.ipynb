{
 "cells": [
  {
   "cell_type": "code",
   "execution_count": 1,
   "metadata": {},
   "outputs": [],
   "source": [
    "import telegram\n",
    "import requests\n",
    "import telegram_send\n",
    "import pandas as pd # Para evitar escrever pandas e trocar pela escrita apenas de pd para facilitar\n",
    "import plotly.graph_objects as go\n",
    "import matplotlib.pyplot as plt\n",
    "import yfinance as yf \n",
    "import schedule\n",
    "import time\n",
    "import os\n",
    "import matplotlib.pyplot as plt\n",
    "import plotly.graph_objects as go\n",
    "import stockstats\n",
    "\n",
    "from bs4 import BeautifulSoup\n",
    "from telegram.ext import Updater, CommandHandler, MessageHandler, Filters\n",
    "from pandas_datareader import data as web # Evita a escrita do data e troca pelo web\n",
    "from datetime import datetime\n",
    "from stockstats import StockDataFrame\n",
    "from plotly.subplots import make_subplots"
   ]
  },
  {
   "cell_type": "code",
   "execution_count": 2,
   "metadata": {},
   "outputs": [],
   "source": [
    "token = '1796099831:AAGteQJXlcNd2dLSSq0kbbqa0QoV0B_xtTU'\n",
    "    \n",
    "bot = telegram.Bot(token) #Replace TOKEN with your token string\n",
    "updater = Updater(token=token, use_context=True) #Replace TOKEN with your token string\n",
    "\n",
    "dispatcher = updater.dispatcher"
   ]
  },
  {
   "cell_type": "code",
   "execution_count": 3,
   "metadata": {},
   "outputs": [],
   "source": [
    "def get_coin_bid(coin):\n",
    "    response = requests.get('https://economia.awesomeapi.com.br/json/last/'+ coin)\n",
    "    result = response.json()\n",
    "    c = coin.replace('-','')\n",
    "    return result[c]['bid']"
   ]
  },
  {
   "cell_type": "code",
   "execution_count": 4,
   "metadata": {},
   "outputs": [],
   "source": [
    "def get_bdrs_price(paper):\n",
    "    response = 'https://statusinvest.com.br/bdrs/' + paper\n",
    "    result = requests.get(response)\n",
    "    soup = BeautifulSoup(result.content, 'html.parser')\n",
    "    stock_price = str(soup.find(class_='value')).split('>')[1].split('<')[0]\n",
    "    var = str(soup.find(title='Variação do valor do ativo com base no dia anterior'))\n",
    "    \n",
    "    var = var.split('\\n')[4].split('>')[1].split('<')[0]\n",
    "        \n",
    "    if not var.startswith('-'):\n",
    "        var = '+' + var\n",
    "            \n",
    "    return stock_price, var"
   ]
  },
  {
   "cell_type": "code",
   "execution_count": 5,
   "metadata": {},
   "outputs": [],
   "source": [
    "def get_fiis_price(paper):\n",
    "    response = 'https://statusinvest.com.br/fundos-imobiliarios/' + paper\n",
    "    result = requests.get(response)\n",
    "    soup = BeautifulSoup(result.content, 'html.parser')\n",
    "    stock_price = str(soup.find(class_='value'))\n",
    "    var = str(soup.find(title='Variação do valor do ativo com base no dia anterior'))\n",
    "    \n",
    "    if stock_price == 'None':\n",
    "        return get_bdrs_price(paper)\n",
    "    else: \n",
    "        stock_price = stock_price.split('>')[1].split('<')[0]\n",
    "        var = var.split('\\n')[4].split('>')[1].split('<')[0]\n",
    "        \n",
    "        if not var.startswith('-'):\n",
    "            var = '+' + var\n",
    "            \n",
    "        return stock_price, var\n",
    "    "
   ]
  },
  {
   "cell_type": "code",
   "execution_count": 6,
   "metadata": {},
   "outputs": [],
   "source": [
    "def get_stock_price(paper):\n",
    "    response = 'https://statusinvest.com.br/acoes/' + paper\n",
    "    result = requests.get(response)\n",
    "    soup = BeautifulSoup(result.content, 'html.parser')\n",
    "    stock_price = str(soup.find(class_='value'))\n",
    "    var = str(soup.find(title='Variação do valor do ativo com base no dia anterior'))\n",
    "    \n",
    "    if stock_price == 'None':\n",
    "        return get_fiis_price(paper)\n",
    "    else: \n",
    "        \n",
    "        stock_price = stock_price.split('>')[1].split('<')[0]\n",
    "        var = var.split('\\n')[4].split('>')[1].split('<')[0]\n",
    "        \n",
    "        if not var.startswith('-'):\n",
    "            var = '+' + var\n",
    "            \n",
    "        return stock_price, var\n",
    "    \n",
    "    \n",
    "    \n",
    "    "
   ]
  },
  {
   "cell_type": "code",
   "execution_count": 7,
   "metadata": {},
   "outputs": [],
   "source": [
    "def stock(update, context):\n",
    "    paper = \" \".join(context.args)\n",
    "    value = get_stock_price(paper.lower())\n",
    "    update.message.reply_text(paper.upper() + \": R$\" + value[0] + '\\n \\n Variação do dia: ' + value[1])"
   ]
  },
  {
   "cell_type": "code",
   "execution_count": 8,
   "metadata": {},
   "outputs": [],
   "source": [
    "def euro(update, context):\n",
    "    eur = \"Cotação do Euro Hoje: R$ \" + str(get_coin_bid('EUR-BRL')).replace('.',',')\n",
    "    context.bot.send_message(chat_id=update.effective_chat.id, text=eur)"
   ]
  },
  {
   "cell_type": "code",
   "execution_count": 9,
   "metadata": {},
   "outputs": [],
   "source": [
    "def vilzyn(update, context):\n",
    "    dol = \"Cotação do Dolar Hoje: R$ \" + str(get_coin_bid('USD-BRL')).replace('.',',')\n",
    "    context.bot.send_message(chat_id=update.effective_chat.id, text=dol)"
   ]
  },
  {
   "cell_type": "code",
   "execution_count": 10,
   "metadata": {},
   "outputs": [],
   "source": [
    "def dolar(update, context):\n",
    "    dol = \"Cotação do Dolar Hoje: R$ \" + str(get_coin_bid('USD-BRL')).replace('.',',')\n",
    "    context.bot.send_message(chat_id=update.effective_chat.id, text=dol)"
   ]
  },
  {
   "cell_type": "code",
   "execution_count": 11,
   "metadata": {},
   "outputs": [],
   "source": [
    "def chart(update, context):\n",
    "    paper = \" \".join(context.args)\n",
    "    get_stock_chart(paper)\n",
    "    context.bot.sendPhoto(chat_id=update.effective_chat.id, photo=open(paper + '.png', 'rb'))\n",
    "    os.remove(paper + '.png')"
   ]
  },
  {
   "cell_type": "code",
   "execution_count": 12,
   "metadata": {},
   "outputs": [],
   "source": [
    "def hey(update, context):\n",
    "    image = \"https://encrypted-tbn0.gstatic.com/images?q=tbn:ANd9GcRowHhdTB04EQSOcRuRTqLHvk96K4lS3UupYg&usqp=CAU\"\n",
    "    context.bot.sendPhoto(chat_id=update.effective_chat.id, photo = image, caption = 'Eai Kamako')"
   ]
  },
  {
   "cell_type": "code",
   "execution_count": null,
   "metadata": {},
   "outputs": [],
   "source": []
  },
  {
   "cell_type": "code",
   "execution_count": 65,
   "metadata": {},
   "outputs": [],
   "source": [
    "def get_stock_chart(paper):\n",
    "    data = yf.download(\n",
    "    tickers=paper + '.SA', \n",
    "    period=\"1w\",\n",
    "    interval=\"5m\")\n",
    "    # Plot the close prices\n",
    "    \n",
    "    data_rsi = yf.download(\n",
    "    tickers=paper + '.SA', \n",
    "    period=\"2mo\",\n",
    "    interval=\"1d\")\n",
    "    \n",
    "    \n",
    "    rsi = calculate_RSI(data_rsi)\n",
    "    \n",
    "    data = data.reset_index()\n",
    "    data = data.rename(columns={data.columns[0]:'Date'})\n",
    "    \n",
    "    fig = make_subplots(rows=2, cols=1, row_heights=[0.6, 0.4])\n",
    "    fig.add_trace(\n",
    "        go.Candlestick(x=data['Date'],\n",
    "            open=data['Open'],\n",
    "            high=data['High'],\n",
    "            low=data['Low'],\n",
    "            close=data['Close']),\n",
    "            row=1, col=1)\n",
    "    \n",
    "    fig.add_trace(\n",
    "        go.Scatter(x=rsi['Date'], y=rsi['RSI']),\n",
    "            row=2, col=1)\n",
    "    \n",
    "    fig.update_layout(xaxis_rangeslider_visible=False)\n",
    "    fig.update_layout(paper_bgcolor='#000326')\n",
    "    fig.update_layout(font_color='white')\n",
    "    fig.update_coloraxes(colorbar_tickfont_color='white')\n",
    "    fig.update_layout(plot_bgcolor='#000326')\n",
    "    fig.write_image(paper + '.png')\n",
    "    fig.show()\n",
    "    "
   ]
  },
  {
   "cell_type": "code",
   "execution_count": 66,
   "metadata": {},
   "outputs": [],
   "source": [
    "def calculate_RSI(data_rsi, n=14):\n",
    "    delta = data_rsi['Adj Close'].diff()\n",
    "    up = delta.clip(lower=0)\n",
    "    down = -1*delta.clip(upper=0)\n",
    "    ema_up = up.ewm(com=n-1, adjust=False).mean()\n",
    "    ema_down = down.ewm(com=n-1, adjust=False).mean()\n",
    "    rs = ema_up/ema_down\n",
    "    data_rsi['RSI'] = 100 - (100/(1 + rs))\n",
    "    data_rsi = data_rsi.iloc[14:]\n",
    "    data_rsi = data_rsi.reset_index()\n",
    "    return data_rsi\n",
    "    "
   ]
  },
  {
   "cell_type": "code",
   "execution_count": 67,
   "metadata": {},
   "outputs": [
    {
     "name": "stdout",
     "output_type": "stream",
     "text": [
      "[*********************100%***********************]  1 of 1 completed\n",
      "[*********************100%***********************]  1 of 1 completed\n"
     ]
    },
    {
     "data": {
      "application/vnd.plotly.v1+json": {
       "config": {
        "plotlyServerURL": "https://plot.ly"
       },
       "data": [
        {
         "close": [
          8.989999771118164,
          9.0600004196167,
          8.949999809265137,
          8.970000267028809,
          8.979999542236328,
          9.050000190734863,
          9.020000457763672,
          8.970000267028809,
          9,
          9.020000457763672,
          9.050000190734863,
          9.0600004196167,
          9.09000015258789,
          9.1899995803833,
          9.170000076293945,
          9.210000038146973,
          9.180000305175781,
          9.1899995803833,
          9.149999618530273,
          9.109999656677246,
          9.180000305175781,
          9.1899995803833,
          9.15999984741211,
          9.149999618530273,
          9.130000114440918,
          9.079999923706055,
          9.069999694824219,
          9.0600004196167,
          9.09000015258789,
          9.0600004196167,
          9.029999732971191,
          9.029999732971191,
          9.039999961853027,
          9.020000457763672,
          9.020000457763672,
          9.020000457763672,
          8.979999542236328,
          8.989999771118164,
          8.949999809265137,
          9,
          8.979999542236328,
          9.010000228881836,
          9.029999732971191,
          9,
          9,
          9.010000228881836,
          9,
          9.010000228881836,
          9.020000457763672,
          9.010000228881836,
          9.020000457763672,
          9.010000228881836,
          9.010000228881836,
          9.029999732971191,
          9.039999961853027,
          9.0600004196167,
          9.050000190734863,
          9.079999923706055,
          9.039999961853027,
          9.029999732971191,
          9.039999961853027,
          9.039999961853027,
          9.050000190734863,
          9.050000190734863,
          9.039999961853027,
          9.039999961853027,
          9.020000457763672,
          9.010000228881836,
          9,
          8.970000267028809,
          8.970000267028809,
          8.960000038146973,
          8.949999809265137,
          8.9399995803833,
          8.930000305175781,
          8.869999885559082,
          8.859999656677246,
          8.869999885559082,
          8.880000114440918,
          8.869999885559082,
          8.869999885559082,
          8.90999984741211,
          8.869999885559082
         ],
         "high": [
          9.100000381469727,
          9.09000015258789,
          9.069999694824219,
          8.989999771118164,
          8.989999771118164,
          9.100000381469727,
          9.050000190734863,
          9.029999732971191,
          9.010000228881836,
          9.039999961853027,
          9.0600004196167,
          9.079999923706055,
          9.119999885559082,
          9.1899995803833,
          9.199999809265137,
          9.220000267028809,
          9.229999542236328,
          9.199999809265137,
          9.1899995803833,
          9.149999618530273,
          9.1899995803833,
          9.1899995803833,
          9.180000305175781,
          9.15999984741211,
          9.15999984741211,
          9.140000343322754,
          9.100000381469727,
          9.079999923706055,
          9.100000381469727,
          9.100000381469727,
          9.069999694824219,
          9.039999961853027,
          9.050000190734863,
          9.039999961853027,
          9.020000457763672,
          9.029999732971191,
          9.020000457763672,
          8.989999771118164,
          8.979999542236328,
          9,
          9.010000228881836,
          9.029999732971191,
          9.050000190734863,
          9.039999961853027,
          9.020000457763672,
          9.020000457763672,
          9.029999732971191,
          9.010000228881836,
          9.029999732971191,
          9.029999732971191,
          9.029999732971191,
          9.020000457763672,
          9.010000228881836,
          9.039999961853027,
          9.039999961853027,
          9.0600004196167,
          9.069999694824219,
          9.079999923706055,
          9.079999923706055,
          9.0600004196167,
          9.050000190734863,
          9.050000190734863,
          9.079999923706055,
          9.050000190734863,
          9.050000190734863,
          9.039999961853027,
          9.039999961853027,
          9.020000457763672,
          9.020000457763672,
          9,
          8.989999771118164,
          8.970000267028809,
          8.970000267028809,
          8.970000267028809,
          8.9399995803833,
          8.920000076293945,
          8.890000343322754,
          8.890000343322754,
          8.890000343322754,
          8.880000114440918,
          8.899999618530273,
          8.920000076293945,
          8.869999885559082
         ],
         "low": [
          8.930000305175781,
          8.960000038146973,
          8.9399995803833,
          8.9399995803833,
          8.960000038146973,
          8.960000038146973,
          9,
          8.960000038146973,
          8.970000267028809,
          9.010000228881836,
          9.020000457763672,
          9.039999961853027,
          9.0600004196167,
          9.109999656677246,
          9.149999618530273,
          9.149999618530273,
          9.149999618530273,
          9.15999984741211,
          9.130000114440918,
          9.09000015258789,
          9.100000381469727,
          9.170000076293945,
          9.149999618530273,
          9.130000114440918,
          9.100000381469727,
          9.079999923706055,
          9.0600004196167,
          9.050000190734863,
          9.050000190734863,
          9.050000190734863,
          9.020000457763672,
          9,
          9.010000228881836,
          9.010000228881836,
          9,
          9,
          8.960000038146973,
          8.949999809265137,
          8.949999809265137,
          8.949999809265137,
          8.979999542236328,
          8.989999771118164,
          9.020000457763672,
          9,
          8.989999771118164,
          8.979999542236328,
          9,
          8.989999771118164,
          9.010000228881836,
          9,
          9.010000228881836,
          8.989999771118164,
          9,
          9.020000457763672,
          9.020000457763672,
          9.039999961853027,
          9.050000190734863,
          9.050000190734863,
          9.039999961853027,
          9.029999732971191,
          9.029999732971191,
          9.029999732971191,
          9.050000190734863,
          9.039999961853027,
          9.029999732971191,
          9.029999732971191,
          9.020000457763672,
          9,
          9,
          8.9399995803833,
          8.949999809265137,
          8.949999809265137,
          8.949999809265137,
          8.9399995803833,
          8.850000381469727,
          8.869999885559082,
          8.859999656677246,
          8.850000381469727,
          8.859999656677246,
          8.850000381469727,
          8.859999656677246,
          8.869999885559082,
          8.869999885559082
         ],
         "open": [
          9.100000381469727,
          8.970000267028809,
          9.0600004196167,
          8.960000038146973,
          8.970000267028809,
          8.970000267028809,
          9.039999961853027,
          9.020000457763672,
          8.979999542236328,
          9.020000457763672,
          9.029999732971191,
          9.050000190734863,
          9.069999694824219,
          9.109999656677246,
          9.199999809265137,
          9.170000076293945,
          9.210000038146973,
          9.180000305175781,
          9.1899995803833,
          9.149999618530273,
          9.109999656677246,
          9.180000305175781,
          9.180000305175781,
          9.15999984741211,
          9.15999984741211,
          9.130000114440918,
          9.100000381469727,
          9.069999694824219,
          9.0600004196167,
          9.09000015258789,
          9.0600004196167,
          9.020000457763672,
          9.029999732971191,
          9.029999732971191,
          9.020000457763672,
          9.010000228881836,
          9.010000228881836,
          8.979999542236328,
          8.979999542236328,
          8.949999809265137,
          8.989999771118164,
          9,
          9.020000457763672,
          9.020000457763672,
          9,
          9,
          9.010000228881836,
          8.989999771118164,
          9.010000228881836,
          9.029999732971191,
          9.010000228881836,
          9.020000457763672,
          9.010000228881836,
          9.020000457763672,
          9.020000457763672,
          9.039999961853027,
          9.0600004196167,
          9.050000190734863,
          9.079999923706055,
          9.050000190734863,
          9.029999732971191,
          9.039999961853027,
          9.050000190734863,
          9.039999961853027,
          9.050000190734863,
          9.029999732971191,
          9.029999732971191,
          9.010000228881836,
          9.010000228881836,
          9,
          8.970000267028809,
          8.970000267028809,
          8.960000038146973,
          8.949999809265137,
          8.930000305175781,
          8.90999984741211,
          8.869999885559082,
          8.869999885559082,
          8.869999885559082,
          8.880000114440918,
          8.869999885559082,
          8.890000343322754,
          8.869999885559082
         ],
         "type": "candlestick",
         "x": [
          "2021-06-17T10:05:00-03:00",
          "2021-06-17T10:10:00-03:00",
          "2021-06-17T10:15:00-03:00",
          "2021-06-17T10:20:00-03:00",
          "2021-06-17T10:25:00-03:00",
          "2021-06-17T10:30:00-03:00",
          "2021-06-17T10:35:00-03:00",
          "2021-06-17T10:40:00-03:00",
          "2021-06-17T10:45:00-03:00",
          "2021-06-17T10:50:00-03:00",
          "2021-06-17T10:55:00-03:00",
          "2021-06-17T11:00:00-03:00",
          "2021-06-17T11:05:00-03:00",
          "2021-06-17T11:10:00-03:00",
          "2021-06-17T11:15:00-03:00",
          "2021-06-17T11:20:00-03:00",
          "2021-06-17T11:25:00-03:00",
          "2021-06-17T11:30:00-03:00",
          "2021-06-17T11:35:00-03:00",
          "2021-06-17T11:40:00-03:00",
          "2021-06-17T11:45:00-03:00",
          "2021-06-17T11:50:00-03:00",
          "2021-06-17T11:55:00-03:00",
          "2021-06-17T12:00:00-03:00",
          "2021-06-17T12:05:00-03:00",
          "2021-06-17T12:10:00-03:00",
          "2021-06-17T12:15:00-03:00",
          "2021-06-17T12:20:00-03:00",
          "2021-06-17T12:25:00-03:00",
          "2021-06-17T12:30:00-03:00",
          "2021-06-17T12:35:00-03:00",
          "2021-06-17T12:40:00-03:00",
          "2021-06-17T12:45:00-03:00",
          "2021-06-17T12:50:00-03:00",
          "2021-06-17T12:55:00-03:00",
          "2021-06-17T13:00:00-03:00",
          "2021-06-17T13:05:00-03:00",
          "2021-06-17T13:10:00-03:00",
          "2021-06-17T13:15:00-03:00",
          "2021-06-17T13:20:00-03:00",
          "2021-06-17T13:25:00-03:00",
          "2021-06-17T13:30:00-03:00",
          "2021-06-17T13:35:00-03:00",
          "2021-06-17T13:40:00-03:00",
          "2021-06-17T13:45:00-03:00",
          "2021-06-17T13:50:00-03:00",
          "2021-06-17T13:55:00-03:00",
          "2021-06-17T14:00:00-03:00",
          "2021-06-17T14:05:00-03:00",
          "2021-06-17T14:10:00-03:00",
          "2021-06-17T14:15:00-03:00",
          "2021-06-17T14:20:00-03:00",
          "2021-06-17T14:25:00-03:00",
          "2021-06-17T14:30:00-03:00",
          "2021-06-17T14:35:00-03:00",
          "2021-06-17T14:40:00-03:00",
          "2021-06-17T14:45:00-03:00",
          "2021-06-17T14:50:00-03:00",
          "2021-06-17T14:55:00-03:00",
          "2021-06-17T15:00:00-03:00",
          "2021-06-17T15:05:00-03:00",
          "2021-06-17T15:10:00-03:00",
          "2021-06-17T15:15:00-03:00",
          "2021-06-17T15:20:00-03:00",
          "2021-06-17T15:25:00-03:00",
          "2021-06-17T15:30:00-03:00",
          "2021-06-17T15:35:00-03:00",
          "2021-06-17T15:40:00-03:00",
          "2021-06-17T15:45:00-03:00",
          "2021-06-17T15:50:00-03:00",
          "2021-06-17T15:55:00-03:00",
          "2021-06-17T16:00:00-03:00",
          "2021-06-17T16:05:00-03:00",
          "2021-06-17T16:10:00-03:00",
          "2021-06-17T16:15:00-03:00",
          "2021-06-17T16:20:00-03:00",
          "2021-06-17T16:25:00-03:00",
          "2021-06-17T16:30:00-03:00",
          "2021-06-17T16:35:00-03:00",
          "2021-06-17T16:40:00-03:00",
          "2021-06-17T16:45:00-03:00",
          "2021-06-17T16:50:00-03:00",
          "2021-06-17T17:00:00-03:00"
         ],
         "xaxis": "x",
         "yaxis": "y"
        },
        {
         "type": "scatter",
         "x": [
          "2021-05-10T00:00:00",
          "2021-05-11T00:00:00",
          "2021-05-12T00:00:00",
          "2021-05-13T00:00:00",
          "2021-05-14T00:00:00",
          "2021-05-17T00:00:00",
          "2021-05-18T00:00:00",
          "2021-05-19T00:00:00",
          "2021-05-20T00:00:00",
          "2021-05-21T00:00:00",
          "2021-05-24T00:00:00",
          "2021-05-25T00:00:00",
          "2021-05-26T00:00:00",
          "2021-05-27T00:00:00",
          "2021-05-28T00:00:00",
          "2021-05-31T00:00:00",
          "2021-06-01T00:00:00",
          "2021-06-02T00:00:00",
          "2021-06-04T00:00:00",
          "2021-06-07T00:00:00",
          "2021-06-08T00:00:00",
          "2021-06-09T00:00:00",
          "2021-06-10T00:00:00",
          "2021-06-11T00:00:00",
          "2021-06-14T00:00:00",
          "2021-06-15T00:00:00",
          "2021-06-16T00:00:00",
          "2021-06-17T00:00:00"
         ],
         "xaxis": "x2",
         "y": [
          53.36664926522753,
          59.834447111960785,
          50.2768649783455,
          49.36698374444356,
          58.964149768499645,
          66.39529537079989,
          60.63445586735008,
          62.828150382705964,
          64.76640278637493,
          62.531868285475554,
          55.46601695656234,
          55.69068487484629,
          60.61235147777915,
          68.48081881447284,
          72.21658728279694,
          75.81768328205783,
          76.00903972053996,
          81.76016438504462,
          75.2013700975401,
          76.18876991668911,
          81.11491580491008,
          78.01939418389951,
          71.26094323538697,
          71.350035862982,
          76.71402464730318,
          69.59611382844979,
          70.84465337809536,
          65.44228945626867
         ],
         "yaxis": "y2"
        }
       ],
       "layout": {
        "coloraxis": {
         "colorbar": {
          "tickfont": {
           "color": "white"
          }
         }
        },
        "font": {
         "color": "white"
        },
        "paper_bgcolor": "#000326",
        "plot_bgcolor": "#000326",
        "template": {
         "data": {
          "bar": [
           {
            "error_x": {
             "color": "#2a3f5f"
            },
            "error_y": {
             "color": "#2a3f5f"
            },
            "marker": {
             "line": {
              "color": "#E5ECF6",
              "width": 0.5
             }
            },
            "type": "bar"
           }
          ],
          "barpolar": [
           {
            "marker": {
             "line": {
              "color": "#E5ECF6",
              "width": 0.5
             }
            },
            "type": "barpolar"
           }
          ],
          "carpet": [
           {
            "aaxis": {
             "endlinecolor": "#2a3f5f",
             "gridcolor": "white",
             "linecolor": "white",
             "minorgridcolor": "white",
             "startlinecolor": "#2a3f5f"
            },
            "baxis": {
             "endlinecolor": "#2a3f5f",
             "gridcolor": "white",
             "linecolor": "white",
             "minorgridcolor": "white",
             "startlinecolor": "#2a3f5f"
            },
            "type": "carpet"
           }
          ],
          "choropleth": [
           {
            "colorbar": {
             "outlinewidth": 0,
             "ticks": ""
            },
            "type": "choropleth"
           }
          ],
          "contour": [
           {
            "colorbar": {
             "outlinewidth": 0,
             "ticks": ""
            },
            "colorscale": [
             [
              0,
              "#0d0887"
             ],
             [
              0.1111111111111111,
              "#46039f"
             ],
             [
              0.2222222222222222,
              "#7201a8"
             ],
             [
              0.3333333333333333,
              "#9c179e"
             ],
             [
              0.4444444444444444,
              "#bd3786"
             ],
             [
              0.5555555555555556,
              "#d8576b"
             ],
             [
              0.6666666666666666,
              "#ed7953"
             ],
             [
              0.7777777777777778,
              "#fb9f3a"
             ],
             [
              0.8888888888888888,
              "#fdca26"
             ],
             [
              1,
              "#f0f921"
             ]
            ],
            "type": "contour"
           }
          ],
          "contourcarpet": [
           {
            "colorbar": {
             "outlinewidth": 0,
             "ticks": ""
            },
            "type": "contourcarpet"
           }
          ],
          "heatmap": [
           {
            "colorbar": {
             "outlinewidth": 0,
             "ticks": ""
            },
            "colorscale": [
             [
              0,
              "#0d0887"
             ],
             [
              0.1111111111111111,
              "#46039f"
             ],
             [
              0.2222222222222222,
              "#7201a8"
             ],
             [
              0.3333333333333333,
              "#9c179e"
             ],
             [
              0.4444444444444444,
              "#bd3786"
             ],
             [
              0.5555555555555556,
              "#d8576b"
             ],
             [
              0.6666666666666666,
              "#ed7953"
             ],
             [
              0.7777777777777778,
              "#fb9f3a"
             ],
             [
              0.8888888888888888,
              "#fdca26"
             ],
             [
              1,
              "#f0f921"
             ]
            ],
            "type": "heatmap"
           }
          ],
          "heatmapgl": [
           {
            "colorbar": {
             "outlinewidth": 0,
             "ticks": ""
            },
            "colorscale": [
             [
              0,
              "#0d0887"
             ],
             [
              0.1111111111111111,
              "#46039f"
             ],
             [
              0.2222222222222222,
              "#7201a8"
             ],
             [
              0.3333333333333333,
              "#9c179e"
             ],
             [
              0.4444444444444444,
              "#bd3786"
             ],
             [
              0.5555555555555556,
              "#d8576b"
             ],
             [
              0.6666666666666666,
              "#ed7953"
             ],
             [
              0.7777777777777778,
              "#fb9f3a"
             ],
             [
              0.8888888888888888,
              "#fdca26"
             ],
             [
              1,
              "#f0f921"
             ]
            ],
            "type": "heatmapgl"
           }
          ],
          "histogram": [
           {
            "marker": {
             "colorbar": {
              "outlinewidth": 0,
              "ticks": ""
             }
            },
            "type": "histogram"
           }
          ],
          "histogram2d": [
           {
            "colorbar": {
             "outlinewidth": 0,
             "ticks": ""
            },
            "colorscale": [
             [
              0,
              "#0d0887"
             ],
             [
              0.1111111111111111,
              "#46039f"
             ],
             [
              0.2222222222222222,
              "#7201a8"
             ],
             [
              0.3333333333333333,
              "#9c179e"
             ],
             [
              0.4444444444444444,
              "#bd3786"
             ],
             [
              0.5555555555555556,
              "#d8576b"
             ],
             [
              0.6666666666666666,
              "#ed7953"
             ],
             [
              0.7777777777777778,
              "#fb9f3a"
             ],
             [
              0.8888888888888888,
              "#fdca26"
             ],
             [
              1,
              "#f0f921"
             ]
            ],
            "type": "histogram2d"
           }
          ],
          "histogram2dcontour": [
           {
            "colorbar": {
             "outlinewidth": 0,
             "ticks": ""
            },
            "colorscale": [
             [
              0,
              "#0d0887"
             ],
             [
              0.1111111111111111,
              "#46039f"
             ],
             [
              0.2222222222222222,
              "#7201a8"
             ],
             [
              0.3333333333333333,
              "#9c179e"
             ],
             [
              0.4444444444444444,
              "#bd3786"
             ],
             [
              0.5555555555555556,
              "#d8576b"
             ],
             [
              0.6666666666666666,
              "#ed7953"
             ],
             [
              0.7777777777777778,
              "#fb9f3a"
             ],
             [
              0.8888888888888888,
              "#fdca26"
             ],
             [
              1,
              "#f0f921"
             ]
            ],
            "type": "histogram2dcontour"
           }
          ],
          "mesh3d": [
           {
            "colorbar": {
             "outlinewidth": 0,
             "ticks": ""
            },
            "type": "mesh3d"
           }
          ],
          "parcoords": [
           {
            "line": {
             "colorbar": {
              "outlinewidth": 0,
              "ticks": ""
             }
            },
            "type": "parcoords"
           }
          ],
          "pie": [
           {
            "automargin": true,
            "type": "pie"
           }
          ],
          "scatter": [
           {
            "marker": {
             "colorbar": {
              "outlinewidth": 0,
              "ticks": ""
             }
            },
            "type": "scatter"
           }
          ],
          "scatter3d": [
           {
            "line": {
             "colorbar": {
              "outlinewidth": 0,
              "ticks": ""
             }
            },
            "marker": {
             "colorbar": {
              "outlinewidth": 0,
              "ticks": ""
             }
            },
            "type": "scatter3d"
           }
          ],
          "scattercarpet": [
           {
            "marker": {
             "colorbar": {
              "outlinewidth": 0,
              "ticks": ""
             }
            },
            "type": "scattercarpet"
           }
          ],
          "scattergeo": [
           {
            "marker": {
             "colorbar": {
              "outlinewidth": 0,
              "ticks": ""
             }
            },
            "type": "scattergeo"
           }
          ],
          "scattergl": [
           {
            "marker": {
             "colorbar": {
              "outlinewidth": 0,
              "ticks": ""
             }
            },
            "type": "scattergl"
           }
          ],
          "scattermapbox": [
           {
            "marker": {
             "colorbar": {
              "outlinewidth": 0,
              "ticks": ""
             }
            },
            "type": "scattermapbox"
           }
          ],
          "scatterpolar": [
           {
            "marker": {
             "colorbar": {
              "outlinewidth": 0,
              "ticks": ""
             }
            },
            "type": "scatterpolar"
           }
          ],
          "scatterpolargl": [
           {
            "marker": {
             "colorbar": {
              "outlinewidth": 0,
              "ticks": ""
             }
            },
            "type": "scatterpolargl"
           }
          ],
          "scatterternary": [
           {
            "marker": {
             "colorbar": {
              "outlinewidth": 0,
              "ticks": ""
             }
            },
            "type": "scatterternary"
           }
          ],
          "surface": [
           {
            "colorbar": {
             "outlinewidth": 0,
             "ticks": ""
            },
            "colorscale": [
             [
              0,
              "#0d0887"
             ],
             [
              0.1111111111111111,
              "#46039f"
             ],
             [
              0.2222222222222222,
              "#7201a8"
             ],
             [
              0.3333333333333333,
              "#9c179e"
             ],
             [
              0.4444444444444444,
              "#bd3786"
             ],
             [
              0.5555555555555556,
              "#d8576b"
             ],
             [
              0.6666666666666666,
              "#ed7953"
             ],
             [
              0.7777777777777778,
              "#fb9f3a"
             ],
             [
              0.8888888888888888,
              "#fdca26"
             ],
             [
              1,
              "#f0f921"
             ]
            ],
            "type": "surface"
           }
          ],
          "table": [
           {
            "cells": {
             "fill": {
              "color": "#EBF0F8"
             },
             "line": {
              "color": "white"
             }
            },
            "header": {
             "fill": {
              "color": "#C8D4E3"
             },
             "line": {
              "color": "white"
             }
            },
            "type": "table"
           }
          ]
         },
         "layout": {
          "annotationdefaults": {
           "arrowcolor": "#2a3f5f",
           "arrowhead": 0,
           "arrowwidth": 1
          },
          "autotypenumbers": "strict",
          "coloraxis": {
           "colorbar": {
            "outlinewidth": 0,
            "ticks": ""
           }
          },
          "colorscale": {
           "diverging": [
            [
             0,
             "#8e0152"
            ],
            [
             0.1,
             "#c51b7d"
            ],
            [
             0.2,
             "#de77ae"
            ],
            [
             0.3,
             "#f1b6da"
            ],
            [
             0.4,
             "#fde0ef"
            ],
            [
             0.5,
             "#f7f7f7"
            ],
            [
             0.6,
             "#e6f5d0"
            ],
            [
             0.7,
             "#b8e186"
            ],
            [
             0.8,
             "#7fbc41"
            ],
            [
             0.9,
             "#4d9221"
            ],
            [
             1,
             "#276419"
            ]
           ],
           "sequential": [
            [
             0,
             "#0d0887"
            ],
            [
             0.1111111111111111,
             "#46039f"
            ],
            [
             0.2222222222222222,
             "#7201a8"
            ],
            [
             0.3333333333333333,
             "#9c179e"
            ],
            [
             0.4444444444444444,
             "#bd3786"
            ],
            [
             0.5555555555555556,
             "#d8576b"
            ],
            [
             0.6666666666666666,
             "#ed7953"
            ],
            [
             0.7777777777777778,
             "#fb9f3a"
            ],
            [
             0.8888888888888888,
             "#fdca26"
            ],
            [
             1,
             "#f0f921"
            ]
           ],
           "sequentialminus": [
            [
             0,
             "#0d0887"
            ],
            [
             0.1111111111111111,
             "#46039f"
            ],
            [
             0.2222222222222222,
             "#7201a8"
            ],
            [
             0.3333333333333333,
             "#9c179e"
            ],
            [
             0.4444444444444444,
             "#bd3786"
            ],
            [
             0.5555555555555556,
             "#d8576b"
            ],
            [
             0.6666666666666666,
             "#ed7953"
            ],
            [
             0.7777777777777778,
             "#fb9f3a"
            ],
            [
             0.8888888888888888,
             "#fdca26"
            ],
            [
             1,
             "#f0f921"
            ]
           ]
          },
          "colorway": [
           "#636efa",
           "#EF553B",
           "#00cc96",
           "#ab63fa",
           "#FFA15A",
           "#19d3f3",
           "#FF6692",
           "#B6E880",
           "#FF97FF",
           "#FECB52"
          ],
          "font": {
           "color": "#2a3f5f"
          },
          "geo": {
           "bgcolor": "white",
           "lakecolor": "white",
           "landcolor": "#E5ECF6",
           "showlakes": true,
           "showland": true,
           "subunitcolor": "white"
          },
          "hoverlabel": {
           "align": "left"
          },
          "hovermode": "closest",
          "mapbox": {
           "style": "light"
          },
          "paper_bgcolor": "white",
          "plot_bgcolor": "#E5ECF6",
          "polar": {
           "angularaxis": {
            "gridcolor": "white",
            "linecolor": "white",
            "ticks": ""
           },
           "bgcolor": "#E5ECF6",
           "radialaxis": {
            "gridcolor": "white",
            "linecolor": "white",
            "ticks": ""
           }
          },
          "scene": {
           "xaxis": {
            "backgroundcolor": "#E5ECF6",
            "gridcolor": "white",
            "gridwidth": 2,
            "linecolor": "white",
            "showbackground": true,
            "ticks": "",
            "zerolinecolor": "white"
           },
           "yaxis": {
            "backgroundcolor": "#E5ECF6",
            "gridcolor": "white",
            "gridwidth": 2,
            "linecolor": "white",
            "showbackground": true,
            "ticks": "",
            "zerolinecolor": "white"
           },
           "zaxis": {
            "backgroundcolor": "#E5ECF6",
            "gridcolor": "white",
            "gridwidth": 2,
            "linecolor": "white",
            "showbackground": true,
            "ticks": "",
            "zerolinecolor": "white"
           }
          },
          "shapedefaults": {
           "line": {
            "color": "#2a3f5f"
           }
          },
          "ternary": {
           "aaxis": {
            "gridcolor": "white",
            "linecolor": "white",
            "ticks": ""
           },
           "baxis": {
            "gridcolor": "white",
            "linecolor": "white",
            "ticks": ""
           },
           "bgcolor": "#E5ECF6",
           "caxis": {
            "gridcolor": "white",
            "linecolor": "white",
            "ticks": ""
           }
          },
          "title": {
           "x": 0.05
          },
          "xaxis": {
           "automargin": true,
           "gridcolor": "white",
           "linecolor": "white",
           "ticks": "",
           "title": {
            "standoff": 15
           },
           "zerolinecolor": "white",
           "zerolinewidth": 2
          },
          "yaxis": {
           "automargin": true,
           "gridcolor": "white",
           "linecolor": "white",
           "ticks": "",
           "title": {
            "standoff": 15
           },
           "zerolinecolor": "white",
           "zerolinewidth": 2
          }
         }
        },
        "xaxis": {
         "anchor": "y",
         "domain": [
          0,
          1
         ],
         "rangeslider": {
          "visible": false
         }
        },
        "xaxis2": {
         "anchor": "y2",
         "domain": [
          0,
          1
         ]
        },
        "yaxis": {
         "anchor": "x",
         "domain": [
          0.49,
          1
         ]
        },
        "yaxis2": {
         "anchor": "x2",
         "domain": [
          0,
          0.34
         ]
        }
       }
      },
      "text/html": [
       "<div>                            <div id=\"78b43944-eea4-49de-b6ad-428d3a1aa3bd\" class=\"plotly-graph-div\" style=\"height:525px; width:100%;\"></div>            <script type=\"text/javascript\">                require([\"plotly\"], function(Plotly) {                    window.PLOTLYENV=window.PLOTLYENV || {};                                    if (document.getElementById(\"78b43944-eea4-49de-b6ad-428d3a1aa3bd\")) {                    Plotly.newPlot(                        \"78b43944-eea4-49de-b6ad-428d3a1aa3bd\",                        [{\"close\": [8.989999771118164, 9.0600004196167, 8.949999809265137, 8.970000267028809, 8.979999542236328, 9.050000190734863, 9.020000457763672, 8.970000267028809, 9.0, 9.020000457763672, 9.050000190734863, 9.0600004196167, 9.09000015258789, 9.1899995803833, 9.170000076293945, 9.210000038146973, 9.180000305175781, 9.1899995803833, 9.149999618530273, 9.109999656677246, 9.180000305175781, 9.1899995803833, 9.15999984741211, 9.149999618530273, 9.130000114440918, 9.079999923706055, 9.069999694824219, 9.0600004196167, 9.09000015258789, 9.0600004196167, 9.029999732971191, 9.029999732971191, 9.039999961853027, 9.020000457763672, 9.020000457763672, 9.020000457763672, 8.979999542236328, 8.989999771118164, 8.949999809265137, 9.0, 8.979999542236328, 9.010000228881836, 9.029999732971191, 9.0, 9.0, 9.010000228881836, 9.0, 9.010000228881836, 9.020000457763672, 9.010000228881836, 9.020000457763672, 9.010000228881836, 9.010000228881836, 9.029999732971191, 9.039999961853027, 9.0600004196167, 9.050000190734863, 9.079999923706055, 9.039999961853027, 9.029999732971191, 9.039999961853027, 9.039999961853027, 9.050000190734863, 9.050000190734863, 9.039999961853027, 9.039999961853027, 9.020000457763672, 9.010000228881836, 9.0, 8.970000267028809, 8.970000267028809, 8.960000038146973, 8.949999809265137, 8.9399995803833, 8.930000305175781, 8.869999885559082, 8.859999656677246, 8.869999885559082, 8.880000114440918, 8.869999885559082, 8.869999885559082, 8.90999984741211, 8.869999885559082], \"high\": [9.100000381469727, 9.09000015258789, 9.069999694824219, 8.989999771118164, 8.989999771118164, 9.100000381469727, 9.050000190734863, 9.029999732971191, 9.010000228881836, 9.039999961853027, 9.0600004196167, 9.079999923706055, 9.119999885559082, 9.1899995803833, 9.199999809265137, 9.220000267028809, 9.229999542236328, 9.199999809265137, 9.1899995803833, 9.149999618530273, 9.1899995803833, 9.1899995803833, 9.180000305175781, 9.15999984741211, 9.15999984741211, 9.140000343322754, 9.100000381469727, 9.079999923706055, 9.100000381469727, 9.100000381469727, 9.069999694824219, 9.039999961853027, 9.050000190734863, 9.039999961853027, 9.020000457763672, 9.029999732971191, 9.020000457763672, 8.989999771118164, 8.979999542236328, 9.0, 9.010000228881836, 9.029999732971191, 9.050000190734863, 9.039999961853027, 9.020000457763672, 9.020000457763672, 9.029999732971191, 9.010000228881836, 9.029999732971191, 9.029999732971191, 9.029999732971191, 9.020000457763672, 9.010000228881836, 9.039999961853027, 9.039999961853027, 9.0600004196167, 9.069999694824219, 9.079999923706055, 9.079999923706055, 9.0600004196167, 9.050000190734863, 9.050000190734863, 9.079999923706055, 9.050000190734863, 9.050000190734863, 9.039999961853027, 9.039999961853027, 9.020000457763672, 9.020000457763672, 9.0, 8.989999771118164, 8.970000267028809, 8.970000267028809, 8.970000267028809, 8.9399995803833, 8.920000076293945, 8.890000343322754, 8.890000343322754, 8.890000343322754, 8.880000114440918, 8.899999618530273, 8.920000076293945, 8.869999885559082], \"low\": [8.930000305175781, 8.960000038146973, 8.9399995803833, 8.9399995803833, 8.960000038146973, 8.960000038146973, 9.0, 8.960000038146973, 8.970000267028809, 9.010000228881836, 9.020000457763672, 9.039999961853027, 9.0600004196167, 9.109999656677246, 9.149999618530273, 9.149999618530273, 9.149999618530273, 9.15999984741211, 9.130000114440918, 9.09000015258789, 9.100000381469727, 9.170000076293945, 9.149999618530273, 9.130000114440918, 9.100000381469727, 9.079999923706055, 9.0600004196167, 9.050000190734863, 9.050000190734863, 9.050000190734863, 9.020000457763672, 9.0, 9.010000228881836, 9.010000228881836, 9.0, 9.0, 8.960000038146973, 8.949999809265137, 8.949999809265137, 8.949999809265137, 8.979999542236328, 8.989999771118164, 9.020000457763672, 9.0, 8.989999771118164, 8.979999542236328, 9.0, 8.989999771118164, 9.010000228881836, 9.0, 9.010000228881836, 8.989999771118164, 9.0, 9.020000457763672, 9.020000457763672, 9.039999961853027, 9.050000190734863, 9.050000190734863, 9.039999961853027, 9.029999732971191, 9.029999732971191, 9.029999732971191, 9.050000190734863, 9.039999961853027, 9.029999732971191, 9.029999732971191, 9.020000457763672, 9.0, 9.0, 8.9399995803833, 8.949999809265137, 8.949999809265137, 8.949999809265137, 8.9399995803833, 8.850000381469727, 8.869999885559082, 8.859999656677246, 8.850000381469727, 8.859999656677246, 8.850000381469727, 8.859999656677246, 8.869999885559082, 8.869999885559082], \"open\": [9.100000381469727, 8.970000267028809, 9.0600004196167, 8.960000038146973, 8.970000267028809, 8.970000267028809, 9.039999961853027, 9.020000457763672, 8.979999542236328, 9.020000457763672, 9.029999732971191, 9.050000190734863, 9.069999694824219, 9.109999656677246, 9.199999809265137, 9.170000076293945, 9.210000038146973, 9.180000305175781, 9.1899995803833, 9.149999618530273, 9.109999656677246, 9.180000305175781, 9.180000305175781, 9.15999984741211, 9.15999984741211, 9.130000114440918, 9.100000381469727, 9.069999694824219, 9.0600004196167, 9.09000015258789, 9.0600004196167, 9.020000457763672, 9.029999732971191, 9.029999732971191, 9.020000457763672, 9.010000228881836, 9.010000228881836, 8.979999542236328, 8.979999542236328, 8.949999809265137, 8.989999771118164, 9.0, 9.020000457763672, 9.020000457763672, 9.0, 9.0, 9.010000228881836, 8.989999771118164, 9.010000228881836, 9.029999732971191, 9.010000228881836, 9.020000457763672, 9.010000228881836, 9.020000457763672, 9.020000457763672, 9.039999961853027, 9.0600004196167, 9.050000190734863, 9.079999923706055, 9.050000190734863, 9.029999732971191, 9.039999961853027, 9.050000190734863, 9.039999961853027, 9.050000190734863, 9.029999732971191, 9.029999732971191, 9.010000228881836, 9.010000228881836, 9.0, 8.970000267028809, 8.970000267028809, 8.960000038146973, 8.949999809265137, 8.930000305175781, 8.90999984741211, 8.869999885559082, 8.869999885559082, 8.869999885559082, 8.880000114440918, 8.869999885559082, 8.890000343322754, 8.869999885559082], \"type\": \"candlestick\", \"x\": [\"2021-06-17T10:05:00-03:00\", \"2021-06-17T10:10:00-03:00\", \"2021-06-17T10:15:00-03:00\", \"2021-06-17T10:20:00-03:00\", \"2021-06-17T10:25:00-03:00\", \"2021-06-17T10:30:00-03:00\", \"2021-06-17T10:35:00-03:00\", \"2021-06-17T10:40:00-03:00\", \"2021-06-17T10:45:00-03:00\", \"2021-06-17T10:50:00-03:00\", \"2021-06-17T10:55:00-03:00\", \"2021-06-17T11:00:00-03:00\", \"2021-06-17T11:05:00-03:00\", \"2021-06-17T11:10:00-03:00\", \"2021-06-17T11:15:00-03:00\", \"2021-06-17T11:20:00-03:00\", \"2021-06-17T11:25:00-03:00\", \"2021-06-17T11:30:00-03:00\", \"2021-06-17T11:35:00-03:00\", \"2021-06-17T11:40:00-03:00\", \"2021-06-17T11:45:00-03:00\", \"2021-06-17T11:50:00-03:00\", \"2021-06-17T11:55:00-03:00\", \"2021-06-17T12:00:00-03:00\", \"2021-06-17T12:05:00-03:00\", \"2021-06-17T12:10:00-03:00\", \"2021-06-17T12:15:00-03:00\", \"2021-06-17T12:20:00-03:00\", \"2021-06-17T12:25:00-03:00\", \"2021-06-17T12:30:00-03:00\", \"2021-06-17T12:35:00-03:00\", \"2021-06-17T12:40:00-03:00\", \"2021-06-17T12:45:00-03:00\", \"2021-06-17T12:50:00-03:00\", \"2021-06-17T12:55:00-03:00\", \"2021-06-17T13:00:00-03:00\", \"2021-06-17T13:05:00-03:00\", \"2021-06-17T13:10:00-03:00\", \"2021-06-17T13:15:00-03:00\", \"2021-06-17T13:20:00-03:00\", \"2021-06-17T13:25:00-03:00\", \"2021-06-17T13:30:00-03:00\", \"2021-06-17T13:35:00-03:00\", \"2021-06-17T13:40:00-03:00\", \"2021-06-17T13:45:00-03:00\", \"2021-06-17T13:50:00-03:00\", \"2021-06-17T13:55:00-03:00\", \"2021-06-17T14:00:00-03:00\", \"2021-06-17T14:05:00-03:00\", \"2021-06-17T14:10:00-03:00\", \"2021-06-17T14:15:00-03:00\", \"2021-06-17T14:20:00-03:00\", \"2021-06-17T14:25:00-03:00\", \"2021-06-17T14:30:00-03:00\", \"2021-06-17T14:35:00-03:00\", \"2021-06-17T14:40:00-03:00\", \"2021-06-17T14:45:00-03:00\", \"2021-06-17T14:50:00-03:00\", \"2021-06-17T14:55:00-03:00\", \"2021-06-17T15:00:00-03:00\", \"2021-06-17T15:05:00-03:00\", \"2021-06-17T15:10:00-03:00\", \"2021-06-17T15:15:00-03:00\", \"2021-06-17T15:20:00-03:00\", \"2021-06-17T15:25:00-03:00\", \"2021-06-17T15:30:00-03:00\", \"2021-06-17T15:35:00-03:00\", \"2021-06-17T15:40:00-03:00\", \"2021-06-17T15:45:00-03:00\", \"2021-06-17T15:50:00-03:00\", \"2021-06-17T15:55:00-03:00\", \"2021-06-17T16:00:00-03:00\", \"2021-06-17T16:05:00-03:00\", \"2021-06-17T16:10:00-03:00\", \"2021-06-17T16:15:00-03:00\", \"2021-06-17T16:20:00-03:00\", \"2021-06-17T16:25:00-03:00\", \"2021-06-17T16:30:00-03:00\", \"2021-06-17T16:35:00-03:00\", \"2021-06-17T16:40:00-03:00\", \"2021-06-17T16:45:00-03:00\", \"2021-06-17T16:50:00-03:00\", \"2021-06-17T17:00:00-03:00\"], \"xaxis\": \"x\", \"yaxis\": \"y\"}, {\"type\": \"scatter\", \"x\": [\"2021-05-10T00:00:00\", \"2021-05-11T00:00:00\", \"2021-05-12T00:00:00\", \"2021-05-13T00:00:00\", \"2021-05-14T00:00:00\", \"2021-05-17T00:00:00\", \"2021-05-18T00:00:00\", \"2021-05-19T00:00:00\", \"2021-05-20T00:00:00\", \"2021-05-21T00:00:00\", \"2021-05-24T00:00:00\", \"2021-05-25T00:00:00\", \"2021-05-26T00:00:00\", \"2021-05-27T00:00:00\", \"2021-05-28T00:00:00\", \"2021-05-31T00:00:00\", \"2021-06-01T00:00:00\", \"2021-06-02T00:00:00\", \"2021-06-04T00:00:00\", \"2021-06-07T00:00:00\", \"2021-06-08T00:00:00\", \"2021-06-09T00:00:00\", \"2021-06-10T00:00:00\", \"2021-06-11T00:00:00\", \"2021-06-14T00:00:00\", \"2021-06-15T00:00:00\", \"2021-06-16T00:00:00\", \"2021-06-17T00:00:00\"], \"xaxis\": \"x2\", \"y\": [53.36664926522753, 59.834447111960785, 50.2768649783455, 49.36698374444356, 58.964149768499645, 66.39529537079989, 60.63445586735008, 62.828150382705964, 64.76640278637493, 62.531868285475554, 55.46601695656234, 55.69068487484629, 60.61235147777915, 68.48081881447284, 72.21658728279694, 75.81768328205783, 76.00903972053996, 81.76016438504462, 75.2013700975401, 76.18876991668911, 81.11491580491008, 78.01939418389951, 71.26094323538697, 71.350035862982, 76.71402464730318, 69.59611382844979, 70.84465337809536, 65.44228945626867], \"yaxis\": \"y2\"}],                        {\"coloraxis\": {\"colorbar\": {\"tickfont\": {\"color\": \"white\"}}}, \"font\": {\"color\": \"white\"}, \"paper_bgcolor\": \"#000326\", \"plot_bgcolor\": \"#000326\", \"template\": {\"data\": {\"bar\": [{\"error_x\": {\"color\": \"#2a3f5f\"}, \"error_y\": {\"color\": \"#2a3f5f\"}, \"marker\": {\"line\": {\"color\": \"#E5ECF6\", \"width\": 0.5}}, \"type\": \"bar\"}], \"barpolar\": [{\"marker\": {\"line\": {\"color\": \"#E5ECF6\", \"width\": 0.5}}, \"type\": \"barpolar\"}], \"carpet\": [{\"aaxis\": {\"endlinecolor\": \"#2a3f5f\", \"gridcolor\": \"white\", \"linecolor\": \"white\", \"minorgridcolor\": \"white\", \"startlinecolor\": \"#2a3f5f\"}, \"baxis\": {\"endlinecolor\": \"#2a3f5f\", \"gridcolor\": \"white\", \"linecolor\": \"white\", \"minorgridcolor\": \"white\", \"startlinecolor\": \"#2a3f5f\"}, \"type\": \"carpet\"}], \"choropleth\": [{\"colorbar\": {\"outlinewidth\": 0, \"ticks\": \"\"}, \"type\": \"choropleth\"}], \"contour\": [{\"colorbar\": {\"outlinewidth\": 0, \"ticks\": \"\"}, \"colorscale\": [[0.0, \"#0d0887\"], [0.1111111111111111, \"#46039f\"], [0.2222222222222222, \"#7201a8\"], [0.3333333333333333, \"#9c179e\"], [0.4444444444444444, \"#bd3786\"], [0.5555555555555556, \"#d8576b\"], [0.6666666666666666, \"#ed7953\"], [0.7777777777777778, \"#fb9f3a\"], [0.8888888888888888, \"#fdca26\"], [1.0, \"#f0f921\"]], \"type\": \"contour\"}], \"contourcarpet\": [{\"colorbar\": {\"outlinewidth\": 0, \"ticks\": \"\"}, \"type\": \"contourcarpet\"}], \"heatmap\": [{\"colorbar\": {\"outlinewidth\": 0, \"ticks\": \"\"}, \"colorscale\": [[0.0, \"#0d0887\"], [0.1111111111111111, \"#46039f\"], [0.2222222222222222, \"#7201a8\"], [0.3333333333333333, \"#9c179e\"], [0.4444444444444444, \"#bd3786\"], [0.5555555555555556, \"#d8576b\"], [0.6666666666666666, \"#ed7953\"], [0.7777777777777778, \"#fb9f3a\"], [0.8888888888888888, \"#fdca26\"], [1.0, \"#f0f921\"]], \"type\": \"heatmap\"}], \"heatmapgl\": [{\"colorbar\": {\"outlinewidth\": 0, \"ticks\": \"\"}, \"colorscale\": [[0.0, \"#0d0887\"], [0.1111111111111111, \"#46039f\"], [0.2222222222222222, \"#7201a8\"], [0.3333333333333333, \"#9c179e\"], [0.4444444444444444, \"#bd3786\"], [0.5555555555555556, \"#d8576b\"], [0.6666666666666666, \"#ed7953\"], [0.7777777777777778, \"#fb9f3a\"], [0.8888888888888888, \"#fdca26\"], [1.0, \"#f0f921\"]], \"type\": \"heatmapgl\"}], \"histogram\": [{\"marker\": {\"colorbar\": {\"outlinewidth\": 0, \"ticks\": \"\"}}, \"type\": \"histogram\"}], \"histogram2d\": [{\"colorbar\": {\"outlinewidth\": 0, \"ticks\": \"\"}, \"colorscale\": [[0.0, \"#0d0887\"], [0.1111111111111111, \"#46039f\"], [0.2222222222222222, \"#7201a8\"], [0.3333333333333333, \"#9c179e\"], [0.4444444444444444, \"#bd3786\"], [0.5555555555555556, \"#d8576b\"], [0.6666666666666666, \"#ed7953\"], [0.7777777777777778, \"#fb9f3a\"], [0.8888888888888888, \"#fdca26\"], [1.0, \"#f0f921\"]], \"type\": \"histogram2d\"}], \"histogram2dcontour\": [{\"colorbar\": {\"outlinewidth\": 0, \"ticks\": \"\"}, \"colorscale\": [[0.0, \"#0d0887\"], [0.1111111111111111, \"#46039f\"], [0.2222222222222222, \"#7201a8\"], [0.3333333333333333, \"#9c179e\"], [0.4444444444444444, \"#bd3786\"], [0.5555555555555556, \"#d8576b\"], [0.6666666666666666, \"#ed7953\"], [0.7777777777777778, \"#fb9f3a\"], [0.8888888888888888, \"#fdca26\"], [1.0, \"#f0f921\"]], \"type\": \"histogram2dcontour\"}], \"mesh3d\": [{\"colorbar\": {\"outlinewidth\": 0, \"ticks\": \"\"}, \"type\": \"mesh3d\"}], \"parcoords\": [{\"line\": {\"colorbar\": {\"outlinewidth\": 0, \"ticks\": \"\"}}, \"type\": \"parcoords\"}], \"pie\": [{\"automargin\": true, \"type\": \"pie\"}], \"scatter\": [{\"marker\": {\"colorbar\": {\"outlinewidth\": 0, \"ticks\": \"\"}}, \"type\": \"scatter\"}], \"scatter3d\": [{\"line\": {\"colorbar\": {\"outlinewidth\": 0, \"ticks\": \"\"}}, \"marker\": {\"colorbar\": {\"outlinewidth\": 0, \"ticks\": \"\"}}, \"type\": \"scatter3d\"}], \"scattercarpet\": [{\"marker\": {\"colorbar\": {\"outlinewidth\": 0, \"ticks\": \"\"}}, \"type\": \"scattercarpet\"}], \"scattergeo\": [{\"marker\": {\"colorbar\": {\"outlinewidth\": 0, \"ticks\": \"\"}}, \"type\": \"scattergeo\"}], \"scattergl\": [{\"marker\": {\"colorbar\": {\"outlinewidth\": 0, \"ticks\": \"\"}}, \"type\": \"scattergl\"}], \"scattermapbox\": [{\"marker\": {\"colorbar\": {\"outlinewidth\": 0, \"ticks\": \"\"}}, \"type\": \"scattermapbox\"}], \"scatterpolar\": [{\"marker\": {\"colorbar\": {\"outlinewidth\": 0, \"ticks\": \"\"}}, \"type\": \"scatterpolar\"}], \"scatterpolargl\": [{\"marker\": {\"colorbar\": {\"outlinewidth\": 0, \"ticks\": \"\"}}, \"type\": \"scatterpolargl\"}], \"scatterternary\": [{\"marker\": {\"colorbar\": {\"outlinewidth\": 0, \"ticks\": \"\"}}, \"type\": \"scatterternary\"}], \"surface\": [{\"colorbar\": {\"outlinewidth\": 0, \"ticks\": \"\"}, \"colorscale\": [[0.0, \"#0d0887\"], [0.1111111111111111, \"#46039f\"], [0.2222222222222222, \"#7201a8\"], [0.3333333333333333, \"#9c179e\"], [0.4444444444444444, \"#bd3786\"], [0.5555555555555556, \"#d8576b\"], [0.6666666666666666, \"#ed7953\"], [0.7777777777777778, \"#fb9f3a\"], [0.8888888888888888, \"#fdca26\"], [1.0, \"#f0f921\"]], \"type\": \"surface\"}], \"table\": [{\"cells\": {\"fill\": {\"color\": \"#EBF0F8\"}, \"line\": {\"color\": \"white\"}}, \"header\": {\"fill\": {\"color\": \"#C8D4E3\"}, \"line\": {\"color\": \"white\"}}, \"type\": \"table\"}]}, \"layout\": {\"annotationdefaults\": {\"arrowcolor\": \"#2a3f5f\", \"arrowhead\": 0, \"arrowwidth\": 1}, \"autotypenumbers\": \"strict\", \"coloraxis\": {\"colorbar\": {\"outlinewidth\": 0, \"ticks\": \"\"}}, \"colorscale\": {\"diverging\": [[0, \"#8e0152\"], [0.1, \"#c51b7d\"], [0.2, \"#de77ae\"], [0.3, \"#f1b6da\"], [0.4, \"#fde0ef\"], [0.5, \"#f7f7f7\"], [0.6, \"#e6f5d0\"], [0.7, \"#b8e186\"], [0.8, \"#7fbc41\"], [0.9, \"#4d9221\"], [1, \"#276419\"]], \"sequential\": [[0.0, \"#0d0887\"], [0.1111111111111111, \"#46039f\"], [0.2222222222222222, \"#7201a8\"], [0.3333333333333333, \"#9c179e\"], [0.4444444444444444, \"#bd3786\"], [0.5555555555555556, \"#d8576b\"], [0.6666666666666666, \"#ed7953\"], [0.7777777777777778, \"#fb9f3a\"], [0.8888888888888888, \"#fdca26\"], [1.0, \"#f0f921\"]], \"sequentialminus\": [[0.0, \"#0d0887\"], [0.1111111111111111, \"#46039f\"], [0.2222222222222222, \"#7201a8\"], [0.3333333333333333, \"#9c179e\"], [0.4444444444444444, \"#bd3786\"], [0.5555555555555556, \"#d8576b\"], [0.6666666666666666, \"#ed7953\"], [0.7777777777777778, \"#fb9f3a\"], [0.8888888888888888, \"#fdca26\"], [1.0, \"#f0f921\"]]}, \"colorway\": [\"#636efa\", \"#EF553B\", \"#00cc96\", \"#ab63fa\", \"#FFA15A\", \"#19d3f3\", \"#FF6692\", \"#B6E880\", \"#FF97FF\", \"#FECB52\"], \"font\": {\"color\": \"#2a3f5f\"}, \"geo\": {\"bgcolor\": \"white\", \"lakecolor\": \"white\", \"landcolor\": \"#E5ECF6\", \"showlakes\": true, \"showland\": true, \"subunitcolor\": \"white\"}, \"hoverlabel\": {\"align\": \"left\"}, \"hovermode\": \"closest\", \"mapbox\": {\"style\": \"light\"}, \"paper_bgcolor\": \"white\", \"plot_bgcolor\": \"#E5ECF6\", \"polar\": {\"angularaxis\": {\"gridcolor\": \"white\", \"linecolor\": \"white\", \"ticks\": \"\"}, \"bgcolor\": \"#E5ECF6\", \"radialaxis\": {\"gridcolor\": \"white\", \"linecolor\": \"white\", \"ticks\": \"\"}}, \"scene\": {\"xaxis\": {\"backgroundcolor\": \"#E5ECF6\", \"gridcolor\": \"white\", \"gridwidth\": 2, \"linecolor\": \"white\", \"showbackground\": true, \"ticks\": \"\", \"zerolinecolor\": \"white\"}, \"yaxis\": {\"backgroundcolor\": \"#E5ECF6\", \"gridcolor\": \"white\", \"gridwidth\": 2, \"linecolor\": \"white\", \"showbackground\": true, \"ticks\": \"\", \"zerolinecolor\": \"white\"}, \"zaxis\": {\"backgroundcolor\": \"#E5ECF6\", \"gridcolor\": \"white\", \"gridwidth\": 2, \"linecolor\": \"white\", \"showbackground\": true, \"ticks\": \"\", \"zerolinecolor\": \"white\"}}, \"shapedefaults\": {\"line\": {\"color\": \"#2a3f5f\"}}, \"ternary\": {\"aaxis\": {\"gridcolor\": \"white\", \"linecolor\": \"white\", \"ticks\": \"\"}, \"baxis\": {\"gridcolor\": \"white\", \"linecolor\": \"white\", \"ticks\": \"\"}, \"bgcolor\": \"#E5ECF6\", \"caxis\": {\"gridcolor\": \"white\", \"linecolor\": \"white\", \"ticks\": \"\"}}, \"title\": {\"x\": 0.05}, \"xaxis\": {\"automargin\": true, \"gridcolor\": \"white\", \"linecolor\": \"white\", \"ticks\": \"\", \"title\": {\"standoff\": 15}, \"zerolinecolor\": \"white\", \"zerolinewidth\": 2}, \"yaxis\": {\"automargin\": true, \"gridcolor\": \"white\", \"linecolor\": \"white\", \"ticks\": \"\", \"title\": {\"standoff\": 15}, \"zerolinecolor\": \"white\", \"zerolinewidth\": 2}}}, \"xaxis\": {\"anchor\": \"y\", \"domain\": [0.0, 1.0], \"rangeslider\": {\"visible\": false}}, \"xaxis2\": {\"anchor\": \"y2\", \"domain\": [0.0, 1.0]}, \"yaxis\": {\"anchor\": \"x\", \"domain\": [0.49, 1.0]}, \"yaxis2\": {\"anchor\": \"x2\", \"domain\": [0.0, 0.34]}},                        {\"responsive\": true}                    ).then(function(){\n",
       "                            \n",
       "var gd = document.getElementById('78b43944-eea4-49de-b6ad-428d3a1aa3bd');\n",
       "var x = new MutationObserver(function (mutations, observer) {{\n",
       "        var display = window.getComputedStyle(gd).display;\n",
       "        if (!display || display === 'none') {{\n",
       "            console.log([gd, 'removed!']);\n",
       "            Plotly.purge(gd);\n",
       "            observer.disconnect();\n",
       "        }}\n",
       "}});\n",
       "\n",
       "// Listen for the removal of the full notebook cells\n",
       "var notebookContainer = gd.closest('#notebook-container');\n",
       "if (notebookContainer) {{\n",
       "    x.observe(notebookContainer, {childList: true});\n",
       "}}\n",
       "\n",
       "// Listen for the clearing of the current output cell\n",
       "var outputEl = gd.closest('.output');\n",
       "if (outputEl) {{\n",
       "    x.observe(outputEl, {childList: true});\n",
       "}}\n",
       "\n",
       "                        })                };                });            </script>        </div>"
      ]
     },
     "metadata": {},
     "output_type": "display_data"
    }
   ],
   "source": [
    "get_stock_chart('amar3')"
   ]
  },
  {
   "cell_type": "code",
   "execution_count": 68,
   "metadata": {},
   "outputs": [
    {
     "name": "stdout",
     "output_type": "stream",
     "text": [
      "[*********************100%***********************]  1 of 1 completed\n",
      "[*********************100%***********************]  1 of 1 completed\n"
     ]
    },
    {
     "data": {
      "application/vnd.plotly.v1+json": {
       "config": {
        "plotlyServerURL": "https://plot.ly"
       },
       "data": [
        {
         "close": [
          14.640000343322754,
          14.59000015258789,
          14.5600004196167,
          14.510000228881836,
          14.59000015258789,
          14.59000015258789,
          14.579999923706055,
          14.619999885559082,
          14.630000114440918,
          14.699999809265137,
          14.729999542236328,
          14.739999771118164,
          14.8100004196167,
          14.880000114440918,
          14.989999771118164,
          14.960000038146973,
          15.010000228881836,
          14.979999542236328,
          14.949999809265137,
          14.979999542236328,
          14.949999809265137,
          14.9399995803833,
          14.9399995803833,
          14.920000076293945,
          14.920000076293945,
          14.920000076293945,
          14.90999984741211,
          14.930000305175781,
          14.90999984741211,
          14.890000343322754,
          14.899999618530273,
          14.90999984741211,
          14.899999618530273,
          14.899999618530273,
          14.869999885559082,
          14.819999694824219,
          14.819999694824219,
          14.819999694824219,
          14.8100004196167,
          14.789999961853027,
          14.800000190734863,
          14.8100004196167,
          14.779999732971191,
          14.789999961853027,
          14.800000190734863,
          14.8100004196167,
          14.859999656677246,
          14.880000114440918,
          14.890000343322754,
          14.869999885559082,
          14.859999656677246,
          14.899999618530273,
          14.949999809265137,
          14.960000038146973,
          15.020000457763672,
          15,
          14.979999542236328,
          14.949999809265137,
          14.920000076293945,
          14.920000076293945,
          14.9399995803833,
          14.949999809265137,
          14.9399995803833,
          14.930000305175781,
          14.9399995803833,
          14.930000305175781,
          14.949999809265137,
          14.949999809265137,
          14.930000305175781,
          14.949999809265137,
          14.9399995803833,
          14.949999809265137,
          14.989999771118164,
          15.039999961853027,
          15.050000190734863,
          15.050000190734863,
          15.050000190734863,
          15.069999694824219,
          15.09000015258789,
          15.09000015258789,
          15.010000228881836,
          15.0600004196167
         ],
         "high": [
          14.6899995803833,
          14.670000076293945,
          14.600000381469727,
          14.569999694824219,
          14.609999656677246,
          14.59000015258789,
          14.65999984741211,
          14.640000343322754,
          14.670000076293945,
          14.699999809265137,
          14.739999771118164,
          14.760000228881836,
          14.819999694824219,
          14.880000114440918,
          15.010000228881836,
          15,
          15.029999732971191,
          15.020000457763672,
          14.989999771118164,
          15,
          14.979999542236328,
          14.960000038146973,
          14.949999809265137,
          14.9399995803833,
          14.920000076293945,
          14.9399995803833,
          14.9399995803833,
          14.930000305175781,
          14.970000267028809,
          14.920000076293945,
          14.899999618530273,
          14.920000076293945,
          14.90999984741211,
          14.90999984741211,
          14.920000076293945,
          14.869999885559082,
          14.829999923706055,
          14.84000015258789,
          14.84000015258789,
          14.819999694824219,
          14.800000190734863,
          14.819999694824219,
          14.829999923706055,
          14.789999961853027,
          14.8100004196167,
          14.84000015258789,
          14.869999885559082,
          14.890000343322754,
          14.890000343322754,
          14.899999618530273,
          14.880000114440918,
          14.899999618530273,
          14.960000038146973,
          14.960000038146973,
          15.020000457763672,
          15.020000457763672,
          15.010000228881836,
          14.979999542236328,
          14.970000267028809,
          14.9399995803833,
          14.949999809265137,
          14.960000038146973,
          14.949999809265137,
          14.9399995803833,
          14.970000267028809,
          14.949999809265137,
          14.960000038146973,
          14.960000038146973,
          14.960000038146973,
          14.949999809265137,
          14.970000267028809,
          14.949999809265137,
          15,
          15.050000190734863,
          15.050000190734863,
          15.050000190734863,
          15.069999694824219,
          15.079999923706055,
          15.100000381469727,
          15.119999885559082,
          15.100000381469727,
          15.0600004196167
         ],
         "low": [
          14.619999885559082,
          14.569999694824219,
          14.550000190734863,
          14.479999542236328,
          14.479999542236328,
          14.550000190734863,
          14.579999923706055,
          14.579999923706055,
          14.619999885559082,
          14.609999656677246,
          14.670000076293945,
          14.729999542236328,
          14.729999542236328,
          14.779999732971191,
          14.869999885559082,
          14.9399995803833,
          14.9399995803833,
          14.9399995803833,
          14.920000076293945,
          14.9399995803833,
          14.930000305175781,
          14.930000305175781,
          14.920000076293945,
          14.899999618530273,
          14.850000381469727,
          14.880000114440918,
          14.90999984741211,
          14.899999618530273,
          14.90999984741211,
          14.880000114440918,
          14.8100004196167,
          14.880000114440918,
          14.880000114440918,
          14.869999885559082,
          14.869999885559082,
          14.8100004196167,
          14.800000190734863,
          14.800000190734863,
          14.8100004196167,
          14.770000457763672,
          14.760000228881836,
          14.800000190734863,
          14.770000457763672,
          14.770000457763672,
          14.770000457763672,
          14.789999961853027,
          14.819999694824219,
          14.84000015258789,
          14.850000381469727,
          14.869999885559082,
          14.84000015258789,
          14.859999656677246,
          14.890000343322754,
          14.920000076293945,
          14.949999809265137,
          14.989999771118164,
          14.970000267028809,
          14.9399995803833,
          14.920000076293945,
          14.899999618530273,
          14.899999618530273,
          14.90999984741211,
          14.899999618530273,
          14.90999984741211,
          14.920000076293945,
          14.930000305175781,
          14.930000305175781,
          14.930000305175781,
          14.920000076293945,
          14.920000076293945,
          14.930000305175781,
          14.920000076293945,
          14.9399995803833,
          14.979999542236328,
          15.010000228881836,
          15.020000457763672,
          15.039999961853027,
          15.020000457763672,
          15.069999694824219,
          15.079999923706055,
          14.9399995803833,
          15.0600004196167
         ],
         "open": [
          14.680000305175781,
          14.649999618530273,
          14.59000015258789,
          14.5600004196167,
          14.510000228881836,
          14.579999923706055,
          14.59000015258789,
          14.59000015258789,
          14.630000114440918,
          14.630000114440918,
          14.699999809265137,
          14.729999542236328,
          14.75,
          14.800000190734863,
          14.869999885559082,
          15,
          14.960000038146973,
          15.010000228881836,
          14.979999542236328,
          14.9399995803833,
          14.979999542236328,
          14.960000038146973,
          14.930000305175781,
          14.9399995803833,
          14.920000076293945,
          14.920000076293945,
          14.90999984741211,
          14.920000076293945,
          14.930000305175781,
          14.90999984741211,
          14.899999618530273,
          14.890000343322754,
          14.899999618530273,
          14.899999618530273,
          14.899999618530273,
          14.859999656677246,
          14.819999694824219,
          14.8100004196167,
          14.819999694824219,
          14.819999694824219,
          14.779999732971191,
          14.800000190734863,
          14.8100004196167,
          14.779999732971191,
          14.789999961853027,
          14.800000190734863,
          14.819999694824219,
          14.850000381469727,
          14.890000343322754,
          14.880000114440918,
          14.880000114440918,
          14.859999656677246,
          14.890000343322754,
          14.949999809265137,
          14.960000038146973,
          15.010000228881836,
          15,
          14.970000267028809,
          14.949999809265137,
          14.90999984741211,
          14.90999984741211,
          14.9399995803833,
          14.949999809265137,
          14.9399995803833,
          14.920000076293945,
          14.9399995803833,
          14.930000305175781,
          14.9399995803833,
          14.949999809265137,
          14.930000305175781,
          14.9399995803833,
          14.9399995803833,
          14.949999809265137,
          15,
          15.050000190734863,
          15.039999961853027,
          15.050000190734863,
          15.050000190734863,
          15.079999923706055,
          15.079999923706055,
          15.09000015258789,
          15.0600004196167
         ],
         "type": "candlestick",
         "x": [
          "2021-06-17T10:10:00-03:00",
          "2021-06-17T10:15:00-03:00",
          "2021-06-17T10:20:00-03:00",
          "2021-06-17T10:25:00-03:00",
          "2021-06-17T10:30:00-03:00",
          "2021-06-17T10:35:00-03:00",
          "2021-06-17T10:40:00-03:00",
          "2021-06-17T10:45:00-03:00",
          "2021-06-17T10:50:00-03:00",
          "2021-06-17T10:55:00-03:00",
          "2021-06-17T11:00:00-03:00",
          "2021-06-17T11:05:00-03:00",
          "2021-06-17T11:10:00-03:00",
          "2021-06-17T11:15:00-03:00",
          "2021-06-17T11:20:00-03:00",
          "2021-06-17T11:25:00-03:00",
          "2021-06-17T11:30:00-03:00",
          "2021-06-17T11:35:00-03:00",
          "2021-06-17T11:40:00-03:00",
          "2021-06-17T11:45:00-03:00",
          "2021-06-17T11:50:00-03:00",
          "2021-06-17T11:55:00-03:00",
          "2021-06-17T12:00:00-03:00",
          "2021-06-17T12:05:00-03:00",
          "2021-06-17T12:10:00-03:00",
          "2021-06-17T12:15:00-03:00",
          "2021-06-17T12:20:00-03:00",
          "2021-06-17T12:25:00-03:00",
          "2021-06-17T12:30:00-03:00",
          "2021-06-17T12:35:00-03:00",
          "2021-06-17T12:40:00-03:00",
          "2021-06-17T12:45:00-03:00",
          "2021-06-17T12:50:00-03:00",
          "2021-06-17T12:55:00-03:00",
          "2021-06-17T13:00:00-03:00",
          "2021-06-17T13:05:00-03:00",
          "2021-06-17T13:10:00-03:00",
          "2021-06-17T13:15:00-03:00",
          "2021-06-17T13:20:00-03:00",
          "2021-06-17T13:25:00-03:00",
          "2021-06-17T13:30:00-03:00",
          "2021-06-17T13:35:00-03:00",
          "2021-06-17T13:40:00-03:00",
          "2021-06-17T13:45:00-03:00",
          "2021-06-17T13:50:00-03:00",
          "2021-06-17T13:55:00-03:00",
          "2021-06-17T14:00:00-03:00",
          "2021-06-17T14:05:00-03:00",
          "2021-06-17T14:10:00-03:00",
          "2021-06-17T14:15:00-03:00",
          "2021-06-17T14:20:00-03:00",
          "2021-06-17T14:25:00-03:00",
          "2021-06-17T14:30:00-03:00",
          "2021-06-17T14:35:00-03:00",
          "2021-06-17T14:40:00-03:00",
          "2021-06-17T14:45:00-03:00",
          "2021-06-17T14:50:00-03:00",
          "2021-06-17T14:55:00-03:00",
          "2021-06-17T15:00:00-03:00",
          "2021-06-17T15:05:00-03:00",
          "2021-06-17T15:10:00-03:00",
          "2021-06-17T15:15:00-03:00",
          "2021-06-17T15:20:00-03:00",
          "2021-06-17T15:25:00-03:00",
          "2021-06-17T15:30:00-03:00",
          "2021-06-17T15:35:00-03:00",
          "2021-06-17T15:40:00-03:00",
          "2021-06-17T15:45:00-03:00",
          "2021-06-17T15:50:00-03:00",
          "2021-06-17T15:55:00-03:00",
          "2021-06-17T16:00:00-03:00",
          "2021-06-17T16:05:00-03:00",
          "2021-06-17T16:10:00-03:00",
          "2021-06-17T16:15:00-03:00",
          "2021-06-17T16:20:00-03:00",
          "2021-06-17T16:25:00-03:00",
          "2021-06-17T16:30:00-03:00",
          "2021-06-17T16:35:00-03:00",
          "2021-06-17T16:40:00-03:00",
          "2021-06-17T16:45:00-03:00",
          "2021-06-17T16:50:00-03:00",
          "2021-06-17T17:00:00-03:00"
         ],
         "xaxis": "x",
         "yaxis": "y"
        },
        {
         "type": "scatter",
         "x": [
          "2021-05-10T00:00:00",
          "2021-05-11T00:00:00",
          "2021-05-12T00:00:00",
          "2021-05-13T00:00:00",
          "2021-05-14T00:00:00",
          "2021-05-17T00:00:00",
          "2021-05-18T00:00:00",
          "2021-05-19T00:00:00",
          "2021-05-20T00:00:00",
          "2021-05-21T00:00:00",
          "2021-05-24T00:00:00",
          "2021-05-25T00:00:00",
          "2021-05-26T00:00:00",
          "2021-05-27T00:00:00",
          "2021-05-28T00:00:00",
          "2021-05-31T00:00:00",
          "2021-06-01T00:00:00",
          "2021-06-02T00:00:00",
          "2021-06-04T00:00:00",
          "2021-06-07T00:00:00",
          "2021-06-08T00:00:00",
          "2021-06-09T00:00:00",
          "2021-06-10T00:00:00",
          "2021-06-11T00:00:00",
          "2021-06-14T00:00:00",
          "2021-06-15T00:00:00",
          "2021-06-16T00:00:00",
          "2021-06-17T00:00:00"
         ],
         "xaxis": "x2",
         "y": [
          27.5882684810055,
          30.477187429033464,
          25.387050370093675,
          38.976215302387935,
          37.69652727344004,
          35.59868537384067,
          35.85497798043214,
          37.46305569407877,
          35.242939545150165,
          34.61181933755108,
          49.092759197049915,
          48.504552524391414,
          50.21750773400092,
          54.496454575695815,
          54.496454575695815,
          59.495485441293454,
          70.88808178740206,
          75.32111606045245,
          76.81230198621208,
          77.54295553202375,
          81.5499503072866,
          76.7131323369493,
          66.23691751773384,
          66.61460494661691,
          68.51130967002828,
          67.68310408805877,
          65.96556029905022,
          69.87594766869665
         ],
         "yaxis": "y2"
        }
       ],
       "layout": {
        "coloraxis": {
         "colorbar": {
          "tickfont": {
           "color": "white"
          }
         }
        },
        "font": {
         "color": "white"
        },
        "paper_bgcolor": "#000326",
        "plot_bgcolor": "#000326",
        "template": {
         "data": {
          "bar": [
           {
            "error_x": {
             "color": "#2a3f5f"
            },
            "error_y": {
             "color": "#2a3f5f"
            },
            "marker": {
             "line": {
              "color": "#E5ECF6",
              "width": 0.5
             }
            },
            "type": "bar"
           }
          ],
          "barpolar": [
           {
            "marker": {
             "line": {
              "color": "#E5ECF6",
              "width": 0.5
             }
            },
            "type": "barpolar"
           }
          ],
          "carpet": [
           {
            "aaxis": {
             "endlinecolor": "#2a3f5f",
             "gridcolor": "white",
             "linecolor": "white",
             "minorgridcolor": "white",
             "startlinecolor": "#2a3f5f"
            },
            "baxis": {
             "endlinecolor": "#2a3f5f",
             "gridcolor": "white",
             "linecolor": "white",
             "minorgridcolor": "white",
             "startlinecolor": "#2a3f5f"
            },
            "type": "carpet"
           }
          ],
          "choropleth": [
           {
            "colorbar": {
             "outlinewidth": 0,
             "ticks": ""
            },
            "type": "choropleth"
           }
          ],
          "contour": [
           {
            "colorbar": {
             "outlinewidth": 0,
             "ticks": ""
            },
            "colorscale": [
             [
              0,
              "#0d0887"
             ],
             [
              0.1111111111111111,
              "#46039f"
             ],
             [
              0.2222222222222222,
              "#7201a8"
             ],
             [
              0.3333333333333333,
              "#9c179e"
             ],
             [
              0.4444444444444444,
              "#bd3786"
             ],
             [
              0.5555555555555556,
              "#d8576b"
             ],
             [
              0.6666666666666666,
              "#ed7953"
             ],
             [
              0.7777777777777778,
              "#fb9f3a"
             ],
             [
              0.8888888888888888,
              "#fdca26"
             ],
             [
              1,
              "#f0f921"
             ]
            ],
            "type": "contour"
           }
          ],
          "contourcarpet": [
           {
            "colorbar": {
             "outlinewidth": 0,
             "ticks": ""
            },
            "type": "contourcarpet"
           }
          ],
          "heatmap": [
           {
            "colorbar": {
             "outlinewidth": 0,
             "ticks": ""
            },
            "colorscale": [
             [
              0,
              "#0d0887"
             ],
             [
              0.1111111111111111,
              "#46039f"
             ],
             [
              0.2222222222222222,
              "#7201a8"
             ],
             [
              0.3333333333333333,
              "#9c179e"
             ],
             [
              0.4444444444444444,
              "#bd3786"
             ],
             [
              0.5555555555555556,
              "#d8576b"
             ],
             [
              0.6666666666666666,
              "#ed7953"
             ],
             [
              0.7777777777777778,
              "#fb9f3a"
             ],
             [
              0.8888888888888888,
              "#fdca26"
             ],
             [
              1,
              "#f0f921"
             ]
            ],
            "type": "heatmap"
           }
          ],
          "heatmapgl": [
           {
            "colorbar": {
             "outlinewidth": 0,
             "ticks": ""
            },
            "colorscale": [
             [
              0,
              "#0d0887"
             ],
             [
              0.1111111111111111,
              "#46039f"
             ],
             [
              0.2222222222222222,
              "#7201a8"
             ],
             [
              0.3333333333333333,
              "#9c179e"
             ],
             [
              0.4444444444444444,
              "#bd3786"
             ],
             [
              0.5555555555555556,
              "#d8576b"
             ],
             [
              0.6666666666666666,
              "#ed7953"
             ],
             [
              0.7777777777777778,
              "#fb9f3a"
             ],
             [
              0.8888888888888888,
              "#fdca26"
             ],
             [
              1,
              "#f0f921"
             ]
            ],
            "type": "heatmapgl"
           }
          ],
          "histogram": [
           {
            "marker": {
             "colorbar": {
              "outlinewidth": 0,
              "ticks": ""
             }
            },
            "type": "histogram"
           }
          ],
          "histogram2d": [
           {
            "colorbar": {
             "outlinewidth": 0,
             "ticks": ""
            },
            "colorscale": [
             [
              0,
              "#0d0887"
             ],
             [
              0.1111111111111111,
              "#46039f"
             ],
             [
              0.2222222222222222,
              "#7201a8"
             ],
             [
              0.3333333333333333,
              "#9c179e"
             ],
             [
              0.4444444444444444,
              "#bd3786"
             ],
             [
              0.5555555555555556,
              "#d8576b"
             ],
             [
              0.6666666666666666,
              "#ed7953"
             ],
             [
              0.7777777777777778,
              "#fb9f3a"
             ],
             [
              0.8888888888888888,
              "#fdca26"
             ],
             [
              1,
              "#f0f921"
             ]
            ],
            "type": "histogram2d"
           }
          ],
          "histogram2dcontour": [
           {
            "colorbar": {
             "outlinewidth": 0,
             "ticks": ""
            },
            "colorscale": [
             [
              0,
              "#0d0887"
             ],
             [
              0.1111111111111111,
              "#46039f"
             ],
             [
              0.2222222222222222,
              "#7201a8"
             ],
             [
              0.3333333333333333,
              "#9c179e"
             ],
             [
              0.4444444444444444,
              "#bd3786"
             ],
             [
              0.5555555555555556,
              "#d8576b"
             ],
             [
              0.6666666666666666,
              "#ed7953"
             ],
             [
              0.7777777777777778,
              "#fb9f3a"
             ],
             [
              0.8888888888888888,
              "#fdca26"
             ],
             [
              1,
              "#f0f921"
             ]
            ],
            "type": "histogram2dcontour"
           }
          ],
          "mesh3d": [
           {
            "colorbar": {
             "outlinewidth": 0,
             "ticks": ""
            },
            "type": "mesh3d"
           }
          ],
          "parcoords": [
           {
            "line": {
             "colorbar": {
              "outlinewidth": 0,
              "ticks": ""
             }
            },
            "type": "parcoords"
           }
          ],
          "pie": [
           {
            "automargin": true,
            "type": "pie"
           }
          ],
          "scatter": [
           {
            "marker": {
             "colorbar": {
              "outlinewidth": 0,
              "ticks": ""
             }
            },
            "type": "scatter"
           }
          ],
          "scatter3d": [
           {
            "line": {
             "colorbar": {
              "outlinewidth": 0,
              "ticks": ""
             }
            },
            "marker": {
             "colorbar": {
              "outlinewidth": 0,
              "ticks": ""
             }
            },
            "type": "scatter3d"
           }
          ],
          "scattercarpet": [
           {
            "marker": {
             "colorbar": {
              "outlinewidth": 0,
              "ticks": ""
             }
            },
            "type": "scattercarpet"
           }
          ],
          "scattergeo": [
           {
            "marker": {
             "colorbar": {
              "outlinewidth": 0,
              "ticks": ""
             }
            },
            "type": "scattergeo"
           }
          ],
          "scattergl": [
           {
            "marker": {
             "colorbar": {
              "outlinewidth": 0,
              "ticks": ""
             }
            },
            "type": "scattergl"
           }
          ],
          "scattermapbox": [
           {
            "marker": {
             "colorbar": {
              "outlinewidth": 0,
              "ticks": ""
             }
            },
            "type": "scattermapbox"
           }
          ],
          "scatterpolar": [
           {
            "marker": {
             "colorbar": {
              "outlinewidth": 0,
              "ticks": ""
             }
            },
            "type": "scatterpolar"
           }
          ],
          "scatterpolargl": [
           {
            "marker": {
             "colorbar": {
              "outlinewidth": 0,
              "ticks": ""
             }
            },
            "type": "scatterpolargl"
           }
          ],
          "scatterternary": [
           {
            "marker": {
             "colorbar": {
              "outlinewidth": 0,
              "ticks": ""
             }
            },
            "type": "scatterternary"
           }
          ],
          "surface": [
           {
            "colorbar": {
             "outlinewidth": 0,
             "ticks": ""
            },
            "colorscale": [
             [
              0,
              "#0d0887"
             ],
             [
              0.1111111111111111,
              "#46039f"
             ],
             [
              0.2222222222222222,
              "#7201a8"
             ],
             [
              0.3333333333333333,
              "#9c179e"
             ],
             [
              0.4444444444444444,
              "#bd3786"
             ],
             [
              0.5555555555555556,
              "#d8576b"
             ],
             [
              0.6666666666666666,
              "#ed7953"
             ],
             [
              0.7777777777777778,
              "#fb9f3a"
             ],
             [
              0.8888888888888888,
              "#fdca26"
             ],
             [
              1,
              "#f0f921"
             ]
            ],
            "type": "surface"
           }
          ],
          "table": [
           {
            "cells": {
             "fill": {
              "color": "#EBF0F8"
             },
             "line": {
              "color": "white"
             }
            },
            "header": {
             "fill": {
              "color": "#C8D4E3"
             },
             "line": {
              "color": "white"
             }
            },
            "type": "table"
           }
          ]
         },
         "layout": {
          "annotationdefaults": {
           "arrowcolor": "#2a3f5f",
           "arrowhead": 0,
           "arrowwidth": 1
          },
          "autotypenumbers": "strict",
          "coloraxis": {
           "colorbar": {
            "outlinewidth": 0,
            "ticks": ""
           }
          },
          "colorscale": {
           "diverging": [
            [
             0,
             "#8e0152"
            ],
            [
             0.1,
             "#c51b7d"
            ],
            [
             0.2,
             "#de77ae"
            ],
            [
             0.3,
             "#f1b6da"
            ],
            [
             0.4,
             "#fde0ef"
            ],
            [
             0.5,
             "#f7f7f7"
            ],
            [
             0.6,
             "#e6f5d0"
            ],
            [
             0.7,
             "#b8e186"
            ],
            [
             0.8,
             "#7fbc41"
            ],
            [
             0.9,
             "#4d9221"
            ],
            [
             1,
             "#276419"
            ]
           ],
           "sequential": [
            [
             0,
             "#0d0887"
            ],
            [
             0.1111111111111111,
             "#46039f"
            ],
            [
             0.2222222222222222,
             "#7201a8"
            ],
            [
             0.3333333333333333,
             "#9c179e"
            ],
            [
             0.4444444444444444,
             "#bd3786"
            ],
            [
             0.5555555555555556,
             "#d8576b"
            ],
            [
             0.6666666666666666,
             "#ed7953"
            ],
            [
             0.7777777777777778,
             "#fb9f3a"
            ],
            [
             0.8888888888888888,
             "#fdca26"
            ],
            [
             1,
             "#f0f921"
            ]
           ],
           "sequentialminus": [
            [
             0,
             "#0d0887"
            ],
            [
             0.1111111111111111,
             "#46039f"
            ],
            [
             0.2222222222222222,
             "#7201a8"
            ],
            [
             0.3333333333333333,
             "#9c179e"
            ],
            [
             0.4444444444444444,
             "#bd3786"
            ],
            [
             0.5555555555555556,
             "#d8576b"
            ],
            [
             0.6666666666666666,
             "#ed7953"
            ],
            [
             0.7777777777777778,
             "#fb9f3a"
            ],
            [
             0.8888888888888888,
             "#fdca26"
            ],
            [
             1,
             "#f0f921"
            ]
           ]
          },
          "colorway": [
           "#636efa",
           "#EF553B",
           "#00cc96",
           "#ab63fa",
           "#FFA15A",
           "#19d3f3",
           "#FF6692",
           "#B6E880",
           "#FF97FF",
           "#FECB52"
          ],
          "font": {
           "color": "#2a3f5f"
          },
          "geo": {
           "bgcolor": "white",
           "lakecolor": "white",
           "landcolor": "#E5ECF6",
           "showlakes": true,
           "showland": true,
           "subunitcolor": "white"
          },
          "hoverlabel": {
           "align": "left"
          },
          "hovermode": "closest",
          "mapbox": {
           "style": "light"
          },
          "paper_bgcolor": "white",
          "plot_bgcolor": "#E5ECF6",
          "polar": {
           "angularaxis": {
            "gridcolor": "white",
            "linecolor": "white",
            "ticks": ""
           },
           "bgcolor": "#E5ECF6",
           "radialaxis": {
            "gridcolor": "white",
            "linecolor": "white",
            "ticks": ""
           }
          },
          "scene": {
           "xaxis": {
            "backgroundcolor": "#E5ECF6",
            "gridcolor": "white",
            "gridwidth": 2,
            "linecolor": "white",
            "showbackground": true,
            "ticks": "",
            "zerolinecolor": "white"
           },
           "yaxis": {
            "backgroundcolor": "#E5ECF6",
            "gridcolor": "white",
            "gridwidth": 2,
            "linecolor": "white",
            "showbackground": true,
            "ticks": "",
            "zerolinecolor": "white"
           },
           "zaxis": {
            "backgroundcolor": "#E5ECF6",
            "gridcolor": "white",
            "gridwidth": 2,
            "linecolor": "white",
            "showbackground": true,
            "ticks": "",
            "zerolinecolor": "white"
           }
          },
          "shapedefaults": {
           "line": {
            "color": "#2a3f5f"
           }
          },
          "ternary": {
           "aaxis": {
            "gridcolor": "white",
            "linecolor": "white",
            "ticks": ""
           },
           "baxis": {
            "gridcolor": "white",
            "linecolor": "white",
            "ticks": ""
           },
           "bgcolor": "#E5ECF6",
           "caxis": {
            "gridcolor": "white",
            "linecolor": "white",
            "ticks": ""
           }
          },
          "title": {
           "x": 0.05
          },
          "xaxis": {
           "automargin": true,
           "gridcolor": "white",
           "linecolor": "white",
           "ticks": "",
           "title": {
            "standoff": 15
           },
           "zerolinecolor": "white",
           "zerolinewidth": 2
          },
          "yaxis": {
           "automargin": true,
           "gridcolor": "white",
           "linecolor": "white",
           "ticks": "",
           "title": {
            "standoff": 15
           },
           "zerolinecolor": "white",
           "zerolinewidth": 2
          }
         }
        },
        "xaxis": {
         "anchor": "y",
         "domain": [
          0,
          1
         ],
         "rangeslider": {
          "visible": false
         }
        },
        "xaxis2": {
         "anchor": "y2",
         "domain": [
          0,
          1
         ]
        },
        "yaxis": {
         "anchor": "x",
         "domain": [
          0.49,
          1
         ]
        },
        "yaxis2": {
         "anchor": "x2",
         "domain": [
          0,
          0.34
         ]
        }
       }
      },
      "text/html": [
       "<div>                            <div id=\"22c7002b-e5cf-4194-9a8d-cc8caeaf57f6\" class=\"plotly-graph-div\" style=\"height:525px; width:100%;\"></div>            <script type=\"text/javascript\">                require([\"plotly\"], function(Plotly) {                    window.PLOTLYENV=window.PLOTLYENV || {};                                    if (document.getElementById(\"22c7002b-e5cf-4194-9a8d-cc8caeaf57f6\")) {                    Plotly.newPlot(                        \"22c7002b-e5cf-4194-9a8d-cc8caeaf57f6\",                        [{\"close\": [14.640000343322754, 14.59000015258789, 14.5600004196167, 14.510000228881836, 14.59000015258789, 14.59000015258789, 14.579999923706055, 14.619999885559082, 14.630000114440918, 14.699999809265137, 14.729999542236328, 14.739999771118164, 14.8100004196167, 14.880000114440918, 14.989999771118164, 14.960000038146973, 15.010000228881836, 14.979999542236328, 14.949999809265137, 14.979999542236328, 14.949999809265137, 14.9399995803833, 14.9399995803833, 14.920000076293945, 14.920000076293945, 14.920000076293945, 14.90999984741211, 14.930000305175781, 14.90999984741211, 14.890000343322754, 14.899999618530273, 14.90999984741211, 14.899999618530273, 14.899999618530273, 14.869999885559082, 14.819999694824219, 14.819999694824219, 14.819999694824219, 14.8100004196167, 14.789999961853027, 14.800000190734863, 14.8100004196167, 14.779999732971191, 14.789999961853027, 14.800000190734863, 14.8100004196167, 14.859999656677246, 14.880000114440918, 14.890000343322754, 14.869999885559082, 14.859999656677246, 14.899999618530273, 14.949999809265137, 14.960000038146973, 15.020000457763672, 15.0, 14.979999542236328, 14.949999809265137, 14.920000076293945, 14.920000076293945, 14.9399995803833, 14.949999809265137, 14.9399995803833, 14.930000305175781, 14.9399995803833, 14.930000305175781, 14.949999809265137, 14.949999809265137, 14.930000305175781, 14.949999809265137, 14.9399995803833, 14.949999809265137, 14.989999771118164, 15.039999961853027, 15.050000190734863, 15.050000190734863, 15.050000190734863, 15.069999694824219, 15.09000015258789, 15.09000015258789, 15.010000228881836, 15.0600004196167], \"high\": [14.6899995803833, 14.670000076293945, 14.600000381469727, 14.569999694824219, 14.609999656677246, 14.59000015258789, 14.65999984741211, 14.640000343322754, 14.670000076293945, 14.699999809265137, 14.739999771118164, 14.760000228881836, 14.819999694824219, 14.880000114440918, 15.010000228881836, 15.0, 15.029999732971191, 15.020000457763672, 14.989999771118164, 15.0, 14.979999542236328, 14.960000038146973, 14.949999809265137, 14.9399995803833, 14.920000076293945, 14.9399995803833, 14.9399995803833, 14.930000305175781, 14.970000267028809, 14.920000076293945, 14.899999618530273, 14.920000076293945, 14.90999984741211, 14.90999984741211, 14.920000076293945, 14.869999885559082, 14.829999923706055, 14.84000015258789, 14.84000015258789, 14.819999694824219, 14.800000190734863, 14.819999694824219, 14.829999923706055, 14.789999961853027, 14.8100004196167, 14.84000015258789, 14.869999885559082, 14.890000343322754, 14.890000343322754, 14.899999618530273, 14.880000114440918, 14.899999618530273, 14.960000038146973, 14.960000038146973, 15.020000457763672, 15.020000457763672, 15.010000228881836, 14.979999542236328, 14.970000267028809, 14.9399995803833, 14.949999809265137, 14.960000038146973, 14.949999809265137, 14.9399995803833, 14.970000267028809, 14.949999809265137, 14.960000038146973, 14.960000038146973, 14.960000038146973, 14.949999809265137, 14.970000267028809, 14.949999809265137, 15.0, 15.050000190734863, 15.050000190734863, 15.050000190734863, 15.069999694824219, 15.079999923706055, 15.100000381469727, 15.119999885559082, 15.100000381469727, 15.0600004196167], \"low\": [14.619999885559082, 14.569999694824219, 14.550000190734863, 14.479999542236328, 14.479999542236328, 14.550000190734863, 14.579999923706055, 14.579999923706055, 14.619999885559082, 14.609999656677246, 14.670000076293945, 14.729999542236328, 14.729999542236328, 14.779999732971191, 14.869999885559082, 14.9399995803833, 14.9399995803833, 14.9399995803833, 14.920000076293945, 14.9399995803833, 14.930000305175781, 14.930000305175781, 14.920000076293945, 14.899999618530273, 14.850000381469727, 14.880000114440918, 14.90999984741211, 14.899999618530273, 14.90999984741211, 14.880000114440918, 14.8100004196167, 14.880000114440918, 14.880000114440918, 14.869999885559082, 14.869999885559082, 14.8100004196167, 14.800000190734863, 14.800000190734863, 14.8100004196167, 14.770000457763672, 14.760000228881836, 14.800000190734863, 14.770000457763672, 14.770000457763672, 14.770000457763672, 14.789999961853027, 14.819999694824219, 14.84000015258789, 14.850000381469727, 14.869999885559082, 14.84000015258789, 14.859999656677246, 14.890000343322754, 14.920000076293945, 14.949999809265137, 14.989999771118164, 14.970000267028809, 14.9399995803833, 14.920000076293945, 14.899999618530273, 14.899999618530273, 14.90999984741211, 14.899999618530273, 14.90999984741211, 14.920000076293945, 14.930000305175781, 14.930000305175781, 14.930000305175781, 14.920000076293945, 14.920000076293945, 14.930000305175781, 14.920000076293945, 14.9399995803833, 14.979999542236328, 15.010000228881836, 15.020000457763672, 15.039999961853027, 15.020000457763672, 15.069999694824219, 15.079999923706055, 14.9399995803833, 15.0600004196167], \"open\": [14.680000305175781, 14.649999618530273, 14.59000015258789, 14.5600004196167, 14.510000228881836, 14.579999923706055, 14.59000015258789, 14.59000015258789, 14.630000114440918, 14.630000114440918, 14.699999809265137, 14.729999542236328, 14.75, 14.800000190734863, 14.869999885559082, 15.0, 14.960000038146973, 15.010000228881836, 14.979999542236328, 14.9399995803833, 14.979999542236328, 14.960000038146973, 14.930000305175781, 14.9399995803833, 14.920000076293945, 14.920000076293945, 14.90999984741211, 14.920000076293945, 14.930000305175781, 14.90999984741211, 14.899999618530273, 14.890000343322754, 14.899999618530273, 14.899999618530273, 14.899999618530273, 14.859999656677246, 14.819999694824219, 14.8100004196167, 14.819999694824219, 14.819999694824219, 14.779999732971191, 14.800000190734863, 14.8100004196167, 14.779999732971191, 14.789999961853027, 14.800000190734863, 14.819999694824219, 14.850000381469727, 14.890000343322754, 14.880000114440918, 14.880000114440918, 14.859999656677246, 14.890000343322754, 14.949999809265137, 14.960000038146973, 15.010000228881836, 15.0, 14.970000267028809, 14.949999809265137, 14.90999984741211, 14.90999984741211, 14.9399995803833, 14.949999809265137, 14.9399995803833, 14.920000076293945, 14.9399995803833, 14.930000305175781, 14.9399995803833, 14.949999809265137, 14.930000305175781, 14.9399995803833, 14.9399995803833, 14.949999809265137, 15.0, 15.050000190734863, 15.039999961853027, 15.050000190734863, 15.050000190734863, 15.079999923706055, 15.079999923706055, 15.09000015258789, 15.0600004196167], \"type\": \"candlestick\", \"x\": [\"2021-06-17T10:10:00-03:00\", \"2021-06-17T10:15:00-03:00\", \"2021-06-17T10:20:00-03:00\", \"2021-06-17T10:25:00-03:00\", \"2021-06-17T10:30:00-03:00\", \"2021-06-17T10:35:00-03:00\", \"2021-06-17T10:40:00-03:00\", \"2021-06-17T10:45:00-03:00\", \"2021-06-17T10:50:00-03:00\", \"2021-06-17T10:55:00-03:00\", \"2021-06-17T11:00:00-03:00\", \"2021-06-17T11:05:00-03:00\", \"2021-06-17T11:10:00-03:00\", \"2021-06-17T11:15:00-03:00\", \"2021-06-17T11:20:00-03:00\", \"2021-06-17T11:25:00-03:00\", \"2021-06-17T11:30:00-03:00\", \"2021-06-17T11:35:00-03:00\", \"2021-06-17T11:40:00-03:00\", \"2021-06-17T11:45:00-03:00\", \"2021-06-17T11:50:00-03:00\", \"2021-06-17T11:55:00-03:00\", \"2021-06-17T12:00:00-03:00\", \"2021-06-17T12:05:00-03:00\", \"2021-06-17T12:10:00-03:00\", \"2021-06-17T12:15:00-03:00\", \"2021-06-17T12:20:00-03:00\", \"2021-06-17T12:25:00-03:00\", \"2021-06-17T12:30:00-03:00\", \"2021-06-17T12:35:00-03:00\", \"2021-06-17T12:40:00-03:00\", \"2021-06-17T12:45:00-03:00\", \"2021-06-17T12:50:00-03:00\", \"2021-06-17T12:55:00-03:00\", \"2021-06-17T13:00:00-03:00\", \"2021-06-17T13:05:00-03:00\", \"2021-06-17T13:10:00-03:00\", \"2021-06-17T13:15:00-03:00\", \"2021-06-17T13:20:00-03:00\", \"2021-06-17T13:25:00-03:00\", \"2021-06-17T13:30:00-03:00\", \"2021-06-17T13:35:00-03:00\", \"2021-06-17T13:40:00-03:00\", \"2021-06-17T13:45:00-03:00\", \"2021-06-17T13:50:00-03:00\", \"2021-06-17T13:55:00-03:00\", \"2021-06-17T14:00:00-03:00\", \"2021-06-17T14:05:00-03:00\", \"2021-06-17T14:10:00-03:00\", \"2021-06-17T14:15:00-03:00\", \"2021-06-17T14:20:00-03:00\", \"2021-06-17T14:25:00-03:00\", \"2021-06-17T14:30:00-03:00\", \"2021-06-17T14:35:00-03:00\", \"2021-06-17T14:40:00-03:00\", \"2021-06-17T14:45:00-03:00\", \"2021-06-17T14:50:00-03:00\", \"2021-06-17T14:55:00-03:00\", \"2021-06-17T15:00:00-03:00\", \"2021-06-17T15:05:00-03:00\", \"2021-06-17T15:10:00-03:00\", \"2021-06-17T15:15:00-03:00\", \"2021-06-17T15:20:00-03:00\", \"2021-06-17T15:25:00-03:00\", \"2021-06-17T15:30:00-03:00\", \"2021-06-17T15:35:00-03:00\", \"2021-06-17T15:40:00-03:00\", \"2021-06-17T15:45:00-03:00\", \"2021-06-17T15:50:00-03:00\", \"2021-06-17T15:55:00-03:00\", \"2021-06-17T16:00:00-03:00\", \"2021-06-17T16:05:00-03:00\", \"2021-06-17T16:10:00-03:00\", \"2021-06-17T16:15:00-03:00\", \"2021-06-17T16:20:00-03:00\", \"2021-06-17T16:25:00-03:00\", \"2021-06-17T16:30:00-03:00\", \"2021-06-17T16:35:00-03:00\", \"2021-06-17T16:40:00-03:00\", \"2021-06-17T16:45:00-03:00\", \"2021-06-17T16:50:00-03:00\", \"2021-06-17T17:00:00-03:00\"], \"xaxis\": \"x\", \"yaxis\": \"y\"}, {\"type\": \"scatter\", \"x\": [\"2021-05-10T00:00:00\", \"2021-05-11T00:00:00\", \"2021-05-12T00:00:00\", \"2021-05-13T00:00:00\", \"2021-05-14T00:00:00\", \"2021-05-17T00:00:00\", \"2021-05-18T00:00:00\", \"2021-05-19T00:00:00\", \"2021-05-20T00:00:00\", \"2021-05-21T00:00:00\", \"2021-05-24T00:00:00\", \"2021-05-25T00:00:00\", \"2021-05-26T00:00:00\", \"2021-05-27T00:00:00\", \"2021-05-28T00:00:00\", \"2021-05-31T00:00:00\", \"2021-06-01T00:00:00\", \"2021-06-02T00:00:00\", \"2021-06-04T00:00:00\", \"2021-06-07T00:00:00\", \"2021-06-08T00:00:00\", \"2021-06-09T00:00:00\", \"2021-06-10T00:00:00\", \"2021-06-11T00:00:00\", \"2021-06-14T00:00:00\", \"2021-06-15T00:00:00\", \"2021-06-16T00:00:00\", \"2021-06-17T00:00:00\"], \"xaxis\": \"x2\", \"y\": [27.5882684810055, 30.477187429033464, 25.387050370093675, 38.976215302387935, 37.69652727344004, 35.59868537384067, 35.85497798043214, 37.46305569407877, 35.242939545150165, 34.61181933755108, 49.092759197049915, 48.504552524391414, 50.21750773400092, 54.496454575695815, 54.496454575695815, 59.495485441293454, 70.88808178740206, 75.32111606045245, 76.81230198621208, 77.54295553202375, 81.5499503072866, 76.7131323369493, 66.23691751773384, 66.61460494661691, 68.51130967002828, 67.68310408805877, 65.96556029905022, 69.87594766869665], \"yaxis\": \"y2\"}],                        {\"coloraxis\": {\"colorbar\": {\"tickfont\": {\"color\": \"white\"}}}, \"font\": {\"color\": \"white\"}, \"paper_bgcolor\": \"#000326\", \"plot_bgcolor\": \"#000326\", \"template\": {\"data\": {\"bar\": [{\"error_x\": {\"color\": \"#2a3f5f\"}, \"error_y\": {\"color\": \"#2a3f5f\"}, \"marker\": {\"line\": {\"color\": \"#E5ECF6\", \"width\": 0.5}}, \"type\": \"bar\"}], \"barpolar\": [{\"marker\": {\"line\": {\"color\": \"#E5ECF6\", \"width\": 0.5}}, \"type\": \"barpolar\"}], \"carpet\": [{\"aaxis\": {\"endlinecolor\": \"#2a3f5f\", \"gridcolor\": \"white\", \"linecolor\": \"white\", \"minorgridcolor\": \"white\", \"startlinecolor\": \"#2a3f5f\"}, \"baxis\": {\"endlinecolor\": \"#2a3f5f\", \"gridcolor\": \"white\", \"linecolor\": \"white\", \"minorgridcolor\": \"white\", \"startlinecolor\": \"#2a3f5f\"}, \"type\": \"carpet\"}], \"choropleth\": [{\"colorbar\": {\"outlinewidth\": 0, \"ticks\": \"\"}, \"type\": \"choropleth\"}], \"contour\": [{\"colorbar\": {\"outlinewidth\": 0, \"ticks\": \"\"}, \"colorscale\": [[0.0, \"#0d0887\"], [0.1111111111111111, \"#46039f\"], [0.2222222222222222, \"#7201a8\"], [0.3333333333333333, \"#9c179e\"], [0.4444444444444444, \"#bd3786\"], [0.5555555555555556, \"#d8576b\"], [0.6666666666666666, \"#ed7953\"], [0.7777777777777778, \"#fb9f3a\"], [0.8888888888888888, \"#fdca26\"], [1.0, \"#f0f921\"]], \"type\": \"contour\"}], \"contourcarpet\": [{\"colorbar\": {\"outlinewidth\": 0, \"ticks\": \"\"}, \"type\": \"contourcarpet\"}], \"heatmap\": [{\"colorbar\": {\"outlinewidth\": 0, \"ticks\": \"\"}, \"colorscale\": [[0.0, \"#0d0887\"], [0.1111111111111111, \"#46039f\"], [0.2222222222222222, \"#7201a8\"], [0.3333333333333333, \"#9c179e\"], [0.4444444444444444, \"#bd3786\"], [0.5555555555555556, \"#d8576b\"], [0.6666666666666666, \"#ed7953\"], [0.7777777777777778, \"#fb9f3a\"], [0.8888888888888888, \"#fdca26\"], [1.0, \"#f0f921\"]], \"type\": \"heatmap\"}], \"heatmapgl\": [{\"colorbar\": {\"outlinewidth\": 0, \"ticks\": \"\"}, \"colorscale\": [[0.0, \"#0d0887\"], [0.1111111111111111, \"#46039f\"], [0.2222222222222222, \"#7201a8\"], [0.3333333333333333, \"#9c179e\"], [0.4444444444444444, \"#bd3786\"], [0.5555555555555556, \"#d8576b\"], [0.6666666666666666, \"#ed7953\"], [0.7777777777777778, \"#fb9f3a\"], [0.8888888888888888, \"#fdca26\"], [1.0, \"#f0f921\"]], \"type\": \"heatmapgl\"}], \"histogram\": [{\"marker\": {\"colorbar\": {\"outlinewidth\": 0, \"ticks\": \"\"}}, \"type\": \"histogram\"}], \"histogram2d\": [{\"colorbar\": {\"outlinewidth\": 0, \"ticks\": \"\"}, \"colorscale\": [[0.0, \"#0d0887\"], [0.1111111111111111, \"#46039f\"], [0.2222222222222222, \"#7201a8\"], [0.3333333333333333, \"#9c179e\"], [0.4444444444444444, \"#bd3786\"], [0.5555555555555556, \"#d8576b\"], [0.6666666666666666, \"#ed7953\"], [0.7777777777777778, \"#fb9f3a\"], [0.8888888888888888, \"#fdca26\"], [1.0, \"#f0f921\"]], \"type\": \"histogram2d\"}], \"histogram2dcontour\": [{\"colorbar\": {\"outlinewidth\": 0, \"ticks\": \"\"}, \"colorscale\": [[0.0, \"#0d0887\"], [0.1111111111111111, \"#46039f\"], [0.2222222222222222, \"#7201a8\"], [0.3333333333333333, \"#9c179e\"], [0.4444444444444444, \"#bd3786\"], [0.5555555555555556, \"#d8576b\"], [0.6666666666666666, \"#ed7953\"], [0.7777777777777778, \"#fb9f3a\"], [0.8888888888888888, \"#fdca26\"], [1.0, \"#f0f921\"]], \"type\": \"histogram2dcontour\"}], \"mesh3d\": [{\"colorbar\": {\"outlinewidth\": 0, \"ticks\": \"\"}, \"type\": \"mesh3d\"}], \"parcoords\": [{\"line\": {\"colorbar\": {\"outlinewidth\": 0, \"ticks\": \"\"}}, \"type\": \"parcoords\"}], \"pie\": [{\"automargin\": true, \"type\": \"pie\"}], \"scatter\": [{\"marker\": {\"colorbar\": {\"outlinewidth\": 0, \"ticks\": \"\"}}, \"type\": \"scatter\"}], \"scatter3d\": [{\"line\": {\"colorbar\": {\"outlinewidth\": 0, \"ticks\": \"\"}}, \"marker\": {\"colorbar\": {\"outlinewidth\": 0, \"ticks\": \"\"}}, \"type\": \"scatter3d\"}], \"scattercarpet\": [{\"marker\": {\"colorbar\": {\"outlinewidth\": 0, \"ticks\": \"\"}}, \"type\": \"scattercarpet\"}], \"scattergeo\": [{\"marker\": {\"colorbar\": {\"outlinewidth\": 0, \"ticks\": \"\"}}, \"type\": \"scattergeo\"}], \"scattergl\": [{\"marker\": {\"colorbar\": {\"outlinewidth\": 0, \"ticks\": \"\"}}, \"type\": \"scattergl\"}], \"scattermapbox\": [{\"marker\": {\"colorbar\": {\"outlinewidth\": 0, \"ticks\": \"\"}}, \"type\": \"scattermapbox\"}], \"scatterpolar\": [{\"marker\": {\"colorbar\": {\"outlinewidth\": 0, \"ticks\": \"\"}}, \"type\": \"scatterpolar\"}], \"scatterpolargl\": [{\"marker\": {\"colorbar\": {\"outlinewidth\": 0, \"ticks\": \"\"}}, \"type\": \"scatterpolargl\"}], \"scatterternary\": [{\"marker\": {\"colorbar\": {\"outlinewidth\": 0, \"ticks\": \"\"}}, \"type\": \"scatterternary\"}], \"surface\": [{\"colorbar\": {\"outlinewidth\": 0, \"ticks\": \"\"}, \"colorscale\": [[0.0, \"#0d0887\"], [0.1111111111111111, \"#46039f\"], [0.2222222222222222, \"#7201a8\"], [0.3333333333333333, \"#9c179e\"], [0.4444444444444444, \"#bd3786\"], [0.5555555555555556, \"#d8576b\"], [0.6666666666666666, \"#ed7953\"], [0.7777777777777778, \"#fb9f3a\"], [0.8888888888888888, \"#fdca26\"], [1.0, \"#f0f921\"]], \"type\": \"surface\"}], \"table\": [{\"cells\": {\"fill\": {\"color\": \"#EBF0F8\"}, \"line\": {\"color\": \"white\"}}, \"header\": {\"fill\": {\"color\": \"#C8D4E3\"}, \"line\": {\"color\": \"white\"}}, \"type\": \"table\"}]}, \"layout\": {\"annotationdefaults\": {\"arrowcolor\": \"#2a3f5f\", \"arrowhead\": 0, \"arrowwidth\": 1}, \"autotypenumbers\": \"strict\", \"coloraxis\": {\"colorbar\": {\"outlinewidth\": 0, \"ticks\": \"\"}}, \"colorscale\": {\"diverging\": [[0, \"#8e0152\"], [0.1, \"#c51b7d\"], [0.2, \"#de77ae\"], [0.3, \"#f1b6da\"], [0.4, \"#fde0ef\"], [0.5, \"#f7f7f7\"], [0.6, \"#e6f5d0\"], [0.7, \"#b8e186\"], [0.8, \"#7fbc41\"], [0.9, \"#4d9221\"], [1, \"#276419\"]], \"sequential\": [[0.0, \"#0d0887\"], [0.1111111111111111, \"#46039f\"], [0.2222222222222222, \"#7201a8\"], [0.3333333333333333, \"#9c179e\"], [0.4444444444444444, \"#bd3786\"], [0.5555555555555556, \"#d8576b\"], [0.6666666666666666, \"#ed7953\"], [0.7777777777777778, \"#fb9f3a\"], [0.8888888888888888, \"#fdca26\"], [1.0, \"#f0f921\"]], \"sequentialminus\": [[0.0, \"#0d0887\"], [0.1111111111111111, \"#46039f\"], [0.2222222222222222, \"#7201a8\"], [0.3333333333333333, \"#9c179e\"], [0.4444444444444444, \"#bd3786\"], [0.5555555555555556, \"#d8576b\"], [0.6666666666666666, \"#ed7953\"], [0.7777777777777778, \"#fb9f3a\"], [0.8888888888888888, \"#fdca26\"], [1.0, \"#f0f921\"]]}, \"colorway\": [\"#636efa\", \"#EF553B\", \"#00cc96\", \"#ab63fa\", \"#FFA15A\", \"#19d3f3\", \"#FF6692\", \"#B6E880\", \"#FF97FF\", \"#FECB52\"], \"font\": {\"color\": \"#2a3f5f\"}, \"geo\": {\"bgcolor\": \"white\", \"lakecolor\": \"white\", \"landcolor\": \"#E5ECF6\", \"showlakes\": true, \"showland\": true, \"subunitcolor\": \"white\"}, \"hoverlabel\": {\"align\": \"left\"}, \"hovermode\": \"closest\", \"mapbox\": {\"style\": \"light\"}, \"paper_bgcolor\": \"white\", \"plot_bgcolor\": \"#E5ECF6\", \"polar\": {\"angularaxis\": {\"gridcolor\": \"white\", \"linecolor\": \"white\", \"ticks\": \"\"}, \"bgcolor\": \"#E5ECF6\", \"radialaxis\": {\"gridcolor\": \"white\", \"linecolor\": \"white\", \"ticks\": \"\"}}, \"scene\": {\"xaxis\": {\"backgroundcolor\": \"#E5ECF6\", \"gridcolor\": \"white\", \"gridwidth\": 2, \"linecolor\": \"white\", \"showbackground\": true, \"ticks\": \"\", \"zerolinecolor\": \"white\"}, \"yaxis\": {\"backgroundcolor\": \"#E5ECF6\", \"gridcolor\": \"white\", \"gridwidth\": 2, \"linecolor\": \"white\", \"showbackground\": true, \"ticks\": \"\", \"zerolinecolor\": \"white\"}, \"zaxis\": {\"backgroundcolor\": \"#E5ECF6\", \"gridcolor\": \"white\", \"gridwidth\": 2, \"linecolor\": \"white\", \"showbackground\": true, \"ticks\": \"\", \"zerolinecolor\": \"white\"}}, \"shapedefaults\": {\"line\": {\"color\": \"#2a3f5f\"}}, \"ternary\": {\"aaxis\": {\"gridcolor\": \"white\", \"linecolor\": \"white\", \"ticks\": \"\"}, \"baxis\": {\"gridcolor\": \"white\", \"linecolor\": \"white\", \"ticks\": \"\"}, \"bgcolor\": \"#E5ECF6\", \"caxis\": {\"gridcolor\": \"white\", \"linecolor\": \"white\", \"ticks\": \"\"}}, \"title\": {\"x\": 0.05}, \"xaxis\": {\"automargin\": true, \"gridcolor\": \"white\", \"linecolor\": \"white\", \"ticks\": \"\", \"title\": {\"standoff\": 15}, \"zerolinecolor\": \"white\", \"zerolinewidth\": 2}, \"yaxis\": {\"automargin\": true, \"gridcolor\": \"white\", \"linecolor\": \"white\", \"ticks\": \"\", \"title\": {\"standoff\": 15}, \"zerolinecolor\": \"white\", \"zerolinewidth\": 2}}}, \"xaxis\": {\"anchor\": \"y\", \"domain\": [0.0, 1.0], \"rangeslider\": {\"visible\": false}}, \"xaxis2\": {\"anchor\": \"y2\", \"domain\": [0.0, 1.0]}, \"yaxis\": {\"anchor\": \"x\", \"domain\": [0.49, 1.0]}, \"yaxis2\": {\"anchor\": \"x2\", \"domain\": [0.0, 0.34]}},                        {\"responsive\": true}                    ).then(function(){\n",
       "                            \n",
       "var gd = document.getElementById('22c7002b-e5cf-4194-9a8d-cc8caeaf57f6');\n",
       "var x = new MutationObserver(function (mutations, observer) {{\n",
       "        var display = window.getComputedStyle(gd).display;\n",
       "        if (!display || display === 'none') {{\n",
       "            console.log([gd, 'removed!']);\n",
       "            Plotly.purge(gd);\n",
       "            observer.disconnect();\n",
       "        }}\n",
       "}});\n",
       "\n",
       "// Listen for the removal of the full notebook cells\n",
       "var notebookContainer = gd.closest('#notebook-container');\n",
       "if (notebookContainer) {{\n",
       "    x.observe(notebookContainer, {childList: true});\n",
       "}}\n",
       "\n",
       "// Listen for the clearing of the current output cell\n",
       "var outputEl = gd.closest('.output');\n",
       "if (outputEl) {{\n",
       "    x.observe(outputEl, {childList: true});\n",
       "}}\n",
       "\n",
       "                        })                };                });            </script>        </div>"
      ]
     },
     "metadata": {},
     "output_type": "display_data"
    },
    {
     "name": "stdout",
     "output_type": "stream",
     "text": [
      "[*********************100%***********************]  1 of 1 completed\n",
      "[*********************100%***********************]  1 of 1 completed\n"
     ]
    },
    {
     "data": {
      "application/vnd.plotly.v1+json": {
       "config": {
        "plotlyServerURL": "https://plot.ly"
       },
       "data": [
        {
         "close": [
          28.969999313354492,
          28.979999542236328,
          29.09000015258789,
          29.1299991607666,
          29.09000015258789,
          29.170000076293945,
          29.18000030517578,
          29.1299991607666,
          29.110000610351562,
          29.030000686645508,
          29.020000457763672,
          29.030000686645508,
          29.010000228881836,
          29,
          28.989999771118164,
          28.93000030517578,
          28.90999984741211,
          28.8799991607666,
          28.8700008392334,
          28.8700008392334,
          28.790000915527344,
          28.799999237060547,
          28.84000015258789,
          28.829999923706055,
          28.75,
          28.6200008392334,
          28.59000015258789,
          28.540000915527344,
          28.579999923706055,
          28.56999969482422,
          28.350000381469727,
          28.420000076293945,
          28.510000228881836,
          28.360000610351562,
          28.290000915527344,
          28.329999923706055,
          28.399999618530273,
          28.329999923706055,
          28.270000457763672,
          28.309999465942383,
          28.190000534057617,
          28.149999618530273,
          28.18000030517578,
          28.18000030517578,
          28.280000686645508,
          28.270000457763672,
          28.260000228881836,
          28.280000686645508,
          28.25,
          28.209999084472656,
          28.209999084472656,
          28.190000534057617,
          28.18000030517578,
          28.190000534057617,
          28.190000534057617,
          28.200000762939453,
          28.229999542236328,
          28.209999084472656,
          28.219999313354492,
          28.190000534057617,
          28.200000762939453,
          28.200000762939453,
          28.190000534057617,
          28.1299991607666,
          28.15999984741211,
          28.1200008392334,
          28.100000381469727,
          28.079999923706055,
          28.06999969482422,
          27.979999542236328,
          27.940000534057617,
          28.010000228881836,
          27.989999771118164,
          28.030000686645508,
          28.059999465942383,
          28.059999465942383,
          28.06999969482422,
          28.09000015258789,
          28.190000534057617,
          28.1299991607666,
          28.110000610351562,
          28.059999465942383,
          28.1299991607666
         ],
         "high": [
          29.079999923706055,
          29.049999237060547,
          29.110000610351562,
          29.149999618530273,
          29.139999389648438,
          29.190000534057617,
          29.200000762939453,
          29.200000762939453,
          29.190000534057617,
          29.1299991607666,
          29.049999237060547,
          29.09000015258789,
          29.059999465942383,
          29.030000686645508,
          29.010000228881836,
          29.020000457763672,
          28.940000534057617,
          28.940000534057617,
          28.920000076293945,
          28.899999618530273,
          28.8799991607666,
          28.829999923706055,
          28.860000610351562,
          28.860000610351562,
          28.829999923706055,
          28.760000228881836,
          28.690000534057617,
          28.600000381469727,
          28.65999984741211,
          28.600000381469727,
          28.579999923706055,
          28.420000076293945,
          28.530000686645508,
          28.520000457763672,
          28.3799991607666,
          28.3799991607666,
          28.399999618530273,
          28.40999984741211,
          28.329999923706055,
          28.40999984741211,
          28.309999465942383,
          28.190000534057617,
          28.219999313354492,
          28.25,
          28.299999237060547,
          28.299999237060547,
          28.34000015258789,
          28.299999237060547,
          28.290000915527344,
          28.280000686645508,
          28.229999542236328,
          28.219999313354492,
          28.200000762939453,
          28.190000534057617,
          28.190000534057617,
          28.219999313354492,
          28.239999771118164,
          28.25,
          28.25,
          28.229999542236328,
          28.219999313354492,
          28.25,
          28.229999542236328,
          28.190000534057617,
          28.170000076293945,
          28.170000076293945,
          28.139999389648438,
          28.110000610351562,
          28.09000015258789,
          28.09000015258789,
          28,
          28.010000228881836,
          28.020000457763672,
          28.06999969482422,
          28.06999969482422,
          28.110000610351562,
          28.09000015258789,
          28.110000610351562,
          28.190000534057617,
          28.190000534057617,
          28.15999984741211,
          28.1200008392334,
          28.1299991607666
         ],
         "low": [
          28.959999084472656,
          28.920000076293945,
          28.989999771118164,
          29.049999237060547,
          29.079999923706055,
          29.059999465942383,
          29.100000381469727,
          29.110000610351562,
          29.09000015258789,
          29.020000457763672,
          28.979999542236328,
          29.010000228881836,
          28.989999771118164,
          28.959999084472656,
          28.950000762939453,
          28.93000030517578,
          28.889999389648438,
          28.850000381469727,
          28.850000381469727,
          28.81999969482422,
          28.770000457763672,
          28.739999771118164,
          28.780000686645508,
          28.780000686645508,
          28.709999084472656,
          28.559999465942383,
          28.579999923706055,
          28.520000457763672,
          28.540000915527344,
          28.549999237060547,
          28.31999969482422,
          28.190000534057617,
          28.399999618530273,
          28.34000015258789,
          28.280000686645508,
          28.270000457763672,
          28.31999969482422,
          28.309999465942383,
          28.239999771118164,
          28.200000762939453,
          28.18000030517578,
          28.110000610351562,
          28.1299991607666,
          28.170000076293945,
          28.170000076293945,
          28.239999771118164,
          28.200000762939453,
          28.190000534057617,
          28.190000534057617,
          28.139999389648438,
          28.190000534057617,
          28.149999618530273,
          28.15999984741211,
          28.1200008392334,
          28.1299991607666,
          28.15999984741211,
          28.170000076293945,
          28.200000762939453,
          28.200000762939453,
          28.18000030517578,
          28.18000030517578,
          28.18000030517578,
          28.18000030517578,
          28.1200008392334,
          28.079999923706055,
          28.1200008392334,
          28.100000381469727,
          28.06999969482422,
          28.040000915527344,
          27.959999084472656,
          27.90999984741211,
          27.93000030517578,
          27.950000762939453,
          27.979999542236328,
          28.010000228881836,
          28.020000457763672,
          28.040000915527344,
          28.059999465942383,
          28.09000015258789,
          28.110000610351562,
          28.100000381469727,
          28.030000686645508,
          28.1299991607666
         ],
         "open": [
          29.010000228881836,
          28.969999313354492,
          28.989999771118164,
          29.100000381469727,
          29.1299991607666,
          29.110000610351562,
          29.15999984741211,
          29.18000030517578,
          29.139999389648438,
          29.110000610351562,
          29.020000457763672,
          29.010000228881836,
          29.020000457763672,
          29.010000228881836,
          28.989999771118164,
          28.989999771118164,
          28.93000030517578,
          28.899999618530273,
          28.8799991607666,
          28.8700008392334,
          28.8700008392334,
          28.780000686645508,
          28.799999237060547,
          28.84000015258789,
          28.81999969482422,
          28.739999771118164,
          28.6200008392334,
          28.59000015258789,
          28.540000915527344,
          28.579999923706055,
          28.56999969482422,
          28.329999923706055,
          28.420000076293945,
          28.510000228881836,
          28.360000610351562,
          28.290000915527344,
          28.329999923706055,
          28.399999618530273,
          28.31999969482422,
          28.270000457763672,
          28.299999237060547,
          28.190000534057617,
          28.149999618530273,
          28.18000030517578,
          28.18000030517578,
          28.280000686645508,
          28.270000457763672,
          28.25,
          28.280000686645508,
          28.25,
          28.200000762939453,
          28.219999313354492,
          28.18000030517578,
          28.170000076293945,
          28.18000030517578,
          28.190000534057617,
          28.209999084472656,
          28.239999771118164,
          28.209999084472656,
          28.219999313354492,
          28.190000534057617,
          28.190000534057617,
          28.209999084472656,
          28.18000030517578,
          28.1200008392334,
          28.149999618530273,
          28.1200008392334,
          28.100000381469727,
          28.079999923706055,
          28.06999969482422,
          28,
          27.93000030517578,
          27.989999771118164,
          27.979999542236328,
          28.030000686645508,
          28.06999969482422,
          28.049999237060547,
          28.059999465942383,
          28.09000015258789,
          28.190000534057617,
          28.1299991607666,
          28.110000610351562,
          28.1299991607666
         ],
         "type": "candlestick",
         "x": [
          "2021-06-17T10:05:00-03:00",
          "2021-06-17T10:10:00-03:00",
          "2021-06-17T10:15:00-03:00",
          "2021-06-17T10:20:00-03:00",
          "2021-06-17T10:25:00-03:00",
          "2021-06-17T10:30:00-03:00",
          "2021-06-17T10:35:00-03:00",
          "2021-06-17T10:40:00-03:00",
          "2021-06-17T10:45:00-03:00",
          "2021-06-17T10:50:00-03:00",
          "2021-06-17T10:55:00-03:00",
          "2021-06-17T11:00:00-03:00",
          "2021-06-17T11:05:00-03:00",
          "2021-06-17T11:10:00-03:00",
          "2021-06-17T11:15:00-03:00",
          "2021-06-17T11:20:00-03:00",
          "2021-06-17T11:25:00-03:00",
          "2021-06-17T11:30:00-03:00",
          "2021-06-17T11:35:00-03:00",
          "2021-06-17T11:40:00-03:00",
          "2021-06-17T11:45:00-03:00",
          "2021-06-17T11:50:00-03:00",
          "2021-06-17T11:55:00-03:00",
          "2021-06-17T12:00:00-03:00",
          "2021-06-17T12:05:00-03:00",
          "2021-06-17T12:10:00-03:00",
          "2021-06-17T12:15:00-03:00",
          "2021-06-17T12:20:00-03:00",
          "2021-06-17T12:25:00-03:00",
          "2021-06-17T12:30:00-03:00",
          "2021-06-17T12:35:00-03:00",
          "2021-06-17T12:40:00-03:00",
          "2021-06-17T12:45:00-03:00",
          "2021-06-17T12:50:00-03:00",
          "2021-06-17T12:55:00-03:00",
          "2021-06-17T13:00:00-03:00",
          "2021-06-17T13:05:00-03:00",
          "2021-06-17T13:10:00-03:00",
          "2021-06-17T13:15:00-03:00",
          "2021-06-17T13:20:00-03:00",
          "2021-06-17T13:25:00-03:00",
          "2021-06-17T13:30:00-03:00",
          "2021-06-17T13:35:00-03:00",
          "2021-06-17T13:40:00-03:00",
          "2021-06-17T13:45:00-03:00",
          "2021-06-17T13:50:00-03:00",
          "2021-06-17T13:55:00-03:00",
          "2021-06-17T14:00:00-03:00",
          "2021-06-17T14:05:00-03:00",
          "2021-06-17T14:10:00-03:00",
          "2021-06-17T14:15:00-03:00",
          "2021-06-17T14:20:00-03:00",
          "2021-06-17T14:25:00-03:00",
          "2021-06-17T14:30:00-03:00",
          "2021-06-17T14:35:00-03:00",
          "2021-06-17T14:40:00-03:00",
          "2021-06-17T14:45:00-03:00",
          "2021-06-17T14:50:00-03:00",
          "2021-06-17T14:55:00-03:00",
          "2021-06-17T15:00:00-03:00",
          "2021-06-17T15:05:00-03:00",
          "2021-06-17T15:10:00-03:00",
          "2021-06-17T15:15:00-03:00",
          "2021-06-17T15:20:00-03:00",
          "2021-06-17T15:25:00-03:00",
          "2021-06-17T15:30:00-03:00",
          "2021-06-17T15:35:00-03:00",
          "2021-06-17T15:40:00-03:00",
          "2021-06-17T15:45:00-03:00",
          "2021-06-17T15:50:00-03:00",
          "2021-06-17T15:55:00-03:00",
          "2021-06-17T16:00:00-03:00",
          "2021-06-17T16:05:00-03:00",
          "2021-06-17T16:10:00-03:00",
          "2021-06-17T16:15:00-03:00",
          "2021-06-17T16:20:00-03:00",
          "2021-06-17T16:25:00-03:00",
          "2021-06-17T16:30:00-03:00",
          "2021-06-17T16:35:00-03:00",
          "2021-06-17T16:40:00-03:00",
          "2021-06-17T16:45:00-03:00",
          "2021-06-17T16:50:00-03:00",
          "2021-06-17T17:00:00-03:00"
         ],
         "xaxis": "x",
         "yaxis": "y"
        },
        {
         "type": "scatter",
         "x": [
          "2021-05-10T00:00:00",
          "2021-05-11T00:00:00",
          "2021-05-12T00:00:00",
          "2021-05-13T00:00:00",
          "2021-05-14T00:00:00",
          "2021-05-17T00:00:00",
          "2021-05-18T00:00:00",
          "2021-05-19T00:00:00",
          "2021-05-20T00:00:00",
          "2021-05-21T00:00:00",
          "2021-05-24T00:00:00",
          "2021-05-25T00:00:00",
          "2021-05-26T00:00:00",
          "2021-05-27T00:00:00",
          "2021-05-28T00:00:00",
          "2021-05-31T00:00:00",
          "2021-06-01T00:00:00",
          "2021-06-02T00:00:00",
          "2021-06-04T00:00:00",
          "2021-06-07T00:00:00",
          "2021-06-08T00:00:00",
          "2021-06-09T00:00:00",
          "2021-06-10T00:00:00",
          "2021-06-11T00:00:00",
          "2021-06-14T00:00:00",
          "2021-06-15T00:00:00",
          "2021-06-16T00:00:00",
          "2021-06-17T00:00:00"
         ],
         "xaxis": "x2",
         "y": [
          38.2585755447235,
          42.69143508924296,
          40.13959168182296,
          42.249533021691384,
          53.30628433083712,
          55.810151881305586,
          53.16633116407386,
          51.47220042804056,
          49.599942164410145,
          49.77878991739102,
          53.67352380164364,
          48.599866370840736,
          50.873094621655795,
          49.18638013640175,
          58.151710476144174,
          56.94940807229185,
          60.0618139704721,
          63.93901192736795,
          67.61649140769502,
          65.22860936589073,
          67.41225564907899,
          67.41225564907899,
          67.54005153965312,
          66.00687693993918,
          67.31440047008414,
          69.29303626320218,
          70.05982700841004,
          56.18624550002322
         ],
         "yaxis": "y2"
        }
       ],
       "layout": {
        "coloraxis": {
         "colorbar": {
          "tickfont": {
           "color": "white"
          }
         }
        },
        "font": {
         "color": "white"
        },
        "paper_bgcolor": "#000326",
        "plot_bgcolor": "#000326",
        "template": {
         "data": {
          "bar": [
           {
            "error_x": {
             "color": "#2a3f5f"
            },
            "error_y": {
             "color": "#2a3f5f"
            },
            "marker": {
             "line": {
              "color": "#E5ECF6",
              "width": 0.5
             }
            },
            "type": "bar"
           }
          ],
          "barpolar": [
           {
            "marker": {
             "line": {
              "color": "#E5ECF6",
              "width": 0.5
             }
            },
            "type": "barpolar"
           }
          ],
          "carpet": [
           {
            "aaxis": {
             "endlinecolor": "#2a3f5f",
             "gridcolor": "white",
             "linecolor": "white",
             "minorgridcolor": "white",
             "startlinecolor": "#2a3f5f"
            },
            "baxis": {
             "endlinecolor": "#2a3f5f",
             "gridcolor": "white",
             "linecolor": "white",
             "minorgridcolor": "white",
             "startlinecolor": "#2a3f5f"
            },
            "type": "carpet"
           }
          ],
          "choropleth": [
           {
            "colorbar": {
             "outlinewidth": 0,
             "ticks": ""
            },
            "type": "choropleth"
           }
          ],
          "contour": [
           {
            "colorbar": {
             "outlinewidth": 0,
             "ticks": ""
            },
            "colorscale": [
             [
              0,
              "#0d0887"
             ],
             [
              0.1111111111111111,
              "#46039f"
             ],
             [
              0.2222222222222222,
              "#7201a8"
             ],
             [
              0.3333333333333333,
              "#9c179e"
             ],
             [
              0.4444444444444444,
              "#bd3786"
             ],
             [
              0.5555555555555556,
              "#d8576b"
             ],
             [
              0.6666666666666666,
              "#ed7953"
             ],
             [
              0.7777777777777778,
              "#fb9f3a"
             ],
             [
              0.8888888888888888,
              "#fdca26"
             ],
             [
              1,
              "#f0f921"
             ]
            ],
            "type": "contour"
           }
          ],
          "contourcarpet": [
           {
            "colorbar": {
             "outlinewidth": 0,
             "ticks": ""
            },
            "type": "contourcarpet"
           }
          ],
          "heatmap": [
           {
            "colorbar": {
             "outlinewidth": 0,
             "ticks": ""
            },
            "colorscale": [
             [
              0,
              "#0d0887"
             ],
             [
              0.1111111111111111,
              "#46039f"
             ],
             [
              0.2222222222222222,
              "#7201a8"
             ],
             [
              0.3333333333333333,
              "#9c179e"
             ],
             [
              0.4444444444444444,
              "#bd3786"
             ],
             [
              0.5555555555555556,
              "#d8576b"
             ],
             [
              0.6666666666666666,
              "#ed7953"
             ],
             [
              0.7777777777777778,
              "#fb9f3a"
             ],
             [
              0.8888888888888888,
              "#fdca26"
             ],
             [
              1,
              "#f0f921"
             ]
            ],
            "type": "heatmap"
           }
          ],
          "heatmapgl": [
           {
            "colorbar": {
             "outlinewidth": 0,
             "ticks": ""
            },
            "colorscale": [
             [
              0,
              "#0d0887"
             ],
             [
              0.1111111111111111,
              "#46039f"
             ],
             [
              0.2222222222222222,
              "#7201a8"
             ],
             [
              0.3333333333333333,
              "#9c179e"
             ],
             [
              0.4444444444444444,
              "#bd3786"
             ],
             [
              0.5555555555555556,
              "#d8576b"
             ],
             [
              0.6666666666666666,
              "#ed7953"
             ],
             [
              0.7777777777777778,
              "#fb9f3a"
             ],
             [
              0.8888888888888888,
              "#fdca26"
             ],
             [
              1,
              "#f0f921"
             ]
            ],
            "type": "heatmapgl"
           }
          ],
          "histogram": [
           {
            "marker": {
             "colorbar": {
              "outlinewidth": 0,
              "ticks": ""
             }
            },
            "type": "histogram"
           }
          ],
          "histogram2d": [
           {
            "colorbar": {
             "outlinewidth": 0,
             "ticks": ""
            },
            "colorscale": [
             [
              0,
              "#0d0887"
             ],
             [
              0.1111111111111111,
              "#46039f"
             ],
             [
              0.2222222222222222,
              "#7201a8"
             ],
             [
              0.3333333333333333,
              "#9c179e"
             ],
             [
              0.4444444444444444,
              "#bd3786"
             ],
             [
              0.5555555555555556,
              "#d8576b"
             ],
             [
              0.6666666666666666,
              "#ed7953"
             ],
             [
              0.7777777777777778,
              "#fb9f3a"
             ],
             [
              0.8888888888888888,
              "#fdca26"
             ],
             [
              1,
              "#f0f921"
             ]
            ],
            "type": "histogram2d"
           }
          ],
          "histogram2dcontour": [
           {
            "colorbar": {
             "outlinewidth": 0,
             "ticks": ""
            },
            "colorscale": [
             [
              0,
              "#0d0887"
             ],
             [
              0.1111111111111111,
              "#46039f"
             ],
             [
              0.2222222222222222,
              "#7201a8"
             ],
             [
              0.3333333333333333,
              "#9c179e"
             ],
             [
              0.4444444444444444,
              "#bd3786"
             ],
             [
              0.5555555555555556,
              "#d8576b"
             ],
             [
              0.6666666666666666,
              "#ed7953"
             ],
             [
              0.7777777777777778,
              "#fb9f3a"
             ],
             [
              0.8888888888888888,
              "#fdca26"
             ],
             [
              1,
              "#f0f921"
             ]
            ],
            "type": "histogram2dcontour"
           }
          ],
          "mesh3d": [
           {
            "colorbar": {
             "outlinewidth": 0,
             "ticks": ""
            },
            "type": "mesh3d"
           }
          ],
          "parcoords": [
           {
            "line": {
             "colorbar": {
              "outlinewidth": 0,
              "ticks": ""
             }
            },
            "type": "parcoords"
           }
          ],
          "pie": [
           {
            "automargin": true,
            "type": "pie"
           }
          ],
          "scatter": [
           {
            "marker": {
             "colorbar": {
              "outlinewidth": 0,
              "ticks": ""
             }
            },
            "type": "scatter"
           }
          ],
          "scatter3d": [
           {
            "line": {
             "colorbar": {
              "outlinewidth": 0,
              "ticks": ""
             }
            },
            "marker": {
             "colorbar": {
              "outlinewidth": 0,
              "ticks": ""
             }
            },
            "type": "scatter3d"
           }
          ],
          "scattercarpet": [
           {
            "marker": {
             "colorbar": {
              "outlinewidth": 0,
              "ticks": ""
             }
            },
            "type": "scattercarpet"
           }
          ],
          "scattergeo": [
           {
            "marker": {
             "colorbar": {
              "outlinewidth": 0,
              "ticks": ""
             }
            },
            "type": "scattergeo"
           }
          ],
          "scattergl": [
           {
            "marker": {
             "colorbar": {
              "outlinewidth": 0,
              "ticks": ""
             }
            },
            "type": "scattergl"
           }
          ],
          "scattermapbox": [
           {
            "marker": {
             "colorbar": {
              "outlinewidth": 0,
              "ticks": ""
             }
            },
            "type": "scattermapbox"
           }
          ],
          "scatterpolar": [
           {
            "marker": {
             "colorbar": {
              "outlinewidth": 0,
              "ticks": ""
             }
            },
            "type": "scatterpolar"
           }
          ],
          "scatterpolargl": [
           {
            "marker": {
             "colorbar": {
              "outlinewidth": 0,
              "ticks": ""
             }
            },
            "type": "scatterpolargl"
           }
          ],
          "scatterternary": [
           {
            "marker": {
             "colorbar": {
              "outlinewidth": 0,
              "ticks": ""
             }
            },
            "type": "scatterternary"
           }
          ],
          "surface": [
           {
            "colorbar": {
             "outlinewidth": 0,
             "ticks": ""
            },
            "colorscale": [
             [
              0,
              "#0d0887"
             ],
             [
              0.1111111111111111,
              "#46039f"
             ],
             [
              0.2222222222222222,
              "#7201a8"
             ],
             [
              0.3333333333333333,
              "#9c179e"
             ],
             [
              0.4444444444444444,
              "#bd3786"
             ],
             [
              0.5555555555555556,
              "#d8576b"
             ],
             [
              0.6666666666666666,
              "#ed7953"
             ],
             [
              0.7777777777777778,
              "#fb9f3a"
             ],
             [
              0.8888888888888888,
              "#fdca26"
             ],
             [
              1,
              "#f0f921"
             ]
            ],
            "type": "surface"
           }
          ],
          "table": [
           {
            "cells": {
             "fill": {
              "color": "#EBF0F8"
             },
             "line": {
              "color": "white"
             }
            },
            "header": {
             "fill": {
              "color": "#C8D4E3"
             },
             "line": {
              "color": "white"
             }
            },
            "type": "table"
           }
          ]
         },
         "layout": {
          "annotationdefaults": {
           "arrowcolor": "#2a3f5f",
           "arrowhead": 0,
           "arrowwidth": 1
          },
          "autotypenumbers": "strict",
          "coloraxis": {
           "colorbar": {
            "outlinewidth": 0,
            "ticks": ""
           }
          },
          "colorscale": {
           "diverging": [
            [
             0,
             "#8e0152"
            ],
            [
             0.1,
             "#c51b7d"
            ],
            [
             0.2,
             "#de77ae"
            ],
            [
             0.3,
             "#f1b6da"
            ],
            [
             0.4,
             "#fde0ef"
            ],
            [
             0.5,
             "#f7f7f7"
            ],
            [
             0.6,
             "#e6f5d0"
            ],
            [
             0.7,
             "#b8e186"
            ],
            [
             0.8,
             "#7fbc41"
            ],
            [
             0.9,
             "#4d9221"
            ],
            [
             1,
             "#276419"
            ]
           ],
           "sequential": [
            [
             0,
             "#0d0887"
            ],
            [
             0.1111111111111111,
             "#46039f"
            ],
            [
             0.2222222222222222,
             "#7201a8"
            ],
            [
             0.3333333333333333,
             "#9c179e"
            ],
            [
             0.4444444444444444,
             "#bd3786"
            ],
            [
             0.5555555555555556,
             "#d8576b"
            ],
            [
             0.6666666666666666,
             "#ed7953"
            ],
            [
             0.7777777777777778,
             "#fb9f3a"
            ],
            [
             0.8888888888888888,
             "#fdca26"
            ],
            [
             1,
             "#f0f921"
            ]
           ],
           "sequentialminus": [
            [
             0,
             "#0d0887"
            ],
            [
             0.1111111111111111,
             "#46039f"
            ],
            [
             0.2222222222222222,
             "#7201a8"
            ],
            [
             0.3333333333333333,
             "#9c179e"
            ],
            [
             0.4444444444444444,
             "#bd3786"
            ],
            [
             0.5555555555555556,
             "#d8576b"
            ],
            [
             0.6666666666666666,
             "#ed7953"
            ],
            [
             0.7777777777777778,
             "#fb9f3a"
            ],
            [
             0.8888888888888888,
             "#fdca26"
            ],
            [
             1,
             "#f0f921"
            ]
           ]
          },
          "colorway": [
           "#636efa",
           "#EF553B",
           "#00cc96",
           "#ab63fa",
           "#FFA15A",
           "#19d3f3",
           "#FF6692",
           "#B6E880",
           "#FF97FF",
           "#FECB52"
          ],
          "font": {
           "color": "#2a3f5f"
          },
          "geo": {
           "bgcolor": "white",
           "lakecolor": "white",
           "landcolor": "#E5ECF6",
           "showlakes": true,
           "showland": true,
           "subunitcolor": "white"
          },
          "hoverlabel": {
           "align": "left"
          },
          "hovermode": "closest",
          "mapbox": {
           "style": "light"
          },
          "paper_bgcolor": "white",
          "plot_bgcolor": "#E5ECF6",
          "polar": {
           "angularaxis": {
            "gridcolor": "white",
            "linecolor": "white",
            "ticks": ""
           },
           "bgcolor": "#E5ECF6",
           "radialaxis": {
            "gridcolor": "white",
            "linecolor": "white",
            "ticks": ""
           }
          },
          "scene": {
           "xaxis": {
            "backgroundcolor": "#E5ECF6",
            "gridcolor": "white",
            "gridwidth": 2,
            "linecolor": "white",
            "showbackground": true,
            "ticks": "",
            "zerolinecolor": "white"
           },
           "yaxis": {
            "backgroundcolor": "#E5ECF6",
            "gridcolor": "white",
            "gridwidth": 2,
            "linecolor": "white",
            "showbackground": true,
            "ticks": "",
            "zerolinecolor": "white"
           },
           "zaxis": {
            "backgroundcolor": "#E5ECF6",
            "gridcolor": "white",
            "gridwidth": 2,
            "linecolor": "white",
            "showbackground": true,
            "ticks": "",
            "zerolinecolor": "white"
           }
          },
          "shapedefaults": {
           "line": {
            "color": "#2a3f5f"
           }
          },
          "ternary": {
           "aaxis": {
            "gridcolor": "white",
            "linecolor": "white",
            "ticks": ""
           },
           "baxis": {
            "gridcolor": "white",
            "linecolor": "white",
            "ticks": ""
           },
           "bgcolor": "#E5ECF6",
           "caxis": {
            "gridcolor": "white",
            "linecolor": "white",
            "ticks": ""
           }
          },
          "title": {
           "x": 0.05
          },
          "xaxis": {
           "automargin": true,
           "gridcolor": "white",
           "linecolor": "white",
           "ticks": "",
           "title": {
            "standoff": 15
           },
           "zerolinecolor": "white",
           "zerolinewidth": 2
          },
          "yaxis": {
           "automargin": true,
           "gridcolor": "white",
           "linecolor": "white",
           "ticks": "",
           "title": {
            "standoff": 15
           },
           "zerolinecolor": "white",
           "zerolinewidth": 2
          }
         }
        },
        "xaxis": {
         "anchor": "y",
         "domain": [
          0,
          1
         ],
         "rangeslider": {
          "visible": false
         }
        },
        "xaxis2": {
         "anchor": "y2",
         "domain": [
          0,
          1
         ]
        },
        "yaxis": {
         "anchor": "x",
         "domain": [
          0.49,
          1
         ]
        },
        "yaxis2": {
         "anchor": "x2",
         "domain": [
          0,
          0.34
         ]
        }
       }
      },
      "text/html": [
       "<div>                            <div id=\"68dc9959-54ee-4e9a-9ca0-e03fa36444be\" class=\"plotly-graph-div\" style=\"height:525px; width:100%;\"></div>            <script type=\"text/javascript\">                require([\"plotly\"], function(Plotly) {                    window.PLOTLYENV=window.PLOTLYENV || {};                                    if (document.getElementById(\"68dc9959-54ee-4e9a-9ca0-e03fa36444be\")) {                    Plotly.newPlot(                        \"68dc9959-54ee-4e9a-9ca0-e03fa36444be\",                        [{\"close\": [28.969999313354492, 28.979999542236328, 29.09000015258789, 29.1299991607666, 29.09000015258789, 29.170000076293945, 29.18000030517578, 29.1299991607666, 29.110000610351562, 29.030000686645508, 29.020000457763672, 29.030000686645508, 29.010000228881836, 29.0, 28.989999771118164, 28.93000030517578, 28.90999984741211, 28.8799991607666, 28.8700008392334, 28.8700008392334, 28.790000915527344, 28.799999237060547, 28.84000015258789, 28.829999923706055, 28.75, 28.6200008392334, 28.59000015258789, 28.540000915527344, 28.579999923706055, 28.56999969482422, 28.350000381469727, 28.420000076293945, 28.510000228881836, 28.360000610351562, 28.290000915527344, 28.329999923706055, 28.399999618530273, 28.329999923706055, 28.270000457763672, 28.309999465942383, 28.190000534057617, 28.149999618530273, 28.18000030517578, 28.18000030517578, 28.280000686645508, 28.270000457763672, 28.260000228881836, 28.280000686645508, 28.25, 28.209999084472656, 28.209999084472656, 28.190000534057617, 28.18000030517578, 28.190000534057617, 28.190000534057617, 28.200000762939453, 28.229999542236328, 28.209999084472656, 28.219999313354492, 28.190000534057617, 28.200000762939453, 28.200000762939453, 28.190000534057617, 28.1299991607666, 28.15999984741211, 28.1200008392334, 28.100000381469727, 28.079999923706055, 28.06999969482422, 27.979999542236328, 27.940000534057617, 28.010000228881836, 27.989999771118164, 28.030000686645508, 28.059999465942383, 28.059999465942383, 28.06999969482422, 28.09000015258789, 28.190000534057617, 28.1299991607666, 28.110000610351562, 28.059999465942383, 28.1299991607666], \"high\": [29.079999923706055, 29.049999237060547, 29.110000610351562, 29.149999618530273, 29.139999389648438, 29.190000534057617, 29.200000762939453, 29.200000762939453, 29.190000534057617, 29.1299991607666, 29.049999237060547, 29.09000015258789, 29.059999465942383, 29.030000686645508, 29.010000228881836, 29.020000457763672, 28.940000534057617, 28.940000534057617, 28.920000076293945, 28.899999618530273, 28.8799991607666, 28.829999923706055, 28.860000610351562, 28.860000610351562, 28.829999923706055, 28.760000228881836, 28.690000534057617, 28.600000381469727, 28.65999984741211, 28.600000381469727, 28.579999923706055, 28.420000076293945, 28.530000686645508, 28.520000457763672, 28.3799991607666, 28.3799991607666, 28.399999618530273, 28.40999984741211, 28.329999923706055, 28.40999984741211, 28.309999465942383, 28.190000534057617, 28.219999313354492, 28.25, 28.299999237060547, 28.299999237060547, 28.34000015258789, 28.299999237060547, 28.290000915527344, 28.280000686645508, 28.229999542236328, 28.219999313354492, 28.200000762939453, 28.190000534057617, 28.190000534057617, 28.219999313354492, 28.239999771118164, 28.25, 28.25, 28.229999542236328, 28.219999313354492, 28.25, 28.229999542236328, 28.190000534057617, 28.170000076293945, 28.170000076293945, 28.139999389648438, 28.110000610351562, 28.09000015258789, 28.09000015258789, 28.0, 28.010000228881836, 28.020000457763672, 28.06999969482422, 28.06999969482422, 28.110000610351562, 28.09000015258789, 28.110000610351562, 28.190000534057617, 28.190000534057617, 28.15999984741211, 28.1200008392334, 28.1299991607666], \"low\": [28.959999084472656, 28.920000076293945, 28.989999771118164, 29.049999237060547, 29.079999923706055, 29.059999465942383, 29.100000381469727, 29.110000610351562, 29.09000015258789, 29.020000457763672, 28.979999542236328, 29.010000228881836, 28.989999771118164, 28.959999084472656, 28.950000762939453, 28.93000030517578, 28.889999389648438, 28.850000381469727, 28.850000381469727, 28.81999969482422, 28.770000457763672, 28.739999771118164, 28.780000686645508, 28.780000686645508, 28.709999084472656, 28.559999465942383, 28.579999923706055, 28.520000457763672, 28.540000915527344, 28.549999237060547, 28.31999969482422, 28.190000534057617, 28.399999618530273, 28.34000015258789, 28.280000686645508, 28.270000457763672, 28.31999969482422, 28.309999465942383, 28.239999771118164, 28.200000762939453, 28.18000030517578, 28.110000610351562, 28.1299991607666, 28.170000076293945, 28.170000076293945, 28.239999771118164, 28.200000762939453, 28.190000534057617, 28.190000534057617, 28.139999389648438, 28.190000534057617, 28.149999618530273, 28.15999984741211, 28.1200008392334, 28.1299991607666, 28.15999984741211, 28.170000076293945, 28.200000762939453, 28.200000762939453, 28.18000030517578, 28.18000030517578, 28.18000030517578, 28.18000030517578, 28.1200008392334, 28.079999923706055, 28.1200008392334, 28.100000381469727, 28.06999969482422, 28.040000915527344, 27.959999084472656, 27.90999984741211, 27.93000030517578, 27.950000762939453, 27.979999542236328, 28.010000228881836, 28.020000457763672, 28.040000915527344, 28.059999465942383, 28.09000015258789, 28.110000610351562, 28.100000381469727, 28.030000686645508, 28.1299991607666], \"open\": [29.010000228881836, 28.969999313354492, 28.989999771118164, 29.100000381469727, 29.1299991607666, 29.110000610351562, 29.15999984741211, 29.18000030517578, 29.139999389648438, 29.110000610351562, 29.020000457763672, 29.010000228881836, 29.020000457763672, 29.010000228881836, 28.989999771118164, 28.989999771118164, 28.93000030517578, 28.899999618530273, 28.8799991607666, 28.8700008392334, 28.8700008392334, 28.780000686645508, 28.799999237060547, 28.84000015258789, 28.81999969482422, 28.739999771118164, 28.6200008392334, 28.59000015258789, 28.540000915527344, 28.579999923706055, 28.56999969482422, 28.329999923706055, 28.420000076293945, 28.510000228881836, 28.360000610351562, 28.290000915527344, 28.329999923706055, 28.399999618530273, 28.31999969482422, 28.270000457763672, 28.299999237060547, 28.190000534057617, 28.149999618530273, 28.18000030517578, 28.18000030517578, 28.280000686645508, 28.270000457763672, 28.25, 28.280000686645508, 28.25, 28.200000762939453, 28.219999313354492, 28.18000030517578, 28.170000076293945, 28.18000030517578, 28.190000534057617, 28.209999084472656, 28.239999771118164, 28.209999084472656, 28.219999313354492, 28.190000534057617, 28.190000534057617, 28.209999084472656, 28.18000030517578, 28.1200008392334, 28.149999618530273, 28.1200008392334, 28.100000381469727, 28.079999923706055, 28.06999969482422, 28.0, 27.93000030517578, 27.989999771118164, 27.979999542236328, 28.030000686645508, 28.06999969482422, 28.049999237060547, 28.059999465942383, 28.09000015258789, 28.190000534057617, 28.1299991607666, 28.110000610351562, 28.1299991607666], \"type\": \"candlestick\", \"x\": [\"2021-06-17T10:05:00-03:00\", \"2021-06-17T10:10:00-03:00\", \"2021-06-17T10:15:00-03:00\", \"2021-06-17T10:20:00-03:00\", \"2021-06-17T10:25:00-03:00\", \"2021-06-17T10:30:00-03:00\", \"2021-06-17T10:35:00-03:00\", \"2021-06-17T10:40:00-03:00\", \"2021-06-17T10:45:00-03:00\", \"2021-06-17T10:50:00-03:00\", \"2021-06-17T10:55:00-03:00\", \"2021-06-17T11:00:00-03:00\", \"2021-06-17T11:05:00-03:00\", \"2021-06-17T11:10:00-03:00\", \"2021-06-17T11:15:00-03:00\", \"2021-06-17T11:20:00-03:00\", \"2021-06-17T11:25:00-03:00\", \"2021-06-17T11:30:00-03:00\", \"2021-06-17T11:35:00-03:00\", \"2021-06-17T11:40:00-03:00\", \"2021-06-17T11:45:00-03:00\", \"2021-06-17T11:50:00-03:00\", \"2021-06-17T11:55:00-03:00\", \"2021-06-17T12:00:00-03:00\", \"2021-06-17T12:05:00-03:00\", \"2021-06-17T12:10:00-03:00\", \"2021-06-17T12:15:00-03:00\", \"2021-06-17T12:20:00-03:00\", \"2021-06-17T12:25:00-03:00\", \"2021-06-17T12:30:00-03:00\", \"2021-06-17T12:35:00-03:00\", \"2021-06-17T12:40:00-03:00\", \"2021-06-17T12:45:00-03:00\", \"2021-06-17T12:50:00-03:00\", \"2021-06-17T12:55:00-03:00\", \"2021-06-17T13:00:00-03:00\", \"2021-06-17T13:05:00-03:00\", \"2021-06-17T13:10:00-03:00\", \"2021-06-17T13:15:00-03:00\", \"2021-06-17T13:20:00-03:00\", \"2021-06-17T13:25:00-03:00\", \"2021-06-17T13:30:00-03:00\", \"2021-06-17T13:35:00-03:00\", \"2021-06-17T13:40:00-03:00\", \"2021-06-17T13:45:00-03:00\", \"2021-06-17T13:50:00-03:00\", \"2021-06-17T13:55:00-03:00\", \"2021-06-17T14:00:00-03:00\", \"2021-06-17T14:05:00-03:00\", \"2021-06-17T14:10:00-03:00\", \"2021-06-17T14:15:00-03:00\", \"2021-06-17T14:20:00-03:00\", \"2021-06-17T14:25:00-03:00\", \"2021-06-17T14:30:00-03:00\", \"2021-06-17T14:35:00-03:00\", \"2021-06-17T14:40:00-03:00\", \"2021-06-17T14:45:00-03:00\", \"2021-06-17T14:50:00-03:00\", \"2021-06-17T14:55:00-03:00\", \"2021-06-17T15:00:00-03:00\", \"2021-06-17T15:05:00-03:00\", \"2021-06-17T15:10:00-03:00\", \"2021-06-17T15:15:00-03:00\", \"2021-06-17T15:20:00-03:00\", \"2021-06-17T15:25:00-03:00\", \"2021-06-17T15:30:00-03:00\", \"2021-06-17T15:35:00-03:00\", \"2021-06-17T15:40:00-03:00\", \"2021-06-17T15:45:00-03:00\", \"2021-06-17T15:50:00-03:00\", \"2021-06-17T15:55:00-03:00\", \"2021-06-17T16:00:00-03:00\", \"2021-06-17T16:05:00-03:00\", \"2021-06-17T16:10:00-03:00\", \"2021-06-17T16:15:00-03:00\", \"2021-06-17T16:20:00-03:00\", \"2021-06-17T16:25:00-03:00\", \"2021-06-17T16:30:00-03:00\", \"2021-06-17T16:35:00-03:00\", \"2021-06-17T16:40:00-03:00\", \"2021-06-17T16:45:00-03:00\", \"2021-06-17T16:50:00-03:00\", \"2021-06-17T17:00:00-03:00\"], \"xaxis\": \"x\", \"yaxis\": \"y\"}, {\"type\": \"scatter\", \"x\": [\"2021-05-10T00:00:00\", \"2021-05-11T00:00:00\", \"2021-05-12T00:00:00\", \"2021-05-13T00:00:00\", \"2021-05-14T00:00:00\", \"2021-05-17T00:00:00\", \"2021-05-18T00:00:00\", \"2021-05-19T00:00:00\", \"2021-05-20T00:00:00\", \"2021-05-21T00:00:00\", \"2021-05-24T00:00:00\", \"2021-05-25T00:00:00\", \"2021-05-26T00:00:00\", \"2021-05-27T00:00:00\", \"2021-05-28T00:00:00\", \"2021-05-31T00:00:00\", \"2021-06-01T00:00:00\", \"2021-06-02T00:00:00\", \"2021-06-04T00:00:00\", \"2021-06-07T00:00:00\", \"2021-06-08T00:00:00\", \"2021-06-09T00:00:00\", \"2021-06-10T00:00:00\", \"2021-06-11T00:00:00\", \"2021-06-14T00:00:00\", \"2021-06-15T00:00:00\", \"2021-06-16T00:00:00\", \"2021-06-17T00:00:00\"], \"xaxis\": \"x2\", \"y\": [38.2585755447235, 42.69143508924296, 40.13959168182296, 42.249533021691384, 53.30628433083712, 55.810151881305586, 53.16633116407386, 51.47220042804056, 49.599942164410145, 49.77878991739102, 53.67352380164364, 48.599866370840736, 50.873094621655795, 49.18638013640175, 58.151710476144174, 56.94940807229185, 60.0618139704721, 63.93901192736795, 67.61649140769502, 65.22860936589073, 67.41225564907899, 67.41225564907899, 67.54005153965312, 66.00687693993918, 67.31440047008414, 69.29303626320218, 70.05982700841004, 56.18624550002322], \"yaxis\": \"y2\"}],                        {\"coloraxis\": {\"colorbar\": {\"tickfont\": {\"color\": \"white\"}}}, \"font\": {\"color\": \"white\"}, \"paper_bgcolor\": \"#000326\", \"plot_bgcolor\": \"#000326\", \"template\": {\"data\": {\"bar\": [{\"error_x\": {\"color\": \"#2a3f5f\"}, \"error_y\": {\"color\": \"#2a3f5f\"}, \"marker\": {\"line\": {\"color\": \"#E5ECF6\", \"width\": 0.5}}, \"type\": \"bar\"}], \"barpolar\": [{\"marker\": {\"line\": {\"color\": \"#E5ECF6\", \"width\": 0.5}}, \"type\": \"barpolar\"}], \"carpet\": [{\"aaxis\": {\"endlinecolor\": \"#2a3f5f\", \"gridcolor\": \"white\", \"linecolor\": \"white\", \"minorgridcolor\": \"white\", \"startlinecolor\": \"#2a3f5f\"}, \"baxis\": {\"endlinecolor\": \"#2a3f5f\", \"gridcolor\": \"white\", \"linecolor\": \"white\", \"minorgridcolor\": \"white\", \"startlinecolor\": \"#2a3f5f\"}, \"type\": \"carpet\"}], \"choropleth\": [{\"colorbar\": {\"outlinewidth\": 0, \"ticks\": \"\"}, \"type\": \"choropleth\"}], \"contour\": [{\"colorbar\": {\"outlinewidth\": 0, \"ticks\": \"\"}, \"colorscale\": [[0.0, \"#0d0887\"], [0.1111111111111111, \"#46039f\"], [0.2222222222222222, \"#7201a8\"], [0.3333333333333333, \"#9c179e\"], [0.4444444444444444, \"#bd3786\"], [0.5555555555555556, \"#d8576b\"], [0.6666666666666666, \"#ed7953\"], [0.7777777777777778, \"#fb9f3a\"], [0.8888888888888888, \"#fdca26\"], [1.0, \"#f0f921\"]], \"type\": \"contour\"}], \"contourcarpet\": [{\"colorbar\": {\"outlinewidth\": 0, \"ticks\": \"\"}, \"type\": \"contourcarpet\"}], \"heatmap\": [{\"colorbar\": {\"outlinewidth\": 0, \"ticks\": \"\"}, \"colorscale\": [[0.0, \"#0d0887\"], [0.1111111111111111, \"#46039f\"], [0.2222222222222222, \"#7201a8\"], [0.3333333333333333, \"#9c179e\"], [0.4444444444444444, \"#bd3786\"], [0.5555555555555556, \"#d8576b\"], [0.6666666666666666, \"#ed7953\"], [0.7777777777777778, \"#fb9f3a\"], [0.8888888888888888, \"#fdca26\"], [1.0, \"#f0f921\"]], \"type\": \"heatmap\"}], \"heatmapgl\": [{\"colorbar\": {\"outlinewidth\": 0, \"ticks\": \"\"}, \"colorscale\": [[0.0, \"#0d0887\"], [0.1111111111111111, \"#46039f\"], [0.2222222222222222, \"#7201a8\"], [0.3333333333333333, \"#9c179e\"], [0.4444444444444444, \"#bd3786\"], [0.5555555555555556, \"#d8576b\"], [0.6666666666666666, \"#ed7953\"], [0.7777777777777778, \"#fb9f3a\"], [0.8888888888888888, \"#fdca26\"], [1.0, \"#f0f921\"]], \"type\": \"heatmapgl\"}], \"histogram\": [{\"marker\": {\"colorbar\": {\"outlinewidth\": 0, \"ticks\": \"\"}}, \"type\": \"histogram\"}], \"histogram2d\": [{\"colorbar\": {\"outlinewidth\": 0, \"ticks\": \"\"}, \"colorscale\": [[0.0, \"#0d0887\"], [0.1111111111111111, \"#46039f\"], [0.2222222222222222, \"#7201a8\"], [0.3333333333333333, \"#9c179e\"], [0.4444444444444444, \"#bd3786\"], [0.5555555555555556, \"#d8576b\"], [0.6666666666666666, \"#ed7953\"], [0.7777777777777778, \"#fb9f3a\"], [0.8888888888888888, \"#fdca26\"], [1.0, \"#f0f921\"]], \"type\": \"histogram2d\"}], \"histogram2dcontour\": [{\"colorbar\": {\"outlinewidth\": 0, \"ticks\": \"\"}, \"colorscale\": [[0.0, \"#0d0887\"], [0.1111111111111111, \"#46039f\"], [0.2222222222222222, \"#7201a8\"], [0.3333333333333333, \"#9c179e\"], [0.4444444444444444, \"#bd3786\"], [0.5555555555555556, \"#d8576b\"], [0.6666666666666666, \"#ed7953\"], [0.7777777777777778, \"#fb9f3a\"], [0.8888888888888888, \"#fdca26\"], [1.0, \"#f0f921\"]], \"type\": \"histogram2dcontour\"}], \"mesh3d\": [{\"colorbar\": {\"outlinewidth\": 0, \"ticks\": \"\"}, \"type\": \"mesh3d\"}], \"parcoords\": [{\"line\": {\"colorbar\": {\"outlinewidth\": 0, \"ticks\": \"\"}}, \"type\": \"parcoords\"}], \"pie\": [{\"automargin\": true, \"type\": \"pie\"}], \"scatter\": [{\"marker\": {\"colorbar\": {\"outlinewidth\": 0, \"ticks\": \"\"}}, \"type\": \"scatter\"}], \"scatter3d\": [{\"line\": {\"colorbar\": {\"outlinewidth\": 0, \"ticks\": \"\"}}, \"marker\": {\"colorbar\": {\"outlinewidth\": 0, \"ticks\": \"\"}}, \"type\": \"scatter3d\"}], \"scattercarpet\": [{\"marker\": {\"colorbar\": {\"outlinewidth\": 0, \"ticks\": \"\"}}, \"type\": \"scattercarpet\"}], \"scattergeo\": [{\"marker\": {\"colorbar\": {\"outlinewidth\": 0, \"ticks\": \"\"}}, \"type\": \"scattergeo\"}], \"scattergl\": [{\"marker\": {\"colorbar\": {\"outlinewidth\": 0, \"ticks\": \"\"}}, \"type\": \"scattergl\"}], \"scattermapbox\": [{\"marker\": {\"colorbar\": {\"outlinewidth\": 0, \"ticks\": \"\"}}, \"type\": \"scattermapbox\"}], \"scatterpolar\": [{\"marker\": {\"colorbar\": {\"outlinewidth\": 0, \"ticks\": \"\"}}, \"type\": \"scatterpolar\"}], \"scatterpolargl\": [{\"marker\": {\"colorbar\": {\"outlinewidth\": 0, \"ticks\": \"\"}}, \"type\": \"scatterpolargl\"}], \"scatterternary\": [{\"marker\": {\"colorbar\": {\"outlinewidth\": 0, \"ticks\": \"\"}}, \"type\": \"scatterternary\"}], \"surface\": [{\"colorbar\": {\"outlinewidth\": 0, \"ticks\": \"\"}, \"colorscale\": [[0.0, \"#0d0887\"], [0.1111111111111111, \"#46039f\"], [0.2222222222222222, \"#7201a8\"], [0.3333333333333333, \"#9c179e\"], [0.4444444444444444, \"#bd3786\"], [0.5555555555555556, \"#d8576b\"], [0.6666666666666666, \"#ed7953\"], [0.7777777777777778, \"#fb9f3a\"], [0.8888888888888888, \"#fdca26\"], [1.0, \"#f0f921\"]], \"type\": \"surface\"}], \"table\": [{\"cells\": {\"fill\": {\"color\": \"#EBF0F8\"}, \"line\": {\"color\": \"white\"}}, \"header\": {\"fill\": {\"color\": \"#C8D4E3\"}, \"line\": {\"color\": \"white\"}}, \"type\": \"table\"}]}, \"layout\": {\"annotationdefaults\": {\"arrowcolor\": \"#2a3f5f\", \"arrowhead\": 0, \"arrowwidth\": 1}, \"autotypenumbers\": \"strict\", \"coloraxis\": {\"colorbar\": {\"outlinewidth\": 0, \"ticks\": \"\"}}, \"colorscale\": {\"diverging\": [[0, \"#8e0152\"], [0.1, \"#c51b7d\"], [0.2, \"#de77ae\"], [0.3, \"#f1b6da\"], [0.4, \"#fde0ef\"], [0.5, \"#f7f7f7\"], [0.6, \"#e6f5d0\"], [0.7, \"#b8e186\"], [0.8, \"#7fbc41\"], [0.9, \"#4d9221\"], [1, \"#276419\"]], \"sequential\": [[0.0, \"#0d0887\"], [0.1111111111111111, \"#46039f\"], [0.2222222222222222, \"#7201a8\"], [0.3333333333333333, \"#9c179e\"], [0.4444444444444444, \"#bd3786\"], [0.5555555555555556, \"#d8576b\"], [0.6666666666666666, \"#ed7953\"], [0.7777777777777778, \"#fb9f3a\"], [0.8888888888888888, \"#fdca26\"], [1.0, \"#f0f921\"]], \"sequentialminus\": [[0.0, \"#0d0887\"], [0.1111111111111111, \"#46039f\"], [0.2222222222222222, \"#7201a8\"], [0.3333333333333333, \"#9c179e\"], [0.4444444444444444, \"#bd3786\"], [0.5555555555555556, \"#d8576b\"], [0.6666666666666666, \"#ed7953\"], [0.7777777777777778, \"#fb9f3a\"], [0.8888888888888888, \"#fdca26\"], [1.0, \"#f0f921\"]]}, \"colorway\": [\"#636efa\", \"#EF553B\", \"#00cc96\", \"#ab63fa\", \"#FFA15A\", \"#19d3f3\", \"#FF6692\", \"#B6E880\", \"#FF97FF\", \"#FECB52\"], \"font\": {\"color\": \"#2a3f5f\"}, \"geo\": {\"bgcolor\": \"white\", \"lakecolor\": \"white\", \"landcolor\": \"#E5ECF6\", \"showlakes\": true, \"showland\": true, \"subunitcolor\": \"white\"}, \"hoverlabel\": {\"align\": \"left\"}, \"hovermode\": \"closest\", \"mapbox\": {\"style\": \"light\"}, \"paper_bgcolor\": \"white\", \"plot_bgcolor\": \"#E5ECF6\", \"polar\": {\"angularaxis\": {\"gridcolor\": \"white\", \"linecolor\": \"white\", \"ticks\": \"\"}, \"bgcolor\": \"#E5ECF6\", \"radialaxis\": {\"gridcolor\": \"white\", \"linecolor\": \"white\", \"ticks\": \"\"}}, \"scene\": {\"xaxis\": {\"backgroundcolor\": \"#E5ECF6\", \"gridcolor\": \"white\", \"gridwidth\": 2, \"linecolor\": \"white\", \"showbackground\": true, \"ticks\": \"\", \"zerolinecolor\": \"white\"}, \"yaxis\": {\"backgroundcolor\": \"#E5ECF6\", \"gridcolor\": \"white\", \"gridwidth\": 2, \"linecolor\": \"white\", \"showbackground\": true, \"ticks\": \"\", \"zerolinecolor\": \"white\"}, \"zaxis\": {\"backgroundcolor\": \"#E5ECF6\", \"gridcolor\": \"white\", \"gridwidth\": 2, \"linecolor\": \"white\", \"showbackground\": true, \"ticks\": \"\", \"zerolinecolor\": \"white\"}}, \"shapedefaults\": {\"line\": {\"color\": \"#2a3f5f\"}}, \"ternary\": {\"aaxis\": {\"gridcolor\": \"white\", \"linecolor\": \"white\", \"ticks\": \"\"}, \"baxis\": {\"gridcolor\": \"white\", \"linecolor\": \"white\", \"ticks\": \"\"}, \"bgcolor\": \"#E5ECF6\", \"caxis\": {\"gridcolor\": \"white\", \"linecolor\": \"white\", \"ticks\": \"\"}}, \"title\": {\"x\": 0.05}, \"xaxis\": {\"automargin\": true, \"gridcolor\": \"white\", \"linecolor\": \"white\", \"ticks\": \"\", \"title\": {\"standoff\": 15}, \"zerolinecolor\": \"white\", \"zerolinewidth\": 2}, \"yaxis\": {\"automargin\": true, \"gridcolor\": \"white\", \"linecolor\": \"white\", \"ticks\": \"\", \"title\": {\"standoff\": 15}, \"zerolinecolor\": \"white\", \"zerolinewidth\": 2}}}, \"xaxis\": {\"anchor\": \"y\", \"domain\": [0.0, 1.0], \"rangeslider\": {\"visible\": false}}, \"xaxis2\": {\"anchor\": \"y2\", \"domain\": [0.0, 1.0]}, \"yaxis\": {\"anchor\": \"x\", \"domain\": [0.49, 1.0]}, \"yaxis2\": {\"anchor\": \"x2\", \"domain\": [0.0, 0.34]}},                        {\"responsive\": true}                    ).then(function(){\n",
       "                            \n",
       "var gd = document.getElementById('68dc9959-54ee-4e9a-9ca0-e03fa36444be');\n",
       "var x = new MutationObserver(function (mutations, observer) {{\n",
       "        var display = window.getComputedStyle(gd).display;\n",
       "        if (!display || display === 'none') {{\n",
       "            console.log([gd, 'removed!']);\n",
       "            Plotly.purge(gd);\n",
       "            observer.disconnect();\n",
       "        }}\n",
       "}});\n",
       "\n",
       "// Listen for the removal of the full notebook cells\n",
       "var notebookContainer = gd.closest('#notebook-container');\n",
       "if (notebookContainer) {{\n",
       "    x.observe(notebookContainer, {childList: true});\n",
       "}}\n",
       "\n",
       "// Listen for the clearing of the current output cell\n",
       "var outputEl = gd.closest('.output');\n",
       "if (outputEl) {{\n",
       "    x.observe(outputEl, {childList: true});\n",
       "}}\n",
       "\n",
       "                        })                };                });            </script>        </div>"
      ]
     },
     "metadata": {},
     "output_type": "display_data"
    },
    {
     "name": "stdout",
     "output_type": "stream",
     "text": [
      "[*********************100%***********************]  1 of 1 completed\n",
      "[*********************100%***********************]  1 of 1 completed\n"
     ]
    },
    {
     "data": {
      "application/vnd.plotly.v1+json": {
       "config": {
        "plotlyServerURL": "https://plot.ly"
       },
       "data": [
        {
         "close": [
          107.38999938964844,
          108.5,
          108.7699966430664,
          108.54000091552734,
          108.55999755859375,
          108.37999725341797,
          108.11000061035156,
          108,
          108.02999877929688,
          107.88999938964844,
          107.63999938964844,
          107.37999725341797,
          107.08000183105469,
          106.9000015258789,
          107.44999694824219,
          107.11000061035156,
          107.08000183105469,
          106.77999877929688,
          107.12999725341797,
          106.95999908447266,
          106.69000244140625,
          106.94000244140625,
          107,
          106.83000183105469,
          106.33999633789062,
          106.04000091552734,
          106,
          106.19999694824219,
          106.33000183105469,
          106.11000061035156,
          105.44000244140625,
          105.7699966430664,
          105.91000366210938,
          105.47000122070312,
          105.05999755859375,
          105.23999786376953,
          105.62000274658203,
          105.43000030517578,
          105.06999969482422,
          105.0999984741211,
          105.19000244140625,
          105.55000305175781,
          105.43000030517578,
          105.5,
          106.01000213623047,
          105.94999694824219,
          106.0199966430664,
          106.05000305175781,
          106.11000061035156,
          105.9800033569336,
          105.9000015258789,
          105.80000305175781,
          106.12000274658203,
          106.19999694824219,
          106.08999633789062,
          106.13999938964844,
          106.41000366210938,
          106.5,
          106.48999786376953,
          106.47000122070312,
          106.43000030517578,
          106.36000061035156,
          106.37999725341797,
          106.30999755859375,
          106.41000366210938,
          106.4000015258789,
          106.26000213623047,
          106.22000122070312,
          106.04000091552734,
          105.9800033569336,
          105.91000366210938,
          106.0999984741211,
          106.08999633789062,
          106.12999725341797,
          106.1500015258789,
          106.0999984741211,
          106.1500015258789,
          106.20999908447266,
          106.26000213623047,
          106.18000030517578,
          106.16999816894531,
          106.11000061035156,
          105.9000015258789
         ],
         "high": [
          108.05000305175781,
          109,
          109.16000366210938,
          108.9800033569336,
          108.66999816894531,
          108.5199966430664,
          108.4800033569336,
          108.13999938964844,
          108.16999816894531,
          108.0999984741211,
          107.9000015258789,
          107.69000244140625,
          107.44999694824219,
          107.0999984741211,
          107.54000091552734,
          107.4800033569336,
          107.2300033569336,
          107.11000061035156,
          107.2699966430664,
          107.19000244140625,
          107.01000213623047,
          106.94999694824219,
          107.0999984741211,
          107.0999984741211,
          106.9000015258789,
          106.5199966430664,
          106.30000305175781,
          106.44999694824219,
          106.5,
          106.41000366210938,
          106.19999694824219,
          105.79000091552734,
          105.98999786376953,
          105.94999694824219,
          105.52999877929688,
          105.45999908447266,
          105.63999938964844,
          105.66000366210938,
          105.43000030517578,
          105.37999725341797,
          105.30999755859375,
          105.55000305175781,
          105.5999984741211,
          105.62000274658203,
          106.12000274658203,
          106.01000213623047,
          106.12000274658203,
          106.11000061035156,
          106.19999694824219,
          106.19999694824219,
          106.08000183105469,
          106.01000213623047,
          106.16999816894531,
          106.19999694824219,
          106.19999694824219,
          106.1500015258789,
          106.43000030517578,
          106.55000305175781,
          106.58999633789062,
          106.55000305175781,
          106.51000213623047,
          106.48999786376953,
          106.41999816894531,
          106.4000015258789,
          106.43000030517578,
          106.4800033569336,
          106.4000015258789,
          106.30000305175781,
          106.20999908447266,
          106.08999633789062,
          106.0199966430664,
          106.1500015258789,
          106.13999938964844,
          106.1500015258789,
          106.1500015258789,
          106.1500015258789,
          106.1500015258789,
          106.26000213623047,
          106.27999877929688,
          106.26000213623047,
          106.2300033569336,
          106.20999908447266,
          105.9000015258789
         ],
         "low": [
          107.1500015258789,
          107.19999694824219,
          108.25,
          108.43000030517578,
          108.4000015258789,
          107.94000244140625,
          108.01000213623047,
          107.80000305175781,
          107.9000015258789,
          107.87000274658203,
          107.5999984741211,
          107.33000183105469,
          106.91999816894531,
          106.8499984741211,
          106.93000030517578,
          107,
          107.02999877929688,
          106.75,
          106.79000091552734,
          106.95999908447266,
          106.6500015258789,
          106.61000061035156,
          106.91999816894531,
          106.81999969482422,
          106.30999755859375,
          106,
          105.81999969482422,
          105.9800033569336,
          106.1500015258789,
          106.0999984741211,
          105.29000091552734,
          105.44000244140625,
          105.69999694824219,
          105.25,
          105.01000213623047,
          104.9000015258789,
          105.2699966430664,
          105.30999755859375,
          105.05000305175781,
          105,
          105.08999633789062,
          105.1500015258789,
          105.36000061035156,
          105.41000366210938,
          105.48999786376953,
          105.75,
          105.91000366210938,
          105.80999755859375,
          105.88999938964844,
          105.69000244140625,
          105.8499984741211,
          105.7699966430664,
          105.79000091552734,
          106,
          106.0199966430664,
          106.01000213623047,
          106.05999755859375,
          106.41000366210938,
          106.36000061035156,
          106.44000244140625,
          106.3499984741211,
          106.33999633789062,
          106.29000091552734,
          106.16999816894531,
          106.27999877929688,
          106.36000061035156,
          106.20999908447266,
          106.1500015258789,
          106.01000213623047,
          105.91999816894531,
          105.80999755859375,
          105.88999938964844,
          106.01000213623047,
          106.05999755859375,
          106.08999633789062,
          106.05999755859375,
          105.9000015258789,
          106.13999938964844,
          106.12999725341797,
          106.11000061035156,
          106.05000305175781,
          105.5,
          105.9000015258789
         ],
         "open": [
          107.68000030517578,
          107.37999725341797,
          108.45999908447266,
          108.80000305175781,
          108.54000091552734,
          108.5199966430664,
          108.38999938964844,
          108.08000183105469,
          108.0199966430664,
          108.01000213623047,
          107.9000015258789,
          107.63999938964844,
          107.37999725341797,
          107.08000183105469,
          106.95999908447266,
          107.44999694824219,
          107.11000061035156,
          107.08999633789062,
          106.80000305175781,
          107.12999725341797,
          106.95999908447266,
          106.68000030517578,
          106.91999816894531,
          106.95999908447266,
          106.83999633789062,
          106.33000183105469,
          106.04000091552734,
          106,
          106.18000030517578,
          106.33000183105469,
          106.1500015258789,
          105.44000244140625,
          105.7699966430664,
          105.91000366210938,
          105.47000122070312,
          105.05999755859375,
          105.27999877929688,
          105.61000061035156,
          105.4000015258789,
          105.08999633789062,
          105.1500015258789,
          105.19000244140625,
          105.5,
          105.43000030517578,
          105.5,
          105.9800033569336,
          105.94999694824219,
          106.02999877929688,
          106.04000091552734,
          106.08000183105469,
          105.94000244140625,
          105.88999938964844,
          105.79000091552734,
          106.11000061035156,
          106.19999694824219,
          106.08999633789062,
          106.13999938964844,
          106.41999816894531,
          106.51000213623047,
          106.48999786376953,
          106.47000122070312,
          106.43000030517578,
          106.33999633789062,
          106.37999725341797,
          106.30999755859375,
          106.41999816894531,
          106.38999938964844,
          106.26000213623047,
          106.19999694824219,
          106.05999755859375,
          105.9800033569336,
          105.88999938964844,
          106.0999984741211,
          106.0999984741211,
          106.12999725341797,
          106.13999938964844,
          106.08999633789062,
          106.13999938964844,
          106.22000122070312,
          106.25,
          106.16000366210938,
          106.18000030517578,
          105.9000015258789
         ],
         "type": "candlestick",
         "x": [
          "2021-06-17T10:05:00-03:00",
          "2021-06-17T10:10:00-03:00",
          "2021-06-17T10:15:00-03:00",
          "2021-06-17T10:20:00-03:00",
          "2021-06-17T10:25:00-03:00",
          "2021-06-17T10:30:00-03:00",
          "2021-06-17T10:35:00-03:00",
          "2021-06-17T10:40:00-03:00",
          "2021-06-17T10:45:00-03:00",
          "2021-06-17T10:50:00-03:00",
          "2021-06-17T10:55:00-03:00",
          "2021-06-17T11:00:00-03:00",
          "2021-06-17T11:05:00-03:00",
          "2021-06-17T11:10:00-03:00",
          "2021-06-17T11:15:00-03:00",
          "2021-06-17T11:20:00-03:00",
          "2021-06-17T11:25:00-03:00",
          "2021-06-17T11:30:00-03:00",
          "2021-06-17T11:35:00-03:00",
          "2021-06-17T11:40:00-03:00",
          "2021-06-17T11:45:00-03:00",
          "2021-06-17T11:50:00-03:00",
          "2021-06-17T11:55:00-03:00",
          "2021-06-17T12:00:00-03:00",
          "2021-06-17T12:05:00-03:00",
          "2021-06-17T12:10:00-03:00",
          "2021-06-17T12:15:00-03:00",
          "2021-06-17T12:20:00-03:00",
          "2021-06-17T12:25:00-03:00",
          "2021-06-17T12:30:00-03:00",
          "2021-06-17T12:35:00-03:00",
          "2021-06-17T12:40:00-03:00",
          "2021-06-17T12:45:00-03:00",
          "2021-06-17T12:50:00-03:00",
          "2021-06-17T12:55:00-03:00",
          "2021-06-17T13:00:00-03:00",
          "2021-06-17T13:05:00-03:00",
          "2021-06-17T13:10:00-03:00",
          "2021-06-17T13:15:00-03:00",
          "2021-06-17T13:20:00-03:00",
          "2021-06-17T13:25:00-03:00",
          "2021-06-17T13:30:00-03:00",
          "2021-06-17T13:35:00-03:00",
          "2021-06-17T13:40:00-03:00",
          "2021-06-17T13:45:00-03:00",
          "2021-06-17T13:50:00-03:00",
          "2021-06-17T13:55:00-03:00",
          "2021-06-17T14:00:00-03:00",
          "2021-06-17T14:05:00-03:00",
          "2021-06-17T14:10:00-03:00",
          "2021-06-17T14:15:00-03:00",
          "2021-06-17T14:20:00-03:00",
          "2021-06-17T14:25:00-03:00",
          "2021-06-17T14:30:00-03:00",
          "2021-06-17T14:35:00-03:00",
          "2021-06-17T14:40:00-03:00",
          "2021-06-17T14:45:00-03:00",
          "2021-06-17T14:50:00-03:00",
          "2021-06-17T14:55:00-03:00",
          "2021-06-17T15:00:00-03:00",
          "2021-06-17T15:05:00-03:00",
          "2021-06-17T15:10:00-03:00",
          "2021-06-17T15:15:00-03:00",
          "2021-06-17T15:20:00-03:00",
          "2021-06-17T15:25:00-03:00",
          "2021-06-17T15:30:00-03:00",
          "2021-06-17T15:35:00-03:00",
          "2021-06-17T15:40:00-03:00",
          "2021-06-17T15:45:00-03:00",
          "2021-06-17T15:50:00-03:00",
          "2021-06-17T15:55:00-03:00",
          "2021-06-17T16:00:00-03:00",
          "2021-06-17T16:05:00-03:00",
          "2021-06-17T16:10:00-03:00",
          "2021-06-17T16:15:00-03:00",
          "2021-06-17T16:20:00-03:00",
          "2021-06-17T16:25:00-03:00",
          "2021-06-17T16:30:00-03:00",
          "2021-06-17T16:35:00-03:00",
          "2021-06-17T16:40:00-03:00",
          "2021-06-17T16:45:00-03:00",
          "2021-06-17T16:50:00-03:00",
          "2021-06-17T17:00:00-03:00"
         ],
         "xaxis": "x",
         "yaxis": "y"
        },
        {
         "type": "scatter",
         "x": [
          "2021-05-10T00:00:00",
          "2021-05-11T00:00:00",
          "2021-05-12T00:00:00",
          "2021-05-13T00:00:00",
          "2021-05-14T00:00:00",
          "2021-05-17T00:00:00",
          "2021-05-18T00:00:00",
          "2021-05-19T00:00:00",
          "2021-05-20T00:00:00",
          "2021-05-21T00:00:00",
          "2021-05-24T00:00:00",
          "2021-05-25T00:00:00",
          "2021-05-26T00:00:00",
          "2021-05-27T00:00:00",
          "2021-05-28T00:00:00",
          "2021-05-31T00:00:00",
          "2021-06-01T00:00:00",
          "2021-06-02T00:00:00",
          "2021-06-04T00:00:00",
          "2021-06-07T00:00:00",
          "2021-06-08T00:00:00",
          "2021-06-09T00:00:00",
          "2021-06-10T00:00:00",
          "2021-06-11T00:00:00",
          "2021-06-14T00:00:00",
          "2021-06-15T00:00:00",
          "2021-06-16T00:00:00",
          "2021-06-17T00:00:00"
         ],
         "xaxis": "x2",
         "y": [
          43.295797204046664,
          53.354518636589184,
          44.16399751912394,
          40.97790988374732,
          37.890179938046124,
          44.64026216912687,
          47.07526012196521,
          42.88748985722085,
          40.98284526214687,
          38.23955305214326,
          39.21330371751366,
          34.94996117406103,
          42.69214339450891,
          44.47695216798257,
          45.85617269788347,
          52.598068097042514,
          49.322197525148155,
          52.54537500429035,
          48.59300835549902,
          46.41622425729898,
          42.88069103251581,
          48.04890125640646,
          47.300950245788236,
          52.682117107385224,
          51.28896732579175,
          46.54286266798618,
          40.45869339522021,
          36.963700980591625
         ],
         "yaxis": "y2"
        }
       ],
       "layout": {
        "coloraxis": {
         "colorbar": {
          "tickfont": {
           "color": "white"
          }
         }
        },
        "font": {
         "color": "white"
        },
        "paper_bgcolor": "#000326",
        "plot_bgcolor": "#000326",
        "template": {
         "data": {
          "bar": [
           {
            "error_x": {
             "color": "#2a3f5f"
            },
            "error_y": {
             "color": "#2a3f5f"
            },
            "marker": {
             "line": {
              "color": "#E5ECF6",
              "width": 0.5
             }
            },
            "type": "bar"
           }
          ],
          "barpolar": [
           {
            "marker": {
             "line": {
              "color": "#E5ECF6",
              "width": 0.5
             }
            },
            "type": "barpolar"
           }
          ],
          "carpet": [
           {
            "aaxis": {
             "endlinecolor": "#2a3f5f",
             "gridcolor": "white",
             "linecolor": "white",
             "minorgridcolor": "white",
             "startlinecolor": "#2a3f5f"
            },
            "baxis": {
             "endlinecolor": "#2a3f5f",
             "gridcolor": "white",
             "linecolor": "white",
             "minorgridcolor": "white",
             "startlinecolor": "#2a3f5f"
            },
            "type": "carpet"
           }
          ],
          "choropleth": [
           {
            "colorbar": {
             "outlinewidth": 0,
             "ticks": ""
            },
            "type": "choropleth"
           }
          ],
          "contour": [
           {
            "colorbar": {
             "outlinewidth": 0,
             "ticks": ""
            },
            "colorscale": [
             [
              0,
              "#0d0887"
             ],
             [
              0.1111111111111111,
              "#46039f"
             ],
             [
              0.2222222222222222,
              "#7201a8"
             ],
             [
              0.3333333333333333,
              "#9c179e"
             ],
             [
              0.4444444444444444,
              "#bd3786"
             ],
             [
              0.5555555555555556,
              "#d8576b"
             ],
             [
              0.6666666666666666,
              "#ed7953"
             ],
             [
              0.7777777777777778,
              "#fb9f3a"
             ],
             [
              0.8888888888888888,
              "#fdca26"
             ],
             [
              1,
              "#f0f921"
             ]
            ],
            "type": "contour"
           }
          ],
          "contourcarpet": [
           {
            "colorbar": {
             "outlinewidth": 0,
             "ticks": ""
            },
            "type": "contourcarpet"
           }
          ],
          "heatmap": [
           {
            "colorbar": {
             "outlinewidth": 0,
             "ticks": ""
            },
            "colorscale": [
             [
              0,
              "#0d0887"
             ],
             [
              0.1111111111111111,
              "#46039f"
             ],
             [
              0.2222222222222222,
              "#7201a8"
             ],
             [
              0.3333333333333333,
              "#9c179e"
             ],
             [
              0.4444444444444444,
              "#bd3786"
             ],
             [
              0.5555555555555556,
              "#d8576b"
             ],
             [
              0.6666666666666666,
              "#ed7953"
             ],
             [
              0.7777777777777778,
              "#fb9f3a"
             ],
             [
              0.8888888888888888,
              "#fdca26"
             ],
             [
              1,
              "#f0f921"
             ]
            ],
            "type": "heatmap"
           }
          ],
          "heatmapgl": [
           {
            "colorbar": {
             "outlinewidth": 0,
             "ticks": ""
            },
            "colorscale": [
             [
              0,
              "#0d0887"
             ],
             [
              0.1111111111111111,
              "#46039f"
             ],
             [
              0.2222222222222222,
              "#7201a8"
             ],
             [
              0.3333333333333333,
              "#9c179e"
             ],
             [
              0.4444444444444444,
              "#bd3786"
             ],
             [
              0.5555555555555556,
              "#d8576b"
             ],
             [
              0.6666666666666666,
              "#ed7953"
             ],
             [
              0.7777777777777778,
              "#fb9f3a"
             ],
             [
              0.8888888888888888,
              "#fdca26"
             ],
             [
              1,
              "#f0f921"
             ]
            ],
            "type": "heatmapgl"
           }
          ],
          "histogram": [
           {
            "marker": {
             "colorbar": {
              "outlinewidth": 0,
              "ticks": ""
             }
            },
            "type": "histogram"
           }
          ],
          "histogram2d": [
           {
            "colorbar": {
             "outlinewidth": 0,
             "ticks": ""
            },
            "colorscale": [
             [
              0,
              "#0d0887"
             ],
             [
              0.1111111111111111,
              "#46039f"
             ],
             [
              0.2222222222222222,
              "#7201a8"
             ],
             [
              0.3333333333333333,
              "#9c179e"
             ],
             [
              0.4444444444444444,
              "#bd3786"
             ],
             [
              0.5555555555555556,
              "#d8576b"
             ],
             [
              0.6666666666666666,
              "#ed7953"
             ],
             [
              0.7777777777777778,
              "#fb9f3a"
             ],
             [
              0.8888888888888888,
              "#fdca26"
             ],
             [
              1,
              "#f0f921"
             ]
            ],
            "type": "histogram2d"
           }
          ],
          "histogram2dcontour": [
           {
            "colorbar": {
             "outlinewidth": 0,
             "ticks": ""
            },
            "colorscale": [
             [
              0,
              "#0d0887"
             ],
             [
              0.1111111111111111,
              "#46039f"
             ],
             [
              0.2222222222222222,
              "#7201a8"
             ],
             [
              0.3333333333333333,
              "#9c179e"
             ],
             [
              0.4444444444444444,
              "#bd3786"
             ],
             [
              0.5555555555555556,
              "#d8576b"
             ],
             [
              0.6666666666666666,
              "#ed7953"
             ],
             [
              0.7777777777777778,
              "#fb9f3a"
             ],
             [
              0.8888888888888888,
              "#fdca26"
             ],
             [
              1,
              "#f0f921"
             ]
            ],
            "type": "histogram2dcontour"
           }
          ],
          "mesh3d": [
           {
            "colorbar": {
             "outlinewidth": 0,
             "ticks": ""
            },
            "type": "mesh3d"
           }
          ],
          "parcoords": [
           {
            "line": {
             "colorbar": {
              "outlinewidth": 0,
              "ticks": ""
             }
            },
            "type": "parcoords"
           }
          ],
          "pie": [
           {
            "automargin": true,
            "type": "pie"
           }
          ],
          "scatter": [
           {
            "marker": {
             "colorbar": {
              "outlinewidth": 0,
              "ticks": ""
             }
            },
            "type": "scatter"
           }
          ],
          "scatter3d": [
           {
            "line": {
             "colorbar": {
              "outlinewidth": 0,
              "ticks": ""
             }
            },
            "marker": {
             "colorbar": {
              "outlinewidth": 0,
              "ticks": ""
             }
            },
            "type": "scatter3d"
           }
          ],
          "scattercarpet": [
           {
            "marker": {
             "colorbar": {
              "outlinewidth": 0,
              "ticks": ""
             }
            },
            "type": "scattercarpet"
           }
          ],
          "scattergeo": [
           {
            "marker": {
             "colorbar": {
              "outlinewidth": 0,
              "ticks": ""
             }
            },
            "type": "scattergeo"
           }
          ],
          "scattergl": [
           {
            "marker": {
             "colorbar": {
              "outlinewidth": 0,
              "ticks": ""
             }
            },
            "type": "scattergl"
           }
          ],
          "scattermapbox": [
           {
            "marker": {
             "colorbar": {
              "outlinewidth": 0,
              "ticks": ""
             }
            },
            "type": "scattermapbox"
           }
          ],
          "scatterpolar": [
           {
            "marker": {
             "colorbar": {
              "outlinewidth": 0,
              "ticks": ""
             }
            },
            "type": "scatterpolar"
           }
          ],
          "scatterpolargl": [
           {
            "marker": {
             "colorbar": {
              "outlinewidth": 0,
              "ticks": ""
             }
            },
            "type": "scatterpolargl"
           }
          ],
          "scatterternary": [
           {
            "marker": {
             "colorbar": {
              "outlinewidth": 0,
              "ticks": ""
             }
            },
            "type": "scatterternary"
           }
          ],
          "surface": [
           {
            "colorbar": {
             "outlinewidth": 0,
             "ticks": ""
            },
            "colorscale": [
             [
              0,
              "#0d0887"
             ],
             [
              0.1111111111111111,
              "#46039f"
             ],
             [
              0.2222222222222222,
              "#7201a8"
             ],
             [
              0.3333333333333333,
              "#9c179e"
             ],
             [
              0.4444444444444444,
              "#bd3786"
             ],
             [
              0.5555555555555556,
              "#d8576b"
             ],
             [
              0.6666666666666666,
              "#ed7953"
             ],
             [
              0.7777777777777778,
              "#fb9f3a"
             ],
             [
              0.8888888888888888,
              "#fdca26"
             ],
             [
              1,
              "#f0f921"
             ]
            ],
            "type": "surface"
           }
          ],
          "table": [
           {
            "cells": {
             "fill": {
              "color": "#EBF0F8"
             },
             "line": {
              "color": "white"
             }
            },
            "header": {
             "fill": {
              "color": "#C8D4E3"
             },
             "line": {
              "color": "white"
             }
            },
            "type": "table"
           }
          ]
         },
         "layout": {
          "annotationdefaults": {
           "arrowcolor": "#2a3f5f",
           "arrowhead": 0,
           "arrowwidth": 1
          },
          "autotypenumbers": "strict",
          "coloraxis": {
           "colorbar": {
            "outlinewidth": 0,
            "ticks": ""
           }
          },
          "colorscale": {
           "diverging": [
            [
             0,
             "#8e0152"
            ],
            [
             0.1,
             "#c51b7d"
            ],
            [
             0.2,
             "#de77ae"
            ],
            [
             0.3,
             "#f1b6da"
            ],
            [
             0.4,
             "#fde0ef"
            ],
            [
             0.5,
             "#f7f7f7"
            ],
            [
             0.6,
             "#e6f5d0"
            ],
            [
             0.7,
             "#b8e186"
            ],
            [
             0.8,
             "#7fbc41"
            ],
            [
             0.9,
             "#4d9221"
            ],
            [
             1,
             "#276419"
            ]
           ],
           "sequential": [
            [
             0,
             "#0d0887"
            ],
            [
             0.1111111111111111,
             "#46039f"
            ],
            [
             0.2222222222222222,
             "#7201a8"
            ],
            [
             0.3333333333333333,
             "#9c179e"
            ],
            [
             0.4444444444444444,
             "#bd3786"
            ],
            [
             0.5555555555555556,
             "#d8576b"
            ],
            [
             0.6666666666666666,
             "#ed7953"
            ],
            [
             0.7777777777777778,
             "#fb9f3a"
            ],
            [
             0.8888888888888888,
             "#fdca26"
            ],
            [
             1,
             "#f0f921"
            ]
           ],
           "sequentialminus": [
            [
             0,
             "#0d0887"
            ],
            [
             0.1111111111111111,
             "#46039f"
            ],
            [
             0.2222222222222222,
             "#7201a8"
            ],
            [
             0.3333333333333333,
             "#9c179e"
            ],
            [
             0.4444444444444444,
             "#bd3786"
            ],
            [
             0.5555555555555556,
             "#d8576b"
            ],
            [
             0.6666666666666666,
             "#ed7953"
            ],
            [
             0.7777777777777778,
             "#fb9f3a"
            ],
            [
             0.8888888888888888,
             "#fdca26"
            ],
            [
             1,
             "#f0f921"
            ]
           ]
          },
          "colorway": [
           "#636efa",
           "#EF553B",
           "#00cc96",
           "#ab63fa",
           "#FFA15A",
           "#19d3f3",
           "#FF6692",
           "#B6E880",
           "#FF97FF",
           "#FECB52"
          ],
          "font": {
           "color": "#2a3f5f"
          },
          "geo": {
           "bgcolor": "white",
           "lakecolor": "white",
           "landcolor": "#E5ECF6",
           "showlakes": true,
           "showland": true,
           "subunitcolor": "white"
          },
          "hoverlabel": {
           "align": "left"
          },
          "hovermode": "closest",
          "mapbox": {
           "style": "light"
          },
          "paper_bgcolor": "white",
          "plot_bgcolor": "#E5ECF6",
          "polar": {
           "angularaxis": {
            "gridcolor": "white",
            "linecolor": "white",
            "ticks": ""
           },
           "bgcolor": "#E5ECF6",
           "radialaxis": {
            "gridcolor": "white",
            "linecolor": "white",
            "ticks": ""
           }
          },
          "scene": {
           "xaxis": {
            "backgroundcolor": "#E5ECF6",
            "gridcolor": "white",
            "gridwidth": 2,
            "linecolor": "white",
            "showbackground": true,
            "ticks": "",
            "zerolinecolor": "white"
           },
           "yaxis": {
            "backgroundcolor": "#E5ECF6",
            "gridcolor": "white",
            "gridwidth": 2,
            "linecolor": "white",
            "showbackground": true,
            "ticks": "",
            "zerolinecolor": "white"
           },
           "zaxis": {
            "backgroundcolor": "#E5ECF6",
            "gridcolor": "white",
            "gridwidth": 2,
            "linecolor": "white",
            "showbackground": true,
            "ticks": "",
            "zerolinecolor": "white"
           }
          },
          "shapedefaults": {
           "line": {
            "color": "#2a3f5f"
           }
          },
          "ternary": {
           "aaxis": {
            "gridcolor": "white",
            "linecolor": "white",
            "ticks": ""
           },
           "baxis": {
            "gridcolor": "white",
            "linecolor": "white",
            "ticks": ""
           },
           "bgcolor": "#E5ECF6",
           "caxis": {
            "gridcolor": "white",
            "linecolor": "white",
            "ticks": ""
           }
          },
          "title": {
           "x": 0.05
          },
          "xaxis": {
           "automargin": true,
           "gridcolor": "white",
           "linecolor": "white",
           "ticks": "",
           "title": {
            "standoff": 15
           },
           "zerolinecolor": "white",
           "zerolinewidth": 2
          },
          "yaxis": {
           "automargin": true,
           "gridcolor": "white",
           "linecolor": "white",
           "ticks": "",
           "title": {
            "standoff": 15
           },
           "zerolinecolor": "white",
           "zerolinewidth": 2
          }
         }
        },
        "xaxis": {
         "anchor": "y",
         "domain": [
          0,
          1
         ],
         "rangeslider": {
          "visible": false
         }
        },
        "xaxis2": {
         "anchor": "y2",
         "domain": [
          0,
          1
         ]
        },
        "yaxis": {
         "anchor": "x",
         "domain": [
          0.49,
          1
         ]
        },
        "yaxis2": {
         "anchor": "x2",
         "domain": [
          0,
          0.34
         ]
        }
       }
      },
      "text/html": [
       "<div>                            <div id=\"51a74977-94ac-4229-8094-858ffbe80153\" class=\"plotly-graph-div\" style=\"height:525px; width:100%;\"></div>            <script type=\"text/javascript\">                require([\"plotly\"], function(Plotly) {                    window.PLOTLYENV=window.PLOTLYENV || {};                                    if (document.getElementById(\"51a74977-94ac-4229-8094-858ffbe80153\")) {                    Plotly.newPlot(                        \"51a74977-94ac-4229-8094-858ffbe80153\",                        [{\"close\": [107.38999938964844, 108.5, 108.7699966430664, 108.54000091552734, 108.55999755859375, 108.37999725341797, 108.11000061035156, 108.0, 108.02999877929688, 107.88999938964844, 107.63999938964844, 107.37999725341797, 107.08000183105469, 106.9000015258789, 107.44999694824219, 107.11000061035156, 107.08000183105469, 106.77999877929688, 107.12999725341797, 106.95999908447266, 106.69000244140625, 106.94000244140625, 107.0, 106.83000183105469, 106.33999633789062, 106.04000091552734, 106.0, 106.19999694824219, 106.33000183105469, 106.11000061035156, 105.44000244140625, 105.7699966430664, 105.91000366210938, 105.47000122070312, 105.05999755859375, 105.23999786376953, 105.62000274658203, 105.43000030517578, 105.06999969482422, 105.0999984741211, 105.19000244140625, 105.55000305175781, 105.43000030517578, 105.5, 106.01000213623047, 105.94999694824219, 106.0199966430664, 106.05000305175781, 106.11000061035156, 105.9800033569336, 105.9000015258789, 105.80000305175781, 106.12000274658203, 106.19999694824219, 106.08999633789062, 106.13999938964844, 106.41000366210938, 106.5, 106.48999786376953, 106.47000122070312, 106.43000030517578, 106.36000061035156, 106.37999725341797, 106.30999755859375, 106.41000366210938, 106.4000015258789, 106.26000213623047, 106.22000122070312, 106.04000091552734, 105.9800033569336, 105.91000366210938, 106.0999984741211, 106.08999633789062, 106.12999725341797, 106.1500015258789, 106.0999984741211, 106.1500015258789, 106.20999908447266, 106.26000213623047, 106.18000030517578, 106.16999816894531, 106.11000061035156, 105.9000015258789], \"high\": [108.05000305175781, 109.0, 109.16000366210938, 108.9800033569336, 108.66999816894531, 108.5199966430664, 108.4800033569336, 108.13999938964844, 108.16999816894531, 108.0999984741211, 107.9000015258789, 107.69000244140625, 107.44999694824219, 107.0999984741211, 107.54000091552734, 107.4800033569336, 107.2300033569336, 107.11000061035156, 107.2699966430664, 107.19000244140625, 107.01000213623047, 106.94999694824219, 107.0999984741211, 107.0999984741211, 106.9000015258789, 106.5199966430664, 106.30000305175781, 106.44999694824219, 106.5, 106.41000366210938, 106.19999694824219, 105.79000091552734, 105.98999786376953, 105.94999694824219, 105.52999877929688, 105.45999908447266, 105.63999938964844, 105.66000366210938, 105.43000030517578, 105.37999725341797, 105.30999755859375, 105.55000305175781, 105.5999984741211, 105.62000274658203, 106.12000274658203, 106.01000213623047, 106.12000274658203, 106.11000061035156, 106.19999694824219, 106.19999694824219, 106.08000183105469, 106.01000213623047, 106.16999816894531, 106.19999694824219, 106.19999694824219, 106.1500015258789, 106.43000030517578, 106.55000305175781, 106.58999633789062, 106.55000305175781, 106.51000213623047, 106.48999786376953, 106.41999816894531, 106.4000015258789, 106.43000030517578, 106.4800033569336, 106.4000015258789, 106.30000305175781, 106.20999908447266, 106.08999633789062, 106.0199966430664, 106.1500015258789, 106.13999938964844, 106.1500015258789, 106.1500015258789, 106.1500015258789, 106.1500015258789, 106.26000213623047, 106.27999877929688, 106.26000213623047, 106.2300033569336, 106.20999908447266, 105.9000015258789], \"low\": [107.1500015258789, 107.19999694824219, 108.25, 108.43000030517578, 108.4000015258789, 107.94000244140625, 108.01000213623047, 107.80000305175781, 107.9000015258789, 107.87000274658203, 107.5999984741211, 107.33000183105469, 106.91999816894531, 106.8499984741211, 106.93000030517578, 107.0, 107.02999877929688, 106.75, 106.79000091552734, 106.95999908447266, 106.6500015258789, 106.61000061035156, 106.91999816894531, 106.81999969482422, 106.30999755859375, 106.0, 105.81999969482422, 105.9800033569336, 106.1500015258789, 106.0999984741211, 105.29000091552734, 105.44000244140625, 105.69999694824219, 105.25, 105.01000213623047, 104.9000015258789, 105.2699966430664, 105.30999755859375, 105.05000305175781, 105.0, 105.08999633789062, 105.1500015258789, 105.36000061035156, 105.41000366210938, 105.48999786376953, 105.75, 105.91000366210938, 105.80999755859375, 105.88999938964844, 105.69000244140625, 105.8499984741211, 105.7699966430664, 105.79000091552734, 106.0, 106.0199966430664, 106.01000213623047, 106.05999755859375, 106.41000366210938, 106.36000061035156, 106.44000244140625, 106.3499984741211, 106.33999633789062, 106.29000091552734, 106.16999816894531, 106.27999877929688, 106.36000061035156, 106.20999908447266, 106.1500015258789, 106.01000213623047, 105.91999816894531, 105.80999755859375, 105.88999938964844, 106.01000213623047, 106.05999755859375, 106.08999633789062, 106.05999755859375, 105.9000015258789, 106.13999938964844, 106.12999725341797, 106.11000061035156, 106.05000305175781, 105.5, 105.9000015258789], \"open\": [107.68000030517578, 107.37999725341797, 108.45999908447266, 108.80000305175781, 108.54000091552734, 108.5199966430664, 108.38999938964844, 108.08000183105469, 108.0199966430664, 108.01000213623047, 107.9000015258789, 107.63999938964844, 107.37999725341797, 107.08000183105469, 106.95999908447266, 107.44999694824219, 107.11000061035156, 107.08999633789062, 106.80000305175781, 107.12999725341797, 106.95999908447266, 106.68000030517578, 106.91999816894531, 106.95999908447266, 106.83999633789062, 106.33000183105469, 106.04000091552734, 106.0, 106.18000030517578, 106.33000183105469, 106.1500015258789, 105.44000244140625, 105.7699966430664, 105.91000366210938, 105.47000122070312, 105.05999755859375, 105.27999877929688, 105.61000061035156, 105.4000015258789, 105.08999633789062, 105.1500015258789, 105.19000244140625, 105.5, 105.43000030517578, 105.5, 105.9800033569336, 105.94999694824219, 106.02999877929688, 106.04000091552734, 106.08000183105469, 105.94000244140625, 105.88999938964844, 105.79000091552734, 106.11000061035156, 106.19999694824219, 106.08999633789062, 106.13999938964844, 106.41999816894531, 106.51000213623047, 106.48999786376953, 106.47000122070312, 106.43000030517578, 106.33999633789062, 106.37999725341797, 106.30999755859375, 106.41999816894531, 106.38999938964844, 106.26000213623047, 106.19999694824219, 106.05999755859375, 105.9800033569336, 105.88999938964844, 106.0999984741211, 106.0999984741211, 106.12999725341797, 106.13999938964844, 106.08999633789062, 106.13999938964844, 106.22000122070312, 106.25, 106.16000366210938, 106.18000030517578, 105.9000015258789], \"type\": \"candlestick\", \"x\": [\"2021-06-17T10:05:00-03:00\", \"2021-06-17T10:10:00-03:00\", \"2021-06-17T10:15:00-03:00\", \"2021-06-17T10:20:00-03:00\", \"2021-06-17T10:25:00-03:00\", \"2021-06-17T10:30:00-03:00\", \"2021-06-17T10:35:00-03:00\", \"2021-06-17T10:40:00-03:00\", \"2021-06-17T10:45:00-03:00\", \"2021-06-17T10:50:00-03:00\", \"2021-06-17T10:55:00-03:00\", \"2021-06-17T11:00:00-03:00\", \"2021-06-17T11:05:00-03:00\", \"2021-06-17T11:10:00-03:00\", \"2021-06-17T11:15:00-03:00\", \"2021-06-17T11:20:00-03:00\", \"2021-06-17T11:25:00-03:00\", \"2021-06-17T11:30:00-03:00\", \"2021-06-17T11:35:00-03:00\", \"2021-06-17T11:40:00-03:00\", \"2021-06-17T11:45:00-03:00\", \"2021-06-17T11:50:00-03:00\", \"2021-06-17T11:55:00-03:00\", \"2021-06-17T12:00:00-03:00\", \"2021-06-17T12:05:00-03:00\", \"2021-06-17T12:10:00-03:00\", \"2021-06-17T12:15:00-03:00\", \"2021-06-17T12:20:00-03:00\", \"2021-06-17T12:25:00-03:00\", \"2021-06-17T12:30:00-03:00\", \"2021-06-17T12:35:00-03:00\", \"2021-06-17T12:40:00-03:00\", \"2021-06-17T12:45:00-03:00\", \"2021-06-17T12:50:00-03:00\", \"2021-06-17T12:55:00-03:00\", \"2021-06-17T13:00:00-03:00\", \"2021-06-17T13:05:00-03:00\", \"2021-06-17T13:10:00-03:00\", \"2021-06-17T13:15:00-03:00\", \"2021-06-17T13:20:00-03:00\", \"2021-06-17T13:25:00-03:00\", \"2021-06-17T13:30:00-03:00\", \"2021-06-17T13:35:00-03:00\", \"2021-06-17T13:40:00-03:00\", \"2021-06-17T13:45:00-03:00\", \"2021-06-17T13:50:00-03:00\", \"2021-06-17T13:55:00-03:00\", \"2021-06-17T14:00:00-03:00\", \"2021-06-17T14:05:00-03:00\", \"2021-06-17T14:10:00-03:00\", \"2021-06-17T14:15:00-03:00\", \"2021-06-17T14:20:00-03:00\", \"2021-06-17T14:25:00-03:00\", \"2021-06-17T14:30:00-03:00\", \"2021-06-17T14:35:00-03:00\", \"2021-06-17T14:40:00-03:00\", \"2021-06-17T14:45:00-03:00\", \"2021-06-17T14:50:00-03:00\", \"2021-06-17T14:55:00-03:00\", \"2021-06-17T15:00:00-03:00\", \"2021-06-17T15:05:00-03:00\", \"2021-06-17T15:10:00-03:00\", \"2021-06-17T15:15:00-03:00\", \"2021-06-17T15:20:00-03:00\", \"2021-06-17T15:25:00-03:00\", \"2021-06-17T15:30:00-03:00\", \"2021-06-17T15:35:00-03:00\", \"2021-06-17T15:40:00-03:00\", \"2021-06-17T15:45:00-03:00\", \"2021-06-17T15:50:00-03:00\", \"2021-06-17T15:55:00-03:00\", \"2021-06-17T16:00:00-03:00\", \"2021-06-17T16:05:00-03:00\", \"2021-06-17T16:10:00-03:00\", \"2021-06-17T16:15:00-03:00\", \"2021-06-17T16:20:00-03:00\", \"2021-06-17T16:25:00-03:00\", \"2021-06-17T16:30:00-03:00\", \"2021-06-17T16:35:00-03:00\", \"2021-06-17T16:40:00-03:00\", \"2021-06-17T16:45:00-03:00\", \"2021-06-17T16:50:00-03:00\", \"2021-06-17T17:00:00-03:00\"], \"xaxis\": \"x\", \"yaxis\": \"y\"}, {\"type\": \"scatter\", \"x\": [\"2021-05-10T00:00:00\", \"2021-05-11T00:00:00\", \"2021-05-12T00:00:00\", \"2021-05-13T00:00:00\", \"2021-05-14T00:00:00\", \"2021-05-17T00:00:00\", \"2021-05-18T00:00:00\", \"2021-05-19T00:00:00\", \"2021-05-20T00:00:00\", \"2021-05-21T00:00:00\", \"2021-05-24T00:00:00\", \"2021-05-25T00:00:00\", \"2021-05-26T00:00:00\", \"2021-05-27T00:00:00\", \"2021-05-28T00:00:00\", \"2021-05-31T00:00:00\", \"2021-06-01T00:00:00\", \"2021-06-02T00:00:00\", \"2021-06-04T00:00:00\", \"2021-06-07T00:00:00\", \"2021-06-08T00:00:00\", \"2021-06-09T00:00:00\", \"2021-06-10T00:00:00\", \"2021-06-11T00:00:00\", \"2021-06-14T00:00:00\", \"2021-06-15T00:00:00\", \"2021-06-16T00:00:00\", \"2021-06-17T00:00:00\"], \"xaxis\": \"x2\", \"y\": [43.295797204046664, 53.354518636589184, 44.16399751912394, 40.97790988374732, 37.890179938046124, 44.64026216912687, 47.07526012196521, 42.88748985722085, 40.98284526214687, 38.23955305214326, 39.21330371751366, 34.94996117406103, 42.69214339450891, 44.47695216798257, 45.85617269788347, 52.598068097042514, 49.322197525148155, 52.54537500429035, 48.59300835549902, 46.41622425729898, 42.88069103251581, 48.04890125640646, 47.300950245788236, 52.682117107385224, 51.28896732579175, 46.54286266798618, 40.45869339522021, 36.963700980591625], \"yaxis\": \"y2\"}],                        {\"coloraxis\": {\"colorbar\": {\"tickfont\": {\"color\": \"white\"}}}, \"font\": {\"color\": \"white\"}, \"paper_bgcolor\": \"#000326\", \"plot_bgcolor\": \"#000326\", \"template\": {\"data\": {\"bar\": [{\"error_x\": {\"color\": \"#2a3f5f\"}, \"error_y\": {\"color\": \"#2a3f5f\"}, \"marker\": {\"line\": {\"color\": \"#E5ECF6\", \"width\": 0.5}}, \"type\": \"bar\"}], \"barpolar\": [{\"marker\": {\"line\": {\"color\": \"#E5ECF6\", \"width\": 0.5}}, \"type\": \"barpolar\"}], \"carpet\": [{\"aaxis\": {\"endlinecolor\": \"#2a3f5f\", \"gridcolor\": \"white\", \"linecolor\": \"white\", \"minorgridcolor\": \"white\", \"startlinecolor\": \"#2a3f5f\"}, \"baxis\": {\"endlinecolor\": \"#2a3f5f\", \"gridcolor\": \"white\", \"linecolor\": \"white\", \"minorgridcolor\": \"white\", \"startlinecolor\": \"#2a3f5f\"}, \"type\": \"carpet\"}], \"choropleth\": [{\"colorbar\": {\"outlinewidth\": 0, \"ticks\": \"\"}, \"type\": \"choropleth\"}], \"contour\": [{\"colorbar\": {\"outlinewidth\": 0, \"ticks\": \"\"}, \"colorscale\": [[0.0, \"#0d0887\"], [0.1111111111111111, \"#46039f\"], [0.2222222222222222, \"#7201a8\"], [0.3333333333333333, \"#9c179e\"], [0.4444444444444444, \"#bd3786\"], [0.5555555555555556, \"#d8576b\"], [0.6666666666666666, \"#ed7953\"], [0.7777777777777778, \"#fb9f3a\"], [0.8888888888888888, \"#fdca26\"], [1.0, \"#f0f921\"]], \"type\": \"contour\"}], \"contourcarpet\": [{\"colorbar\": {\"outlinewidth\": 0, \"ticks\": \"\"}, \"type\": \"contourcarpet\"}], \"heatmap\": [{\"colorbar\": {\"outlinewidth\": 0, \"ticks\": \"\"}, \"colorscale\": [[0.0, \"#0d0887\"], [0.1111111111111111, \"#46039f\"], [0.2222222222222222, \"#7201a8\"], [0.3333333333333333, \"#9c179e\"], [0.4444444444444444, \"#bd3786\"], [0.5555555555555556, \"#d8576b\"], [0.6666666666666666, \"#ed7953\"], [0.7777777777777778, \"#fb9f3a\"], [0.8888888888888888, \"#fdca26\"], [1.0, \"#f0f921\"]], \"type\": \"heatmap\"}], \"heatmapgl\": [{\"colorbar\": {\"outlinewidth\": 0, \"ticks\": \"\"}, \"colorscale\": [[0.0, \"#0d0887\"], [0.1111111111111111, \"#46039f\"], [0.2222222222222222, \"#7201a8\"], [0.3333333333333333, \"#9c179e\"], [0.4444444444444444, \"#bd3786\"], [0.5555555555555556, \"#d8576b\"], [0.6666666666666666, \"#ed7953\"], [0.7777777777777778, \"#fb9f3a\"], [0.8888888888888888, \"#fdca26\"], [1.0, \"#f0f921\"]], \"type\": \"heatmapgl\"}], \"histogram\": [{\"marker\": {\"colorbar\": {\"outlinewidth\": 0, \"ticks\": \"\"}}, \"type\": \"histogram\"}], \"histogram2d\": [{\"colorbar\": {\"outlinewidth\": 0, \"ticks\": \"\"}, \"colorscale\": [[0.0, \"#0d0887\"], [0.1111111111111111, \"#46039f\"], [0.2222222222222222, \"#7201a8\"], [0.3333333333333333, \"#9c179e\"], [0.4444444444444444, \"#bd3786\"], [0.5555555555555556, \"#d8576b\"], [0.6666666666666666, \"#ed7953\"], [0.7777777777777778, \"#fb9f3a\"], [0.8888888888888888, \"#fdca26\"], [1.0, \"#f0f921\"]], \"type\": \"histogram2d\"}], \"histogram2dcontour\": [{\"colorbar\": {\"outlinewidth\": 0, \"ticks\": \"\"}, \"colorscale\": [[0.0, \"#0d0887\"], [0.1111111111111111, \"#46039f\"], [0.2222222222222222, \"#7201a8\"], [0.3333333333333333, \"#9c179e\"], [0.4444444444444444, \"#bd3786\"], [0.5555555555555556, \"#d8576b\"], [0.6666666666666666, \"#ed7953\"], [0.7777777777777778, \"#fb9f3a\"], [0.8888888888888888, \"#fdca26\"], [1.0, \"#f0f921\"]], \"type\": \"histogram2dcontour\"}], \"mesh3d\": [{\"colorbar\": {\"outlinewidth\": 0, \"ticks\": \"\"}, \"type\": \"mesh3d\"}], \"parcoords\": [{\"line\": {\"colorbar\": {\"outlinewidth\": 0, \"ticks\": \"\"}}, \"type\": \"parcoords\"}], \"pie\": [{\"automargin\": true, \"type\": \"pie\"}], \"scatter\": [{\"marker\": {\"colorbar\": {\"outlinewidth\": 0, \"ticks\": \"\"}}, \"type\": \"scatter\"}], \"scatter3d\": [{\"line\": {\"colorbar\": {\"outlinewidth\": 0, \"ticks\": \"\"}}, \"marker\": {\"colorbar\": {\"outlinewidth\": 0, \"ticks\": \"\"}}, \"type\": \"scatter3d\"}], \"scattercarpet\": [{\"marker\": {\"colorbar\": {\"outlinewidth\": 0, \"ticks\": \"\"}}, \"type\": \"scattercarpet\"}], \"scattergeo\": [{\"marker\": {\"colorbar\": {\"outlinewidth\": 0, \"ticks\": \"\"}}, \"type\": \"scattergeo\"}], \"scattergl\": [{\"marker\": {\"colorbar\": {\"outlinewidth\": 0, \"ticks\": \"\"}}, \"type\": \"scattergl\"}], \"scattermapbox\": [{\"marker\": {\"colorbar\": {\"outlinewidth\": 0, \"ticks\": \"\"}}, \"type\": \"scattermapbox\"}], \"scatterpolar\": [{\"marker\": {\"colorbar\": {\"outlinewidth\": 0, \"ticks\": \"\"}}, \"type\": \"scatterpolar\"}], \"scatterpolargl\": [{\"marker\": {\"colorbar\": {\"outlinewidth\": 0, \"ticks\": \"\"}}, \"type\": \"scatterpolargl\"}], \"scatterternary\": [{\"marker\": {\"colorbar\": {\"outlinewidth\": 0, \"ticks\": \"\"}}, \"type\": \"scatterternary\"}], \"surface\": [{\"colorbar\": {\"outlinewidth\": 0, \"ticks\": \"\"}, \"colorscale\": [[0.0, \"#0d0887\"], [0.1111111111111111, \"#46039f\"], [0.2222222222222222, \"#7201a8\"], [0.3333333333333333, \"#9c179e\"], [0.4444444444444444, \"#bd3786\"], [0.5555555555555556, \"#d8576b\"], [0.6666666666666666, \"#ed7953\"], [0.7777777777777778, \"#fb9f3a\"], [0.8888888888888888, \"#fdca26\"], [1.0, \"#f0f921\"]], \"type\": \"surface\"}], \"table\": [{\"cells\": {\"fill\": {\"color\": \"#EBF0F8\"}, \"line\": {\"color\": \"white\"}}, \"header\": {\"fill\": {\"color\": \"#C8D4E3\"}, \"line\": {\"color\": \"white\"}}, \"type\": \"table\"}]}, \"layout\": {\"annotationdefaults\": {\"arrowcolor\": \"#2a3f5f\", \"arrowhead\": 0, \"arrowwidth\": 1}, \"autotypenumbers\": \"strict\", \"coloraxis\": {\"colorbar\": {\"outlinewidth\": 0, \"ticks\": \"\"}}, \"colorscale\": {\"diverging\": [[0, \"#8e0152\"], [0.1, \"#c51b7d\"], [0.2, \"#de77ae\"], [0.3, \"#f1b6da\"], [0.4, \"#fde0ef\"], [0.5, \"#f7f7f7\"], [0.6, \"#e6f5d0\"], [0.7, \"#b8e186\"], [0.8, \"#7fbc41\"], [0.9, \"#4d9221\"], [1, \"#276419\"]], \"sequential\": [[0.0, \"#0d0887\"], [0.1111111111111111, \"#46039f\"], [0.2222222222222222, \"#7201a8\"], [0.3333333333333333, \"#9c179e\"], [0.4444444444444444, \"#bd3786\"], [0.5555555555555556, \"#d8576b\"], [0.6666666666666666, \"#ed7953\"], [0.7777777777777778, \"#fb9f3a\"], [0.8888888888888888, \"#fdca26\"], [1.0, \"#f0f921\"]], \"sequentialminus\": [[0.0, \"#0d0887\"], [0.1111111111111111, \"#46039f\"], [0.2222222222222222, \"#7201a8\"], [0.3333333333333333, \"#9c179e\"], [0.4444444444444444, \"#bd3786\"], [0.5555555555555556, \"#d8576b\"], [0.6666666666666666, \"#ed7953\"], [0.7777777777777778, \"#fb9f3a\"], [0.8888888888888888, \"#fdca26\"], [1.0, \"#f0f921\"]]}, \"colorway\": [\"#636efa\", \"#EF553B\", \"#00cc96\", \"#ab63fa\", \"#FFA15A\", \"#19d3f3\", \"#FF6692\", \"#B6E880\", \"#FF97FF\", \"#FECB52\"], \"font\": {\"color\": \"#2a3f5f\"}, \"geo\": {\"bgcolor\": \"white\", \"lakecolor\": \"white\", \"landcolor\": \"#E5ECF6\", \"showlakes\": true, \"showland\": true, \"subunitcolor\": \"white\"}, \"hoverlabel\": {\"align\": \"left\"}, \"hovermode\": \"closest\", \"mapbox\": {\"style\": \"light\"}, \"paper_bgcolor\": \"white\", \"plot_bgcolor\": \"#E5ECF6\", \"polar\": {\"angularaxis\": {\"gridcolor\": \"white\", \"linecolor\": \"white\", \"ticks\": \"\"}, \"bgcolor\": \"#E5ECF6\", \"radialaxis\": {\"gridcolor\": \"white\", \"linecolor\": \"white\", \"ticks\": \"\"}}, \"scene\": {\"xaxis\": {\"backgroundcolor\": \"#E5ECF6\", \"gridcolor\": \"white\", \"gridwidth\": 2, \"linecolor\": \"white\", \"showbackground\": true, \"ticks\": \"\", \"zerolinecolor\": \"white\"}, \"yaxis\": {\"backgroundcolor\": \"#E5ECF6\", \"gridcolor\": \"white\", \"gridwidth\": 2, \"linecolor\": \"white\", \"showbackground\": true, \"ticks\": \"\", \"zerolinecolor\": \"white\"}, \"zaxis\": {\"backgroundcolor\": \"#E5ECF6\", \"gridcolor\": \"white\", \"gridwidth\": 2, \"linecolor\": \"white\", \"showbackground\": true, \"ticks\": \"\", \"zerolinecolor\": \"white\"}}, \"shapedefaults\": {\"line\": {\"color\": \"#2a3f5f\"}}, \"ternary\": {\"aaxis\": {\"gridcolor\": \"white\", \"linecolor\": \"white\", \"ticks\": \"\"}, \"baxis\": {\"gridcolor\": \"white\", \"linecolor\": \"white\", \"ticks\": \"\"}, \"bgcolor\": \"#E5ECF6\", \"caxis\": {\"gridcolor\": \"white\", \"linecolor\": \"white\", \"ticks\": \"\"}}, \"title\": {\"x\": 0.05}, \"xaxis\": {\"automargin\": true, \"gridcolor\": \"white\", \"linecolor\": \"white\", \"ticks\": \"\", \"title\": {\"standoff\": 15}, \"zerolinecolor\": \"white\", \"zerolinewidth\": 2}, \"yaxis\": {\"automargin\": true, \"gridcolor\": \"white\", \"linecolor\": \"white\", \"ticks\": \"\", \"title\": {\"standoff\": 15}, \"zerolinecolor\": \"white\", \"zerolinewidth\": 2}}}, \"xaxis\": {\"anchor\": \"y\", \"domain\": [0.0, 1.0], \"rangeslider\": {\"visible\": false}}, \"xaxis2\": {\"anchor\": \"y2\", \"domain\": [0.0, 1.0]}, \"yaxis\": {\"anchor\": \"x\", \"domain\": [0.49, 1.0]}, \"yaxis2\": {\"anchor\": \"x2\", \"domain\": [0.0, 0.34]}},                        {\"responsive\": true}                    ).then(function(){\n",
       "                            \n",
       "var gd = document.getElementById('51a74977-94ac-4229-8094-858ffbe80153');\n",
       "var x = new MutationObserver(function (mutations, observer) {{\n",
       "        var display = window.getComputedStyle(gd).display;\n",
       "        if (!display || display === 'none') {{\n",
       "            console.log([gd, 'removed!']);\n",
       "            Plotly.purge(gd);\n",
       "            observer.disconnect();\n",
       "        }}\n",
       "}});\n",
       "\n",
       "// Listen for the removal of the full notebook cells\n",
       "var notebookContainer = gd.closest('#notebook-container');\n",
       "if (notebookContainer) {{\n",
       "    x.observe(notebookContainer, {childList: true});\n",
       "}}\n",
       "\n",
       "// Listen for the clearing of the current output cell\n",
       "var outputEl = gd.closest('.output');\n",
       "if (outputEl) {{\n",
       "    x.observe(outputEl, {childList: true});\n",
       "}}\n",
       "\n",
       "                        })                };                });            </script>        </div>"
      ]
     },
     "metadata": {},
     "output_type": "display_data"
    }
   ],
   "source": [
    "dispatcher.add_handler(CommandHandler(\"hey\", hey))\n",
    "dispatcher.add_handler(CommandHandler('dolar', dolar))\n",
    "dispatcher.add_handler(CommandHandler('euro', euro))\n",
    "dispatcher.add_handler(CommandHandler('vilzyn', vilzyn))\n",
    "\n",
    "dispatcher.add_handler(CommandHandler(\"stock\", stock))\n",
    "dispatcher.add_handler(CommandHandler(\"chart\", chart))"
   ]
  },
  {
   "cell_type": "code",
   "execution_count": 19,
   "metadata": {},
   "outputs": [
    {
     "data": {
      "text/plain": [
       "<queue.Queue at 0x22379c89670>"
      ]
     },
     "execution_count": 19,
     "metadata": {},
     "output_type": "execute_result"
    }
   ],
   "source": [
    "updater.start_polling()"
   ]
  },
  {
   "cell_type": "code",
   "execution_count": null,
   "metadata": {},
   "outputs": [],
   "source": []
  },
  {
   "cell_type": "code",
   "execution_count": null,
   "metadata": {},
   "outputs": [],
   "source": []
  }
 ],
 "metadata": {
  "interpreter": {
   "hash": "24f9485ab1d10e886103e96fbf8e52828e6fad9414abcc972a2f188dea3be222"
  },
  "kernelspec": {
   "display_name": "Python 3",
   "language": "python",
   "name": "python3"
  },
  "language_info": {
   "codemirror_mode": {
    "name": "ipython",
    "version": 3
   },
   "file_extension": ".py",
   "mimetype": "text/x-python",
   "name": "python",
   "nbconvert_exporter": "python",
   "pygments_lexer": "ipython3",
   "version": "3.8.5"
  },
  "metadata": {
   "interpreter": {
    "hash": "24f9485ab1d10e886103e96fbf8e52828e6fad9414abcc972a2f188dea3be222"
   }
  }
 },
 "nbformat": 4,
 "nbformat_minor": 4
}
