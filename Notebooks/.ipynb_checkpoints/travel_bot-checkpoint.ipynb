{
 "cells": [
  {
   "cell_type": "code",
   "execution_count": 1,
   "metadata": {},
   "outputs": [],
   "source": [
    "import telegram\n",
    "import requests\n",
    "import telegram_send\n",
    "import pandas as pd # Para evitar escrever pandas e trocar pela escrita apenas de pd para facilitar\n",
    "import plotly.graph_objects as go\n",
    "import matplotlib.pyplot as plt\n",
    "import yfinance as yf \n",
    "import schedule\n",
    "import time\n",
    "import os\n",
    "import matplotlib.pyplot as plt\n",
    "import plotly.graph_objects as go\n",
    "\n",
    "from bs4 import BeautifulSoup\n",
    "from telegram.ext import Updater, CommandHandler, MessageHandler, Filters\n",
    "from pandas_datareader import data as web # Evita a escrita do data e troca pelo web\n",
    "from datetime import datetime\n",
    "\n",
    "\n"
   ]
  },
  {
   "cell_type": "code",
   "execution_count": 2,
   "metadata": {},
   "outputs": [],
   "source": [
    "token = '1796099831:AAGteQJXlcNd2dLSSq0kbbqa0QoV0B_xtTU'\n",
    "    \n",
    "bot = telegram.Bot(token) #Replace TOKEN with your token string\n",
    "updater = Updater(token=token, use_context=True) #Replace TOKEN with your token string\n",
    "\n",
    "dispatcher = updater.dispatcher"
   ]
  },
  {
   "cell_type": "code",
   "execution_count": 3,
   "metadata": {},
   "outputs": [],
   "source": [
    "def get_coin_bid(coin):\n",
    "    response = requests.get('https://economia.awesomeapi.com.br/json/last/'+ coin)\n",
    "    result = response.json()\n",
    "    c = coin.replace('-','')\n",
    "    return result[c]['bid']"
   ]
  },
  {
   "cell_type": "code",
   "execution_count": 4,
   "metadata": {},
   "outputs": [],
   "source": [
    "def get_bdrs_price(paper):\n",
    "    response = 'https://statusinvest.com.br/bdrs/' + paper\n",
    "    result = requests.get(response)\n",
    "    soup = BeautifulSoup(result.content, 'html.parser')\n",
    "    stock_price = str(soup.find(class_='value')).split('>')[1].split('<')[0]\n",
    "    var = str(soup.find(title='Variação do valor do ativo com base no dia anterior'))\n",
    "    \n",
    "    var = var.split('\\n')[4].split('>')[1].split('<')[0]\n",
    "        \n",
    "    if not var.startswith('-'):\n",
    "        var = '+' + var\n",
    "            \n",
    "    return stock_price, var"
   ]
  },
  {
   "cell_type": "code",
   "execution_count": 5,
   "metadata": {},
   "outputs": [],
   "source": [
    "def get_fiis_price(paper):\n",
    "    response = 'https://statusinvest.com.br/fundos-imobiliarios/' + paper\n",
    "    result = requests.get(response)\n",
    "    soup = BeautifulSoup(result.content, 'html.parser')\n",
    "    stock_price = str(soup.find(class_='value'))\n",
    "    var = str(soup.find(title='Variação do valor do ativo com base no dia anterior'))\n",
    "    \n",
    "    if stock_price == 'None':\n",
    "        return get_bdrs_price(paper)\n",
    "    else: \n",
    "        stock_price = stock_price.split('>')[1].split('<')[0]\n",
    "        var = var.split('\\n')[4].split('>')[1].split('<')[0]\n",
    "        \n",
    "        if not var.startswith('-'):\n",
    "            var = '+' + var\n",
    "            \n",
    "        return stock_price, var\n",
    "    "
   ]
  },
  {
   "cell_type": "code",
   "execution_count": 6,
   "metadata": {},
   "outputs": [],
   "source": [
    "def get_stock_price(paper):\n",
    "    response = 'https://statusinvest.com.br/acoes/' + paper\n",
    "    result = requests.get(response)\n",
    "    soup = BeautifulSoup(result.content, 'html.parser')\n",
    "    stock_price = str(soup.find(class_='value'))\n",
    "    var = str(soup.find(title='Variação do valor do ativo com base no dia anterior'))\n",
    "    \n",
    "    if stock_price == 'None':\n",
    "        return get_fiis_price(paper)\n",
    "    else: \n",
    "        \n",
    "        stock_price = stock_price.split('>')[1].split('<')[0]\n",
    "        var = var.split('\\n')[4].split('>')[1].split('<')[0]\n",
    "        \n",
    "        if not var.startswith('-'):\n",
    "            var = '+' + var\n",
    "            \n",
    "        return stock_price, var\n",
    "    \n",
    "    \n",
    "    \n",
    "    "
   ]
  },
  {
   "cell_type": "code",
   "execution_count": null,
   "metadata": {},
   "outputs": [],
   "source": [
    "def stock(update, context):\n",
    "    paper = \" \".join(context.args)\n",
    "    value = get_stock_price(paper.lower())\n",
    "    update.message.reply_text(paper.upper() + \": R$\" + value[0] + '\\n \\n Variação do dia: ' + value[1])"
   ]
  },
  {
   "cell_type": "code",
   "execution_count": null,
   "metadata": {},
   "outputs": [],
   "source": [
    "def euro(update, context):\n",
    "    eur = \"Cotação do Euro Hoje: R$ \" + str(get_coin_bid('EUR-BRL')).replace('.',',')\n",
    "    context.bot.send_message(chat_id=update.effective_chat.id, text=eur)"
   ]
  },
  {
   "cell_type": "code",
   "execution_count": null,
   "metadata": {},
   "outputs": [],
   "source": [
    "def vilzyn(update, context):\n",
    "    dol = \"Cotação do Dolar Hoje: R$ \" + str(get_coin_bid('USD-BRL')).replace('.',',')\n",
    "    context.bot.send_message(chat_id=update.effective_chat.id, text=dol)"
   ]
  },
  {
   "cell_type": "code",
   "execution_count": null,
   "metadata": {},
   "outputs": [],
   "source": [
    "def dolar(update, context):\n",
    "    dol = \"Cotação do Dolar Hoje: R$ \" + str(get_coin_bid('USD-BRL')).replace('.',',')\n",
    "    context.bot.send_message(chat_id=update.effective_chat.id, text=dol)"
   ]
  },
  {
   "cell_type": "code",
   "execution_count": null,
   "metadata": {},
   "outputs": [],
   "source": [
    "def chart(update, context):\n",
    "    paper = \" \".join(context.args)\n",
    "    get_stock_chart(paper)\n",
    "    context.bot.sendPhoto(chat_id=update.effective_chat.id, photo=open('paper' + '.png', 'rb'))\n",
    "    os.remove(paper + '.png')"
   ]
  },
  {
   "cell_type": "code",
   "execution_count": null,
   "metadata": {},
   "outputs": [],
   "source": [
    "def hey(update, context):\n",
    "    image = \"https://encrypted-tbn0.gstatic.com/images?q=tbn:ANd9GcRowHhdTB04EQSOcRuRTqLHvk96K4lS3UupYg&usqp=CAU\"\n",
    "    context.bot.sendPhoto(chat_id=update.effective_chat.id, photo = image, caption = 'Eai Kamako')"
   ]
  },
  {
   "cell_type": "code",
   "execution_count": null,
   "metadata": {},
   "outputs": [],
   "source": []
  },
  {
   "cell_type": "code",
   "execution_count": null,
   "metadata": {},
   "outputs": [],
   "source": [
    "def get_stock_chart(paper):\n",
    "    data = yf.download(\n",
    "    tickers=paper + '.SA', \n",
    "    period=\"3mo\",\n",
    "    interval=\"1d\")\n",
    "    # Plot the close prices\n",
    "\n",
    "    data = data.reset_index()\n",
    "    data = data.rename(columns={data.columns[0]:'Date'})\n",
    "    \n",
    "    fig = go.Figure(data=[go.Candlestick(x=data['Date'],\n",
    "                open=data['Open'],\n",
    "                high=data['High'],\n",
    "                low=data['Low'],\n",
    "                close=data['Close'])])\n",
    "    fig.update_layout(xaxis_rangeslider_visible=False)\n",
    "    fig.write_image(paper + '.png')\n",
    "    "
   ]
  },
  {
   "cell_type": "code",
   "execution_count": null,
   "metadata": {},
   "outputs": [],
   "source": [
    "dispatcher.add_handler(CommandHandler(\"hey\", hey))\n",
    "dispatcher.add_handler(CommandHandler('dolar', dolar))\n",
    "dispatcher.add_handler(CommandHandler('euro', euro))\n",
    "dispatcher.add_handler(CommandHandler('vilzyn', vilzyn))\n",
    "\n",
    "dispatcher.add_handler(CommandHandler(\"stock\", stock))\n",
    "dispatcher.add_handler(CommandHandler(\"chart\", chart))"
   ]
  },
  {
   "cell_type": "code",
   "execution_count": null,
   "metadata": {},
   "outputs": [],
   "source": [
    "updater.start_polling()"
   ]
  },
  {
   "cell_type": "code",
   "execution_count": null,
   "metadata": {},
   "outputs": [],
   "source": []
  },
  {
   "cell_type": "code",
   "execution_count": null,
   "metadata": {},
   "outputs": [],
   "source": []
  }
 ],
 "metadata": {
  "interpreter": {
   "hash": "24f9485ab1d10e886103e96fbf8e52828e6fad9414abcc972a2f188dea3be222"
  },
  "kernelspec": {
   "display_name": "Python 3",
   "language": "python",
   "name": "python3"
  },
  "language_info": {
   "codemirror_mode": {
    "name": "ipython",
    "version": 3
   },
   "file_extension": ".py",
   "mimetype": "text/x-python",
   "name": "python",
   "nbconvert_exporter": "python",
   "pygments_lexer": "ipython3",
   "version": "3.8.5"
  },
  "metadata": {
   "interpreter": {
    "hash": "24f9485ab1d10e886103e96fbf8e52828e6fad9414abcc972a2f188dea3be222"
   }
  }
 },
 "nbformat": 4,
 "nbformat_minor": 4
}
