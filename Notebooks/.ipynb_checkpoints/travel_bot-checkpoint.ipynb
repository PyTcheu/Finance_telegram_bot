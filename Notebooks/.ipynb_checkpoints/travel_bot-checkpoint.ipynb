{
 "cells": [
  {
   "cell_type": "code",
   "execution_count": 1,
   "metadata": {},
   "outputs": [],
   "source": [
    "import telegram\n",
    "import requests\n",
    "import pandas as pd # Para evitar escrever pandas e trocar pela escrita apenas de pd para facilitar\n",
    "import plotly.graph_objects as go\n",
    "import matplotlib.pyplot as plt\n",
    "import yfinance as yf \n",
    "import os\n",
    "import matplotlib.pyplot as plt\n",
    "import plotly.graph_objects as go\n",
    "import stockstats\n",
    "import random \n",
    "\n",
    "from bs4 import BeautifulSoup\n",
    "from telegram.ext import Updater, CommandHandler, MessageHandler, Filters\n",
    "from pandas_datareader import data as web # Evita a escrita do data e troca pelo web\n",
    "from datetime import datetime\n",
    "from stockstats import StockDataFrame\n",
    "from plotly.subplots import make_subplots"
   ]
  },
  {
   "cell_type": "code",
   "execution_count": 2,
   "metadata": {},
   "outputs": [],
   "source": [
    "token = '1796099831:AAELnNVjGV1dVwYGpk4ZG08jZciUbvgp4UM'\n",
    "    \n",
    "bot = telegram.Bot(token) #Replace TOKEN with your token string\n",
    "updater = Updater(token=token, use_context=True) #Replace TOKEN with your token string\n",
    "\n",
    "dispatcher = updater.dispatcher"
   ]
  },
  {
   "cell_type": "code",
   "execution_count": 3,
   "metadata": {},
   "outputs": [],
   "source": [
    "def get_coin_bid(coin):\n",
    "    response = requests.get('https://economia.awesomeapi.com.br/json/last/'+ coin)\n",
    "    result = response.json()\n",
    "    c = coin.replace('-','')\n",
    "    return result[c]['bid']"
   ]
  },
  {
   "cell_type": "code",
   "execution_count": 4,
   "metadata": {},
   "outputs": [],
   "source": [
    "def get_bdrs_price(paper):\n",
    "    response = 'https://statusinvest.com.br/bdrs/' + paper\n",
    "    result = requests.get(response)\n",
    "    soup = BeautifulSoup(result.content, 'html.parser')\n",
    "    stock_price = str(soup.find(class_='value')).split('>')[1].split('<')[0]\n",
    "    var = str(soup.find(title='Variação do valor do ativo com base no dia anterior'))\n",
    "    \n",
    "    var = var.split('\\n')[4].split('>')[1].split('<')[0]\n",
    "        \n",
    "    if not var.startswith('-'):\n",
    "        var = '+' + var\n",
    "            \n",
    "    return stock_price, var"
   ]
  },
  {
   "cell_type": "code",
   "execution_count": 5,
   "metadata": {},
   "outputs": [],
   "source": [
    "def get_fiis_price(paper):\n",
    "    response = 'https://www.fundsexplorer.com.br/funds/' + paper\n",
    "    result = requests.get(response)\n",
    "    soup = BeautifulSoup(result.content, 'html.parser')\n",
    "    \n",
    "    stock_price = str(soup.find(class_='price'))\n",
    "    var = str(soup.find(class_='percentage positive'))\n",
    "    div_yield = str(soup.find_all(class_='indicator-value')[2])\n",
    "    \n",
    "    \n",
    "    if stock_price == 'None':\n",
    "        return get_bdrs_price(paper)\n",
    "            \n",
    "    else: \n",
    "        stock_price = float(stock_price.split('\\n')[1].split('$')[1].strip().replace(',','.'))\n",
    "        var = ''\n",
    "        div_yield = float(div_yield.split('\\n')[1].strip().replace('%','').replace(',','.'))/100\n",
    "        \n",
    "            \n",
    "        return stock_price, var, div_yield"
   ]
  },
  {
   "cell_type": "code",
   "execution_count": 6,
   "metadata": {},
   "outputs": [],
   "source": [
    "def get_stock_price(paper):\n",
    "    response = 'https://statusinvest.com.br/acoes/' + paper\n",
    "    result = requests.get(response)\n",
    "    soup = BeautifulSoup(result.content, 'html.parser')\n",
    "    stock_price = str(soup.find(class_='value'))\n",
    "    var = str(soup.find(title='Variação do valor do ativo com base no dia anterior'))\n",
    "    \n",
    "    if stock_price == 'None':\n",
    "        return get_fiis_price(paper)\n",
    "    else: \n",
    "        \n",
    "        stock_price = float(stock_price.split('>')[1].split('<')[0].replace(',','.'))\n",
    "        var = var.split('\\n')[4].split('>')[1].split('<')[0]\n",
    "        \n",
    "        if not var.startswith('-'):\n",
    "            var = '+' + var\n",
    "            \n",
    "        return stock_price, var\n",
    "    \n",
    "    \n",
    "    \n",
    "    "
   ]
  },
  {
   "cell_type": "code",
   "execution_count": 7,
   "metadata": {},
   "outputs": [],
   "source": [
    "def stock(update, context):\n",
    "    paper = \" \".join(context.args)\n",
    "    value = get_stock_price(paper.lower())\n",
    "    update.message.reply_text(paper.upper() + \": R$\" + value[0] + '\\n \\n Variação do dia: ' + value[1])"
   ]
  },
  {
   "cell_type": "code",
   "execution_count": 8,
   "metadata": {},
   "outputs": [],
   "source": [
    "def euro(update, context):\n",
    "    eur = \"Cotação do Euro Hoje: R$ \" + str(get_coin_bid('EUR-BRL')).replace('.',',')\n",
    "    context.bot.send_message(chat_id=update.effective_chat.id, text=eur)"
   ]
  },
  {
   "cell_type": "code",
   "execution_count": 9,
   "metadata": {},
   "outputs": [],
   "source": [
    "def vilzyn(update, context):\n",
    "    dol = \"Cotação do Dolar Hoje: R$ \" + str(get_coin_bid('USD-BRL')).replace('.',',')\n",
    "    context.bot.send_message(chat_id=update.effective_chat.id, text=dol)"
   ]
  },
  {
   "cell_type": "code",
   "execution_count": 10,
   "metadata": {},
   "outputs": [],
   "source": [
    "def dolar(update, context):\n",
    "    dol = \"Cotação do Dolar Hoje: R$ \" + str(get_coin_bid('USD-BRL')).replace('.',',')\n",
    "    context.bot.send_message(chat_id=update.effective_chat.id, text=dol)"
   ]
  },
  {
   "cell_type": "code",
   "execution_count": 11,
   "metadata": {},
   "outputs": [],
   "source": [
    "def chart(update, context):\n",
    "    paper = \" \".join(context.args)\n",
    "    get_stock_chart(paper)\n",
    "    context.bot.sendPhoto(chat_id=update.effective_chat.id, photo=open(paper + '.png', 'rb'))\n",
    "    os.remove(paper + '.png')"
   ]
  },
  {
   "cell_type": "code",
   "execution_count": 12,
   "metadata": {},
   "outputs": [],
   "source": [
    "def hey(update, context):\n",
    "    photo = ['https://encrypted-tbn0.gstatic.com/images?q=tbn:ANd9GcRowHhdTB04EQSOcRuRTqLHvk96K4lS3UupYg&usqp=CAU', 'https://img.freepik.com/fotos-gratis/o-orangotango-jovem-sorriu-e-agiu-como_60359-323.jpg?size=626&ext=jpg', 'https://i.pinimg.com/originals/73/58/70/7358702b2780ce3933cf474c15035dde.jpg'] \n",
    " \n",
    "    caption = ['Eai Kamako', 'Aoba', 'Salve Kamakada'] \n",
    "     \n",
    "    context.bot.sendPhoto(chat_id=update.effective_chat.id, photo = random.choice(photo), caption = random.choice(caption))"
   ]
  },
  {
   "cell_type": "code",
   "execution_count": 13,
   "metadata": {},
   "outputs": [],
   "source": [
    "def simulate_fii(update, context):\n",
    "    parameters = \" \".join(context.args).split(' ')\n",
    "    fii = fii_calculation(parameters[0], parameters[1], parameters[2], parameters[3])\n",
    "    \n",
    "    msg = \"Investindo no Fundo {} com um valor inicial de R${}, \" \\\n",
    "          \"aportando com {} cotas ao mês, sob uma rentabilidade de {}% ao mês \" \\\n",
    "          \"durante {} meses, você terá R$ {} no fim do prazo e recebendo \" \\\n",
    "          \"R$ {} por mês!\".format(\n",
    "        parameters[0], parameters[1], parameters[3], fii[4], parameters[2], fii[2], fii[3])\n",
    "    \n",
    "    context.bot.send_message(chat_id=update.effective_chat.id, text=msg)"
   ]
  },
  {
   "cell_type": "code",
   "execution_count": 14,
   "metadata": {},
   "outputs": [],
   "source": [
    "def help(update, context):\n",
    "    text = \"Olá Kamako, precisando de uma ajuda? Segue lista de comandos e parâmetros: \\n\\n\" \\\n",
    "           \"/dolar ou /vilzyn - Cotação atual do dólar \\n\" \\\n",
    "           \"/euro - Cotação atual do Euro \\n\" \\\n",
    "           \"/stock <ação> - Retorna o valor da ação e sua variação no dia \\n \" \\\n",
    "           \"/chart <ação> - Retorna o gráfico da performance da ação e seu RSI \\n \" \\\n",
    "           \"/simulate_fii <fii> <valor inicial> <meses> <aporte em cotas> - Realiza uma simulação de FIIs a longo prazo com determinado aporte em quantidade de cotas \\n\"\n",
    "    context.bot.send_message(chat_id=update.effective_chat.id, text=text)"
   ]
  },
  {
   "cell_type": "code",
   "execution_count": 15,
   "metadata": {},
   "outputs": [],
   "source": [
    "def fii_calculation(paper, valor_inicial, tempo_mes, aporte):\n",
    "    valor_cota = int(get_fiis_price(paper.lower())[0])\n",
    "    taxa = float(get_fiis_price(paper.lower())[2])\n",
    "    acumulado = 0\n",
    "    total = float(valor_inicial)\n",
    "    aporte = int(aporte)\n",
    "    for i in range (int(tempo_mes)):\n",
    "        acumulado += total * taxa\n",
    "        total += aporte * valor_cota\n",
    "        if acumulado >= valor_cota:\n",
    "            total += (acumulado//valor_cota) * valor_cota\n",
    "            acumulado = acumulado - ((acumulado//valor_cota) * valor_cota)\n",
    "    total_bruto = total + acumulado\n",
    "    return round(total,2), round(acumulado,2), round(total_bruto,2), round(total*taxa,2), taxa*100"
   ]
  },
  {
   "cell_type": "code",
   "execution_count": null,
   "metadata": {},
   "outputs": [],
   "source": []
  },
  {
   "cell_type": "code",
   "execution_count": 16,
   "metadata": {},
   "outputs": [],
   "source": [
    "def get_stock_chart(paper):\n",
    "        data = yf.download(\n",
    "    tickers=paper + '.SA', \n",
    "    period=\"1wk\",\n",
    "    interval=\"15m\")\n",
    "    # Plot the close prices\n",
    "    \n",
    "    data_rsi = yf.download(\n",
    "    tickers=paper + '.SA', \n",
    "    period=\"2mo\",\n",
    "    interval=\"1d\")\n",
    "    \n",
    "    \n",
    "    rsi = calculate_RSI(data_rsi)\n",
    "    \n",
    "    data = data.reset_index()\n",
    "    data = data.rename(columns={data.columns[0]:'Date'})\n",
    "    \n",
    "    fig = make_subplots(rows=2, cols=1, row_heights=[0.6, 0.4], subplot_titles=(\"Variação\", \"RSI\"))\n",
    "\n",
    "    fig.add_trace(\n",
    "        go.Candlestick(x=data['Date'],\n",
    "            open=data['Open'],\n",
    "            high=data['High'],\n",
    "            low=data['Low'],\n",
    "            close=data['Close'],\n",
    "            name='Variation'),\n",
    "            row=1, col=1)\n",
    "    \n",
    "    fig.add_trace(\n",
    "        go.Scatter(x=rsi['Date'], y=rsi['RSI'], name='RSI'),\n",
    "            row=2, col=1)\n",
    "    \n",
    "    fig.update_coloraxes(colorbar_tickfont_color='gray')\n",
    "    \n",
    "    fig.update_layout(xaxis_rangeslider_visible=False)\n",
    "    fig.update_layout(paper_bgcolor='#000326')\n",
    "    fig.update_layout(font_color='white')\n",
    "    fig.update_layout(plot_bgcolor='#000326')\n",
    "    \n",
    "    fig.update_xaxes(rangebreaks=[\n",
    "            # NOTE: Below values are bound (not single values), ie. hide x to y\n",
    "            dict(bounds=[\"sat\", \"mon\"]),  # hide weekends, eg. hide sat to before mon\n",
    "            dict(bounds=[16, 9.5], pattern=\"hour\"),  # hide hours outside of 9.30am-4pm\n",
    "            #dict(values=[\"2020-12-25\", \"2021-01-01\"])  # hide holidays (Christmas and New Year's, etc)\n",
    "            ], row=1, col=1)\n",
    "    \n",
    "    fig.update_yaxes(range=[0,100], row=2, col=1)\n",
    "    fig.update_yaxes(tickmode = 'array',tickvals = [0, 30, 70, 100], row=2, col=1)\n",
    "        \n",
    "    fig.write_image(paper + '.png')"
   ]
  },
  {
   "cell_type": "code",
   "execution_count": 17,
   "metadata": {},
   "outputs": [],
   "source": [
    "def calculate_RSI(data_rsi, n=14):\n",
    "    delta = data_rsi['Adj Close'].diff()\n",
    "    up = delta.clip(lower=0)\n",
    "    down = -1*delta.clip(upper=0)\n",
    "    ema_up = up.ewm(com=n-1, adjust=False).mean()\n",
    "    ema_down = down.ewm(com=n-1, adjust=False).mean()\n",
    "    rs = ema_up/ema_down\n",
    "    data_rsi['RSI'] = 100 - (100/(1 + rs))\n",
    "    data_rsi = data_rsi.iloc[14:]\n",
    "    data_rsi = data_rsi.reset_index()\n",
    "    return data_rsi\n",
    "    "
   ]
  },
  {
   "cell_type": "code",
   "execution_count": null,
   "metadata": {},
   "outputs": [],
   "source": []
  },
  {
   "cell_type": "code",
   "execution_count": null,
   "metadata": {},
   "outputs": [],
   "source": []
  },
  {
   "cell_type": "code",
   "execution_count": 18,
   "metadata": {},
   "outputs": [],
   "source": [
    "dispatcher.add_handler(CommandHandler(\"help\", help))\n",
    "\n",
    "dispatcher.add_handler(CommandHandler(\"hey\", hey))\n",
    "dispatcher.add_handler(CommandHandler('dolar', dolar))\n",
    "dispatcher.add_handler(CommandHandler('euro', euro))\n",
    "dispatcher.add_handler(CommandHandler('vilzyn', vilzyn))\n",
    "\n",
    "dispatcher.add_handler(CommandHandler(\"stock\", stock))\n",
    "dispatcher.add_handler(CommandHandler(\"chart\", chart))\n",
    "\n",
    "dispatcher.add_handler(CommandHandler(\"simulate_fii\", simulate_fii))"
   ]
  },
  {
   "cell_type": "code",
   "execution_count": 19,
   "metadata": {},
   "outputs": [
    {
     "data": {
      "text/plain": [
       "<queue.Queue at 0x1e8f2ec9af0>"
      ]
     },
     "execution_count": 19,
     "metadata": {},
     "output_type": "execute_result"
    }
   ],
   "source": [
    "updater.start_polling()"
   ]
  },
  {
   "cell_type": "code",
   "execution_count": null,
   "metadata": {},
   "outputs": [],
   "source": []
  }
 ],
 "metadata": {
  "interpreter": {
   "hash": "24f9485ab1d10e886103e96fbf8e52828e6fad9414abcc972a2f188dea3be222"
  },
  "kernelspec": {
   "display_name": "Python 3",
   "language": "python",
   "name": "python3"
  },
  "language_info": {
   "codemirror_mode": {
    "name": "ipython",
    "version": 3
   },
   "file_extension": ".py",
   "mimetype": "text/x-python",
   "name": "python",
   "nbconvert_exporter": "python",
   "pygments_lexer": "ipython3",
   "version": "3.8.5"
  },
  "metadata": {
   "interpreter": {
    "hash": "24f9485ab1d10e886103e96fbf8e52828e6fad9414abcc972a2f188dea3be222"
   }
  }
 },
 "nbformat": 4,
 "nbformat_minor": 4
}
