{
 "cells": [
  {
   "cell_type": "code",
   "execution_count": 1,
   "metadata": {},
   "outputs": [],
   "source": [
    "import telegram\n",
    "import requests\n",
    "import telegram_send\n",
    "\n",
    "import schedule\n",
    "import time\n",
    "import os\n",
    "import matplotlib.pyplot as plt\n",
    "\n",
    "from bs4 import BeautifulSoup\n",
    "from telegram.ext import Updater, CommandHandler, MessageHandler, Filters\n",
    "#from bob_telegram_tools.bot import TelegramBot\n"
   ]
  },
  {
   "cell_type": "code",
   "execution_count": 2,
   "metadata": {},
   "outputs": [],
   "source": [
    "token = '1796099831:AAGteQJXlcNd2dLSSq0kbbqa0QoV0B_xtTU'\n",
    "    \n",
    "bot = telegram.Bot(token) #Replace TOKEN with your token string\n",
    "updater = Updater(token=token, use_context=True) #Replace TOKEN with your token string\n",
    "\n",
    "dispatcher = updater.dispatcher"
   ]
  },
  {
   "cell_type": "code",
   "execution_count": 3,
   "metadata": {},
   "outputs": [],
   "source": [
    "def get_coin_bid(coin):\n",
    "    response = requests.get('https://economia.awesomeapi.com.br/json/last/'+ coin)\n",
    "    result = response.json()\n",
    "    c = coin.replace('-','')\n",
    "    return result[c]['bid']"
   ]
  },
  {
   "cell_type": "code",
   "execution_count": 4,
   "metadata": {},
   "outputs": [],
   "source": [
    "def get_bdrs_price(paper):\n",
    "    response = 'https://statusinvest.com.br/bdrs/' + paper\n",
    "    result = requests.get(response)\n",
    "    soup = BeautifulSoup(result.content, 'html.parser')\n",
    "    stock_price = str(soup.find(class_='value')).split('>')[1].split('<')[0]\n",
    "    var = str(soup.find(title='Variação do valor do ativo com base no dia anterior'))\n",
    "    \n",
    "    var = var.split('\\n')[4].split('>')[1].split('<')[0]\n",
    "        \n",
    "    if not var.startswith('-'):\n",
    "        var = '+' + var\n",
    "            \n",
    "    return stock_price, var"
   ]
  },
  {
   "cell_type": "code",
   "execution_count": 5,
   "metadata": {},
   "outputs": [],
   "source": [
    "def get_fiis_price(paper):\n",
    "    response = 'https://statusinvest.com.br/fundos-imobiliarios/' + paper\n",
    "    result = requests.get(response)\n",
    "    soup = BeautifulSoup(result.content, 'html.parser')\n",
    "    stock_price = str(soup.find(class_='value'))\n",
    "    var = str(soup.find(title='Variação do valor do ativo com base no dia anterior'))\n",
    "    \n",
    "    if stock_price == 'None':\n",
    "        return get_bdrs_price(paper)\n",
    "    else: \n",
    "        stock_price = stock_price.split('>')[1].split('<')[0]\n",
    "        var = var.split('\\n')[4].split('>')[1].split('<')[0]\n",
    "        \n",
    "        if not var.startswith('-'):\n",
    "            var = '+' + var\n",
    "            \n",
    "        return stock_price, var\n",
    "    "
   ]
  },
  {
   "cell_type": "code",
   "execution_count": 6,
   "metadata": {},
   "outputs": [],
   "source": [
    "def get_stock_price(paper):\n",
    "    response = 'https://statusinvest.com.br/acoes/' + paper\n",
    "    result = requests.get(response)\n",
    "    soup = BeautifulSoup(result.content, 'html.parser')\n",
    "    stock_price = str(soup.find(class_='value'))\n",
    "    var = str(soup.find(title='Variação do valor do ativo com base no dia anterior'))\n",
    "    \n",
    "    if stock_price == 'None':\n",
    "        return get_fiis_price(paper)\n",
    "    else: \n",
    "        \n",
    "        stock_price = stock_price.split('>')[1].split('<')[0]\n",
    "        var = var.split('\\n')[4].split('>')[1].split('<')[0]\n",
    "        \n",
    "        if not var.startswith('-'):\n",
    "            var = '+' + var\n",
    "            \n",
    "        return stock_price, var\n",
    "    \n",
    "    \n",
    "    \n",
    "    "
   ]
  },
  {
   "cell_type": "code",
   "execution_count": 7,
   "metadata": {},
   "outputs": [],
   "source": [
    "def stock(update, context):\n",
    "    paper = \" \".join(context.args)\n",
    "    value = get_stock_price(paper.lower())\n",
    "    update.message.reply_text(paper.upper() + \": R$\" + value[0] + '\\n \\n Variação do dia: ' + value[1])"
   ]
  },
  {
   "cell_type": "code",
   "execution_count": 8,
   "metadata": {},
   "outputs": [],
   "source": [
    "def euro(update, context):\n",
    "    eur = \"Cotação do Euro Hoje: R$ \" + str(get_coin_bid('EUR-BRL')).replace('.',',')\n",
    "    context.bot.send_message(chat_id=update.effective_chat.id, text=eur)"
   ]
  },
  {
   "cell_type": "code",
   "execution_count": 9,
   "metadata": {},
   "outputs": [],
   "source": [
    "def vilzyn(update, context):\n",
    "    dol = \"Cotação do Dolar Hoje: R$ \" + str(get_coin_bid('USD-BRL')).replace('.',',')\n",
    "    context.bot.send_message(chat_id=update.effective_chat.id, text=dol)"
   ]
  },
  {
   "cell_type": "code",
   "execution_count": 10,
   "metadata": {},
   "outputs": [],
   "source": [
    "def dolar(update, context):\n",
    "    dol = \"Cotação do Dolar Hoje: R$ \" + str(get_coin_bid('USD-BRL')).replace('.',',')\n",
    "    context.bot.send_message(chat_id=update.effective_chat.id, text=dol)"
   ]
  },
  {
   "cell_type": "code",
   "execution_count": 11,
   "metadata": {},
   "outputs": [],
   "source": [
    "def hello(update, context):\n",
    "    context.bot.send_message(chat_id=update.effective_chat.id, text='Eai Kamako')"
   ]
  },
  {
   "cell_type": "code",
   "execution_count": 12,
   "metadata": {},
   "outputs": [],
   "source": [
    "def chart(update, context):\n",
    "    plt.plot()\n",
    "    plt.savefig('plt_temp.png', dpi = 300)\n",
    "    context.bot.sendPhoto(chat_id=update.effective_chat.id, photo=open('plt_temp.png', 'rb'))"
   ]
  },
  {
   "cell_type": "code",
   "execution_count": 13,
   "metadata": {},
   "outputs": [],
   "source": [
    "dispatcher.add_handler(CommandHandler('hello', hello))\n",
    "dispatcher.add_handler(CommandHandler('dolar', dolar))\n",
    "dispatcher.add_handler(CommandHandler('euro', euro))\n",
    "dispatcher.add_handler(CommandHandler('vilzyn', vilzyn))\n",
    "\n",
    "dispatcher.add_handler(CommandHandler(\"stock\", stock))\n",
    "dispatcher.add_handler(CommandHandler(\"chart\", chart))\n"
   ]
  },
  {
   "cell_type": "code",
   "execution_count": 14,
   "metadata": {},
   "outputs": [
    {
     "data": {
      "text/plain": [
       "<queue.Queue at 0x1cff5c1e0d0>"
      ]
     },
     "execution_count": 14,
     "metadata": {},
     "output_type": "execute_result"
    }
   ],
   "source": [
    "updater.start_polling()"
   ]
  },
  {
   "cell_type": "code",
   "execution_count": null,
   "metadata": {},
   "outputs": [],
   "source": []
  },
  {
   "cell_type": "code",
   "execution_count": null,
   "metadata": {},
   "outputs": [],
   "source": []
  },
  {
   "cell_type": "code",
   "execution_count": null,
   "metadata": {},
   "outputs": [],
   "source": []
  }
 ],
 "metadata": {
  "kernelspec": {
   "display_name": "Python 3",
   "language": "python",
   "name": "python3"
  },
  "language_info": {
   "codemirror_mode": {
    "name": "ipython",
    "version": 3
   },
   "file_extension": ".py",
   "mimetype": "text/x-python",
   "name": "python",
   "nbconvert_exporter": "python",
   "pygments_lexer": "ipython3",
   "version": "3.8.5"
  }
 },
 "nbformat": 4,
 "nbformat_minor": 4
}
