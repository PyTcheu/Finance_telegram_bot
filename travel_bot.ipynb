{
 "cells": [
  {
   "cell_type": "code",
   "execution_count": 14,
   "metadata": {},
   "outputs": [],
   "source": [
    "import telegram\n",
    "import requests\n",
    "import telegram_send\n",
    "\n",
    "import schedule\n",
    "import time\n",
    "import os\n",
    "import matplotlib.pyplot as plt\n",
    "import plotly.graph_objects as go\n",
    "\n",
    "from bs4 import BeautifulSoup\n",
    "from telegram.ext import Updater, CommandHandler, MessageHandler, Filters\n",
    "#from bob_telegram_tools.bot import TelegramBot\n"
   ]
  },
  {
   "cell_type": "code",
   "execution_count": 15,
   "metadata": {},
   "outputs": [],
   "source": [
    "token = '1796099831:AAGteQJXlcNd2dLSSq0kbbqa0QoV0B_xtTU'\n",
    "    \n",
    "bot = telegram.Bot(token) #Replace TOKEN with your token string\n",
    "updater = Updater(token=token, use_context=True) #Replace TOKEN with your token string\n",
    "\n",
    "dispatcher = updater.dispatcher"
   ]
  },
  {
   "cell_type": "code",
   "execution_count": 16,
   "metadata": {},
   "outputs": [],
   "source": [
    "def get_coin_bid(coin):\n",
    "    response = requests.get('https://economia.awesomeapi.com.br/json/last/'+ coin)\n",
    "    result = response.json()\n",
    "    c = coin.replace('-','')\n",
    "    return result[c]['bid']"
   ]
  },
  {
   "cell_type": "code",
   "execution_count": 17,
   "metadata": {},
   "outputs": [],
   "source": [
    "def get_bdrs_price(paper):\n",
    "    response = 'https://statusinvest.com.br/bdrs/' + paper\n",
    "    result = requests.get(response)\n",
    "    soup = BeautifulSoup(result.content, 'html.parser')\n",
    "    stock_price = str(soup.find(class_='value')).split('>')[1].split('<')[0]\n",
    "    var = str(soup.find(title='Variação do valor do ativo com base no dia anterior'))\n",
    "    \n",
    "    var = var.split('\\n')[4].split('>')[1].split('<')[0]\n",
    "        \n",
    "    if not var.startswith('-'):\n",
    "        var = '+' + var\n",
    "            \n",
    "    return stock_price, var"
   ]
  },
  {
   "cell_type": "code",
   "execution_count": 18,
   "metadata": {},
   "outputs": [],
   "source": [
    "def get_fiis_price(paper):\n",
    "    response = 'https://statusinvest.com.br/fundos-imobiliarios/' + paper\n",
    "    result = requests.get(response)\n",
    "    soup = BeautifulSoup(result.content, 'html.parser')\n",
    "    stock_price = str(soup.find(class_='value'))\n",
    "    var = str(soup.find(title='Variação do valor do ativo com base no dia anterior'))\n",
    "    \n",
    "    if stock_price == 'None':\n",
    "        return get_bdrs_price(paper)\n",
    "    else: \n",
    "        stock_price = stock_price.split('>')[1].split('<')[0]\n",
    "        var = var.split('\\n')[4].split('>')[1].split('<')[0]\n",
    "        \n",
    "        if not var.startswith('-'):\n",
    "            var = '+' + var\n",
    "            \n",
    "        return stock_price, var\n",
    "    "
   ]
  },
  {
   "cell_type": "code",
   "execution_count": 19,
   "metadata": {},
   "outputs": [],
   "source": [
    "def get_stock_price(paper):\n",
    "    response = 'https://statusinvest.com.br/acoes/' + paper\n",
    "    result = requests.get(response)\n",
    "    soup = BeautifulSoup(result.content, 'html.parser')\n",
    "    stock_price = str(soup.find(class_='value'))\n",
    "    var = str(soup.find(title='Variação do valor do ativo com base no dia anterior'))\n",
    "    \n",
    "    if stock_price == 'None':\n",
    "        return get_fiis_price(paper)\n",
    "    else: \n",
    "        \n",
    "        stock_price = stock_price.split('>')[1].split('<')[0]\n",
    "        var = var.split('\\n')[4].split('>')[1].split('<')[0]\n",
    "        \n",
    "        if not var.startswith('-'):\n",
    "            var = '+' + var\n",
    "            \n",
    "        return stock_price, var\n",
    "    \n",
    "    \n",
    "    \n",
    "    "
   ]
  },
  {
   "cell_type": "code",
   "execution_count": 20,
   "metadata": {},
   "outputs": [],
   "source": [
    "def stock(update, context):\n",
    "    paper = \" \".join(context.args)\n",
    "    value = get_stock_price(paper.lower())\n",
    "    update.message.reply_text(paper.upper() + \": R$\" + value[0] + '\\n \\n Variação do dia: ' + value[1])"
   ]
  },
  {
   "cell_type": "code",
   "execution_count": 21,
   "metadata": {},
   "outputs": [],
   "source": [
    "def euro(update, context):\n",
    "    eur = \"Cotação do Euro Hoje: R$ \" + str(get_coin_bid('EUR-BRL')).replace('.',',')\n",
    "    context.bot.send_message(chat_id=update.effective_chat.id, text=eur)"
   ]
  },
  {
   "cell_type": "code",
   "execution_count": 22,
   "metadata": {},
   "outputs": [],
   "source": [
    "def vilzyn(update, context):\n",
    "    dol = \"Cotação do Dolar Hoje: R$ \" + str(get_coin_bid('USD-BRL')).replace('.',',')\n",
    "    context.bot.send_message(chat_id=update.effective_chat.id, text=dol)"
   ]
  },
  {
   "cell_type": "code",
   "execution_count": 23,
   "metadata": {},
   "outputs": [],
   "source": [
    "def dolar(update, context):\n",
    "    dol = \"Cotação do Dolar Hoje: R$ \" + str(get_coin_bid('USD-BRL')).replace('.',',')\n",
    "    context.bot.send_message(chat_id=update.effective_chat.id, text=dol)"
   ]
  },
  {
   "cell_type": "code",
   "execution_count": 24,
   "metadata": {},
   "outputs": [],
   "source": [
    "def hello(update, context):\n",
    "    context.bot.send_message(chat_id=update.effective_chat.id, text='Eai Kamako')"
   ]
  },
  {
   "cell_type": "code",
   "execution_count": 25,
   "metadata": {},
   "outputs": [],
   "source": [
    "def chart(update, context):\n",
    "    paper = \" \".join(context.args)\n",
    "    get_stock_chart(paper)\n",
    "    context.bot.sendPhoto(chat_id=update.effective_chat.id, photo=open('paper' + '.png', 'rb'))\n",
    "    os.remove(paper + '.png')"
   ]
  },
  {
   "cell_type": "code",
   "execution_count": 26,
   "metadata": {},
   "outputs": [
    {
     "output_type": "error",
     "ename": "SyntaxError",
     "evalue": "positional argument follows keyword argument (<ipython-input-26-3ce821243718>, line 3)",
     "traceback": [
      "\u001b[1;36m  File \u001b[1;32m\"<ipython-input-26-3ce821243718>\"\u001b[1;36m, line \u001b[1;32m3\u001b[0m\n\u001b[1;33m    context.bot.sendPhoto(chat_id=update.effective_chat.id, image, caption = 'Eai Kamako')\u001b[0m\n\u001b[1;37m                                                                                         ^\u001b[0m\n\u001b[1;31mSyntaxError\u001b[0m\u001b[1;31m:\u001b[0m positional argument follows keyword argument\n"
     ]
    }
   ],
   "source": [
    "def hey(update, context):\n",
    "    image = \"https://encrypted-tbn0.gstatic.com/images?q=tbn:ANd9GcRowHhdTB04EQSOcRuRTqLHvk96K4lS3UupYg&usqp=CAU\"\n",
    "    context.bot.sendPhoto(chat_id=update.effective_chat.id, photo = image, caption = 'Eai Kamako')"
   ]
  },
  {
   "cell_type": "code",
   "execution_count": null,
   "metadata": {},
   "outputs": [],
   "source": []
  },
  {
   "cell_type": "code",
   "execution_count": 13,
   "metadata": {},
   "outputs": [],
   "source": [
    "import pandas as pd # Para evitar escrever pandas e trocar pela escrita apenas de pd para facilitar\n",
    "import plotly.graph_objects as go\n",
    "import matplotlib.pyplot as plt\n",
    "import yfinance as yf \n",
    "\n",
    "from pandas_datareader import data as web # Evita a escrita do data e troca pelo web\n",
    "from datetime import datetime"
   ]
  },
  {
   "cell_type": "code",
   "execution_count": 14,
   "metadata": {},
   "outputs": [],
   "source": [
    "def get_stock_chart(paper):\n",
    "    paper_data = yf.download(\n",
    "    tickers=paper + '.SA', \n",
    "    period=\"1d\",\n",
    "    interval=\"1m\")\n",
    "    \n",
    "    plt.plot(paper_data['Close'])\n",
    "    plt.savefig(paper + '.png')\n",
    "    plt.clf()\n",
    "    return paper_data"
   ]
  },
  {
   "cell_type": "code",
   "execution_count": 15,
   "metadata": {},
   "outputs": [
    {
     "name": "stdout",
     "output_type": "stream",
     "text": [
      "[*********************100%***********************]  1 of 1 completed\n"
     ]
    },
    {
     "data": {
      "text/html": [
       "<div>\n",
       "<style scoped>\n",
       "    .dataframe tbody tr th:only-of-type {\n",
       "        vertical-align: middle;\n",
       "    }\n",
       "\n",
       "    .dataframe tbody tr th {\n",
       "        vertical-align: top;\n",
       "    }\n",
       "\n",
       "    .dataframe thead th {\n",
       "        text-align: right;\n",
       "    }\n",
       "</style>\n",
       "<table border=\"1\" class=\"dataframe\">\n",
       "  <thead>\n",
       "    <tr style=\"text-align: right;\">\n",
       "      <th></th>\n",
       "      <th>Open</th>\n",
       "      <th>High</th>\n",
       "      <th>Low</th>\n",
       "      <th>Close</th>\n",
       "      <th>Adj Close</th>\n",
       "      <th>Volume</th>\n",
       "    </tr>\n",
       "    <tr>\n",
       "      <th>Datetime</th>\n",
       "      <th></th>\n",
       "      <th></th>\n",
       "      <th></th>\n",
       "      <th></th>\n",
       "      <th></th>\n",
       "      <th></th>\n",
       "    </tr>\n",
       "  </thead>\n",
       "  <tbody>\n",
       "    <tr>\n",
       "      <th>2021-06-16 10:08:00-03:00</th>\n",
       "      <td>29.080000</td>\n",
       "      <td>29.110001</td>\n",
       "      <td>29.049999</td>\n",
       "      <td>29.110001</td>\n",
       "      <td>29.110001</td>\n",
       "      <td>0</td>\n",
       "    </tr>\n",
       "    <tr>\n",
       "      <th>2021-06-16 10:09:00-03:00</th>\n",
       "      <td>29.110001</td>\n",
       "      <td>29.180000</td>\n",
       "      <td>29.090000</td>\n",
       "      <td>29.160000</td>\n",
       "      <td>29.160000</td>\n",
       "      <td>261300</td>\n",
       "    </tr>\n",
       "    <tr>\n",
       "      <th>2021-06-16 10:10:00-03:00</th>\n",
       "      <td>29.160000</td>\n",
       "      <td>29.160000</td>\n",
       "      <td>29.070000</td>\n",
       "      <td>29.080000</td>\n",
       "      <td>29.080000</td>\n",
       "      <td>212900</td>\n",
       "    </tr>\n",
       "    <tr>\n",
       "      <th>2021-06-16 10:11:00-03:00</th>\n",
       "      <td>29.080000</td>\n",
       "      <td>29.160000</td>\n",
       "      <td>29.070000</td>\n",
       "      <td>29.150000</td>\n",
       "      <td>29.150000</td>\n",
       "      <td>94600</td>\n",
       "    </tr>\n",
       "    <tr>\n",
       "      <th>2021-06-16 10:12:00-03:00</th>\n",
       "      <td>29.139999</td>\n",
       "      <td>29.139999</td>\n",
       "      <td>29.070000</td>\n",
       "      <td>29.080000</td>\n",
       "      <td>29.080000</td>\n",
       "      <td>140100</td>\n",
       "    </tr>\n",
       "    <tr>\n",
       "      <th>...</th>\n",
       "      <td>...</td>\n",
       "      <td>...</td>\n",
       "      <td>...</td>\n",
       "      <td>...</td>\n",
       "      <td>...</td>\n",
       "      <td>...</td>\n",
       "    </tr>\n",
       "    <tr>\n",
       "      <th>2021-06-16 16:51:00-03:00</th>\n",
       "      <td>29.209999</td>\n",
       "      <td>29.290001</td>\n",
       "      <td>29.180000</td>\n",
       "      <td>29.180000</td>\n",
       "      <td>29.180000</td>\n",
       "      <td>1188500</td>\n",
       "    </tr>\n",
       "    <tr>\n",
       "      <th>2021-06-16 16:52:00-03:00</th>\n",
       "      <td>29.190001</td>\n",
       "      <td>29.190001</td>\n",
       "      <td>29.120001</td>\n",
       "      <td>29.160000</td>\n",
       "      <td>29.160000</td>\n",
       "      <td>398700</td>\n",
       "    </tr>\n",
       "    <tr>\n",
       "      <th>2021-06-16 16:53:00-03:00</th>\n",
       "      <td>29.150000</td>\n",
       "      <td>29.170000</td>\n",
       "      <td>29.139999</td>\n",
       "      <td>29.170000</td>\n",
       "      <td>29.170000</td>\n",
       "      <td>179800</td>\n",
       "    </tr>\n",
       "    <tr>\n",
       "      <th>2021-06-16 16:54:00-03:00</th>\n",
       "      <td>29.160000</td>\n",
       "      <td>29.190001</td>\n",
       "      <td>29.120001</td>\n",
       "      <td>29.139999</td>\n",
       "      <td>29.139999</td>\n",
       "      <td>302900</td>\n",
       "    </tr>\n",
       "    <tr>\n",
       "      <th>2021-06-16 17:00:00-03:00</th>\n",
       "      <td>29.139999</td>\n",
       "      <td>29.139999</td>\n",
       "      <td>29.139999</td>\n",
       "      <td>29.139999</td>\n",
       "      <td>29.139999</td>\n",
       "      <td>0</td>\n",
       "    </tr>\n",
       "  </tbody>\n",
       "</table>\n",
       "<p>408 rows × 6 columns</p>\n",
       "</div>"
      ],
      "text/plain": [
       "                                Open       High        Low      Close  \\\n",
       "Datetime                                                                \n",
       "2021-06-16 10:08:00-03:00  29.080000  29.110001  29.049999  29.110001   \n",
       "2021-06-16 10:09:00-03:00  29.110001  29.180000  29.090000  29.160000   \n",
       "2021-06-16 10:10:00-03:00  29.160000  29.160000  29.070000  29.080000   \n",
       "2021-06-16 10:11:00-03:00  29.080000  29.160000  29.070000  29.150000   \n",
       "2021-06-16 10:12:00-03:00  29.139999  29.139999  29.070000  29.080000   \n",
       "...                              ...        ...        ...        ...   \n",
       "2021-06-16 16:51:00-03:00  29.209999  29.290001  29.180000  29.180000   \n",
       "2021-06-16 16:52:00-03:00  29.190001  29.190001  29.120001  29.160000   \n",
       "2021-06-16 16:53:00-03:00  29.150000  29.170000  29.139999  29.170000   \n",
       "2021-06-16 16:54:00-03:00  29.160000  29.190001  29.120001  29.139999   \n",
       "2021-06-16 17:00:00-03:00  29.139999  29.139999  29.139999  29.139999   \n",
       "\n",
       "                           Adj Close   Volume  \n",
       "Datetime                                       \n",
       "2021-06-16 10:08:00-03:00  29.110001        0  \n",
       "2021-06-16 10:09:00-03:00  29.160000   261300  \n",
       "2021-06-16 10:10:00-03:00  29.080000   212900  \n",
       "2021-06-16 10:11:00-03:00  29.150000    94600  \n",
       "2021-06-16 10:12:00-03:00  29.080000   140100  \n",
       "...                              ...      ...  \n",
       "2021-06-16 16:51:00-03:00  29.180000  1188500  \n",
       "2021-06-16 16:52:00-03:00  29.160000   398700  \n",
       "2021-06-16 16:53:00-03:00  29.170000   179800  \n",
       "2021-06-16 16:54:00-03:00  29.139999   302900  \n",
       "2021-06-16 17:00:00-03:00  29.139999        0  \n",
       "\n",
       "[408 rows x 6 columns]"
      ]
     },
     "execution_count": 15,
     "metadata": {},
     "output_type": "execute_result"
    },
    {
     "data": {
      "text/plain": [
       "<Figure size 432x288 with 0 Axes>"
      ]
     },
     "metadata": {},
     "output_type": "display_data"
    }
   ],
   "source": [
    "get_stock_chart('petr4')"
   ]
  },
  {
   "cell_type": "code",
   "execution_count": 27,
   "metadata": {},
   "outputs": [
    {
     "output_type": "error",
     "ename": "NameError",
     "evalue": "name 'hey' is not defined",
     "traceback": [
      "\u001b[1;31m---------------------------------------------------------------------------\u001b[0m",
      "\u001b[1;31mNameError\u001b[0m                                 Traceback (most recent call last)",
      "\u001b[1;32m<ipython-input-27-b05f0fcf3874>\u001b[0m in \u001b[0;36m<module>\u001b[1;34m\u001b[0m\n\u001b[0;32m      6\u001b[0m \u001b[0mdispatcher\u001b[0m\u001b[1;33m.\u001b[0m\u001b[0madd_handler\u001b[0m\u001b[1;33m(\u001b[0m\u001b[0mCommandHandler\u001b[0m\u001b[1;33m(\u001b[0m\u001b[1;34m\"stock\"\u001b[0m\u001b[1;33m,\u001b[0m \u001b[0mstock\u001b[0m\u001b[1;33m)\u001b[0m\u001b[1;33m)\u001b[0m\u001b[1;33m\u001b[0m\u001b[1;33m\u001b[0m\u001b[0m\n\u001b[0;32m      7\u001b[0m \u001b[0mdispatcher\u001b[0m\u001b[1;33m.\u001b[0m\u001b[0madd_handler\u001b[0m\u001b[1;33m(\u001b[0m\u001b[0mCommandHandler\u001b[0m\u001b[1;33m(\u001b[0m\u001b[1;34m\"chart\"\u001b[0m\u001b[1;33m,\u001b[0m \u001b[0mchart\u001b[0m\u001b[1;33m)\u001b[0m\u001b[1;33m)\u001b[0m\u001b[1;33m\u001b[0m\u001b[1;33m\u001b[0m\u001b[0m\n\u001b[1;32m----> 8\u001b[1;33m \u001b[0mdispatcher\u001b[0m\u001b[1;33m.\u001b[0m\u001b[0madd_handler\u001b[0m\u001b[1;33m(\u001b[0m\u001b[0mCommandHandler\u001b[0m\u001b[1;33m(\u001b[0m\u001b[1;34m\"hey\"\u001b[0m\u001b[1;33m,\u001b[0m \u001b[0mhey\u001b[0m\u001b[1;33m)\u001b[0m\u001b[1;33m)\u001b[0m\u001b[1;33m\u001b[0m\u001b[1;33m\u001b[0m\u001b[0m\n\u001b[0m",
      "\u001b[1;31mNameError\u001b[0m: name 'hey' is not defined"
     ]
    }
   ],
   "source": [
    "dispatcher.add_handler(CommandHandler('hello', hello))\n",
    "dispatcher.add_handler(CommandHandler('dolar', dolar))\n",
    "dispatcher.add_handler(CommandHandler('euro', euro))\n",
    "dispatcher.add_handler(CommandHandler('vilzyn', vilzyn))\n",
    "\n",
    "dispatcher.add_handler(CommandHandler(\"stock\", stock))\n",
    "dispatcher.add_handler(CommandHandler(\"chart\", chart))\n",
    "dispatcher.add_handler(CommandHandler(\"hey\", hey))"
   ]
  },
  {
   "cell_type": "code",
   "execution_count": 17,
   "metadata": {},
   "outputs": [
    {
     "data": {
      "text/plain": [
       "<queue.Queue at 0x20faf0e2070>"
      ]
     },
     "execution_count": 17,
     "metadata": {},
     "output_type": "execute_result"
    },
    {
     "name": "stdout",
     "output_type": "stream",
     "text": [
      "[*********************100%***********************]  1 of 1 completed\n",
      "[*********************100%***********************]  1 of 1 completed\n",
      "[*********************100%***********************]  1 of 1 completed\n",
      "\n",
      "1 Failed download:\n",
      "- VTNC34.SA: No data found, symbol may be delisted\n",
      "[*********************100%***********************]  1 of 1 completed\n",
      "[*********************100%***********************]  1 of 1 completed\n"
     ]
    }
   ],
   "source": [
    "updater.start_polling()"
   ]
  },
  {
   "cell_type": "code",
   "execution_count": null,
   "metadata": {},
   "outputs": [],
   "source": []
  },
  {
   "cell_type": "code",
   "execution_count": null,
   "metadata": {},
   "outputs": [],
   "source": []
  }
 ],
 "metadata": {
  "kernelspec": {
   "name": "python3",
   "display_name": "Python 3.9.5 64-bit"
  },
  "language_info": {
   "codemirror_mode": {
    "name": "ipython",
    "version": 3
   },
   "file_extension": ".py",
   "mimetype": "text/x-python",
   "name": "python",
   "nbconvert_exporter": "python",
   "pygments_lexer": "ipython3",
   "version": "3.9.5"
  },
  "metadata": {
   "interpreter": {
    "hash": "24f9485ab1d10e886103e96fbf8e52828e6fad9414abcc972a2f188dea3be222"
   }
  },
  "interpreter": {
   "hash": "24f9485ab1d10e886103e96fbf8e52828e6fad9414abcc972a2f188dea3be222"
  }
 },
 "nbformat": 4,
 "nbformat_minor": 4
}